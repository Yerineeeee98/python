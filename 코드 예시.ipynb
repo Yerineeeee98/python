{
 "cells": [
  {
   "cell_type": "code",
   "execution_count": 32,
   "id": "4aecdbc0-208e-4e7c-ab3d-5d161b6b4ea0",
   "metadata": {},
   "outputs": [
    {
     "name": "stdout",
     "output_type": "stream",
     "text": [
      "당신은 데프트의 팬입니까?\n"
     ]
    },
    {
     "name": "stdin",
     "output_type": "stream",
     "text": [
      "yes or no yes\n"
     ]
    },
    {
     "name": "stdout",
     "output_type": "stream",
     "text": [
      "언제부터 팬이였습니까?\n"
     ]
    },
    {
     "name": "stdin",
     "output_type": "stream",
     "text": [
      "숫자만 입력하십시오 2022\n"
     ]
    },
    {
     "name": "stdout",
     "output_type": "stream",
     "text": [
      "drx의 팬이셨군용\n"
     ]
    },
    {
     "name": "stdin",
     "output_type": "stream",
     "text": [
      "잘한다고 생각하시나요? yes or no로 대답해주세요 yes\n"
     ]
    },
    {
     "name": "stdout",
     "output_type": "stream",
     "text": [
      "현명하시네요\n"
     ]
    }
   ],
   "source": [
    "print('당신은 데프트의 팬입니까?')\n",
    "answer_1 = input('yes or no')\n",
    "\n",
    "if answer_1 == 'yes' :\n",
    "    print('언제부터 팬이였습니까?')\n",
    "    answer_2 = int(input('숫자만 입력하십시오'))\n",
    "    if answer_2 in [2020, 2022]:\n",
    "        print('drx의 팬이셨군용')\n",
    "    elif answer_2 == 2021:\n",
    "        print('hle의 팬이셨군용')\n",
    "    elif answer_2 == 2023:\n",
    "              print('dk의 팬이셨군용')\n",
    "    elif answer_2 == 2024:\n",
    "              print('kt의 팬이셨군용')\n",
    "    \n",
    "\n",
    "    \n",
    "\n",
    "    while True:\n",
    "        answer_3 = input('잘한다고 생각하시나요? yes or no로 대답해주세요')\n",
    "        \n",
    "        if answer_3 == 'yes':\n",
    "            print('현명하시네요')\n",
    "    \n",
    "            break\n",
    "        print('다시 생각해보세요')\n",
    "        \n",
    "        \n",
    "   \n",
    "    \n",
    "else:\n",
    "      print('인생의 절반을 낭비하셨군용!')\n",
    "                       \n",
    "\n"
   ]
  }
 ],
 "metadata": {
  "kernelspec": {
   "display_name": "Python 3 (ipykernel)",
   "language": "python",
   "name": "python3"
  },
  "language_info": {
   "codemirror_mode": {
    "name": "ipython",
    "version": 3
   },
   "file_extension": ".py",
   "mimetype": "text/x-python",
   "name": "python",
   "nbconvert_exporter": "python",
   "pygments_lexer": "ipython3",
   "version": "3.13.2"
  }
 },
 "nbformat": 4,
 "nbformat_minor": 5
}
