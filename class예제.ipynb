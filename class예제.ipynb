{
 "cells": [
  {
   "cell_type": "code",
   "execution_count": 38,
   "id": "75d88653-48f8-41a6-9656-ddd1ad1654ea",
   "metadata": {},
   "outputs": [],
   "source": [
    "class Baseball:\n",
    "    \n",
    " # 야구의 팀 이름과 선수 이름 그리고 팀의 순위와 선수의 등급을 객체로 만든 다음\n",
    "    # 팀 레벨은 import를 써서 사이트에서 가져오고 싶음 # 나중에\n",
    "    # 선수끼리 자기소개를 하기\n",
    "    # 선수끼리 밥 먹게하기 > 친밀도를 10 높임\n",
    "    # 선수끼리 같이 훈련시키기 > 친밀도를 40 높임\n",
    "    # 선수끼리 같이 술 먹게하기 > 친밀도를 50 높임\n",
    "    # 그렇게 해서 선수끼리 친밀도가 100이 되면 같은 팀 되게 하기\n",
    "    def __init__(self, team_name, player_name, team_rank, player_heart=0):\n",
    "        self.team_name = team_name\n",
    "        self.player_name = player_name\n",
    "        self.team_rank = team_rank # 작년 순위에 맞춰서 하고싶음\n",
    "        self.player_heart = player_heart # 친밀도\n",
    "        \n",
    "\n",
    "    def greeting(self, other):\n",
    "        print(f'안녕하세요 {self.team_name}의 {self.player_name}입니다. 반갑습니다 {other.team_name}의 {other.player_name}님.')\n",
    "\n",
    "    def eat(self, other):\n",
    "        other.player_heart = 10\n",
    "        print(f'{self.player_name}님이 {other.player_name}님에게 식사요청을 했습니다.')\n",
    "        \n",
    "        \n",
    "\n",
    "    def practice(self, other):\n",
    "        other.player_heart = 40\n",
    "        print(f'{self.player_name}님이 {other.player_name}님에게 합동훈련을 요청했습니다.')\n",
    "        \n",
    "\n",
    "    def drink(self, other) :\n",
    "        other.player_heart = 50\n",
    "        print(f'{self.player_name}님이 {other.player_name}님에게 술 한잔을 권했습니다.')\n",
    "        \n",
    "\n",
    "    def final(self, other):\n",
    "        \n",
    "        print(f'{other.player_name}님이 {self.team_name}로 가기로 결정했습니다.')\n",
    "\n",
    "\n",
    "        "
   ]
  },
  {
   "cell_type": "code",
   "execution_count": 39,
   "id": "c4110e31-9e2d-43df-9af7-6effe52c31ca",
   "metadata": {},
   "outputs": [
    {
     "name": "stdout",
     "output_type": "stream",
     "text": [
      "안녕하세요 한화의 문동주입니다. 반갑습니다 기아의 김도영님.\n",
      "문동주님이 김도영님에게 식사요청을 했습니다.\n"
     ]
    }
   ],
   "source": [
    "p1 = Baseball('한화', '문동주' ,'8')\n",
    "p2 = Baseball('기아', '김도영', '1')\n",
    "p1.greeting(p2)\n",
    "p1.eat(p2)\n"
   ]
  },
  {
   "cell_type": "code",
   "execution_count": 40,
   "id": "99add7b4-f9e9-456c-b306-a313b8e7123b",
   "metadata": {},
   "outputs": [
    {
     "name": "stdout",
     "output_type": "stream",
     "text": [
      "문동주님이 김도영님에게 대화를 요청했습니다!\n",
      "안녕하세요 한화의 문동주입니다. 반갑습니다 기아의 김도영님.\n",
      "문동주님이 김도영님에게 식사요청을 했습니다.\n",
      "김도영님의 친밀도가 10으로 올랐습니다\n",
      "문동주님이 김도영님에게 술 한잔을 권했습니다.\n",
      "김도영님의 친밀도가 60으로 올랐습니다\n",
      "문동주님이 김도영님에게 합동훈련을 요청했습니다.\n",
      "김도영님의 친밀도가 100으로 올랐습니다\n",
      "김도영님이 한화로 가기로 결정했습니다.\n"
     ]
    }
   ],
   "source": [
    "# 친밀도가 100이 되면 종료하고싶음\n",
    "import random\n",
    "\n",
    "print(f'{p1.player_name}님이 {p2.player_name}님에게 대화를 요청했습니다!')\n",
    "p1.greeting(p2)\n",
    "friendship = 0\n",
    "while friendship < 100: # 100이 넘으면 종료\n",
    "    num = [1, 2, 3]\n",
    "    select = random.choice(num)\n",
    "    \n",
    "    \n",
    "    if select == 1: \n",
    "         p1.eat(p2)\n",
    "         friendship += p2.player_heart\n",
    "\n",
    "    elif select == 2:\n",
    "        p1.practice(p2)\n",
    "        friendship += p2.player_heart\n",
    "        \n",
    "    elif select == 3:\n",
    "        p1.drink(p2)\n",
    "        friendship += p2.player_heart\n",
    "    \n",
    "    print(f'{p2.player_name}님의 친밀도가 {friendship}으로 올랐습니다')\n",
    "    \n",
    "p1.final(p2)\n"
   ]
  },
  {
   "cell_type": "code",
   "execution_count": null,
   "id": "219de197-af0c-4652-87d3-e59f3f5ab0ce",
   "metadata": {},
   "outputs": [],
   "source": []
  }
 ],
 "metadata": {
  "kernelspec": {
   "display_name": "Python 3 (ipykernel)",
   "language": "python",
   "name": "python3"
  },
  "language_info": {
   "codemirror_mode": {
    "name": "ipython",
    "version": 3
   },
   "file_extension": ".py",
   "mimetype": "text/x-python",
   "name": "python",
   "nbconvert_exporter": "python",
   "pygments_lexer": "ipython3",
   "version": "3.13.2"
  }
 },
 "nbformat": 4,
 "nbformat_minor": 5
}
