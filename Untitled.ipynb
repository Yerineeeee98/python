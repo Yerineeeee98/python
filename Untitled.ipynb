{
 "cells": [
  {
   "cell_type": "code",
   "execution_count": 2,
   "id": "f7dd55e1-b709-4a73-bb18-1a611df714ed",
   "metadata": {},
   "outputs": [],
   "source": [
    "class Myclass():\n",
    "    name = 'yerin'\n",
    "\n",
    "    def hello(self):\n",
    "        return 'hiroo'"
   ]
  },
  {
   "cell_type": "code",
   "execution_count": 4,
   "id": "130c9f91-d937-4876-a565-0d39bdef448b",
   "metadata": {},
   "outputs": [],
   "source": [
    "m = Myclass()"
   ]
  },
  {
   "cell_type": "code",
   "execution_count": 5,
   "id": "496dc095-743d-48df-bf6b-9f7d74bd30ea",
   "metadata": {},
   "outputs": [
    {
     "name": "stdout",
     "output_type": "stream",
     "text": [
      "<__main__.Myclass object at 0x000001A9955E5160>\n",
      "<class '__main__.Myclass'>\n"
     ]
    }
   ],
   "source": [
    "print(m)\n",
    "print(type(m))"
   ]
  },
  {
   "cell_type": "code",
   "execution_count": 6,
   "id": "c0519842-74e1-4f95-9d5d-25dcbc56be53",
   "metadata": {},
   "outputs": [
    {
     "name": "stdout",
     "output_type": "stream",
     "text": [
      "yerin\n",
      "hiroo\n"
     ]
    }
   ],
   "source": [
    "print(m.name)\n",
    "print(m.hello())"
   ]
  },
  {
   "cell_type": "code",
   "execution_count": 7,
   "id": "5b1666fc-5066-4be2-9518-aafdc881772e",
   "metadata": {},
   "outputs": [
    {
     "name": "stdout",
     "output_type": "stream",
     "text": [
      "yerinee\n"
     ]
    }
   ],
   "source": [
    "m.name = 'yerinee'\n",
    "print(m.name)"
   ]
  },
  {
   "cell_type": "code",
   "execution_count": 30,
   "id": "46c09922-8026-4959-91e3-4cbda744cf5d",
   "metadata": {},
   "outputs": [],
   "source": [
    "class Phone():\n",
    "    power = False\n",
    "    number = '010-8456-2260'\n",
    "    book = {}\n",
    "    model = ''\n",
    "\n",
    "    def on(self):\n",
    "        if self.power == False:\n",
    "            self.power = True\n",
    "    def off(self):\n",
    "        if self.power == True:\n",
    "            self.power = False\n",
    "    def call(self, target):\n",
    "        if self.power == True:\n",
    "            print(f'{self.number}가 {target.number}에게 전화 거는중')\n",
    "        else:\n",
    "            print('핸드폰이 꺼져있습니다')\n",
    "    "
   ]
  },
  {
   "cell_type": "code",
   "execution_count": 32,
   "id": "78bcb8c6-bb0e-4ddd-a712-64d8d90f727a",
   "metadata": {},
   "outputs": [],
   "source": [
    "my_phone = Phone()\n",
    "your_phone = Phone()"
   ]
  },
  {
   "cell_type": "code",
   "execution_count": 33,
   "id": "420c20c7-6486-4657-a486-317cc85cf3b3",
   "metadata": {},
   "outputs": [
    {
     "data": {
      "text/plain": [
       "False"
      ]
     },
     "execution_count": 33,
     "metadata": {},
     "output_type": "execute_result"
    }
   ],
   "source": [
    "my_phone.power"
   ]
  },
  {
   "cell_type": "code",
   "execution_count": 34,
   "id": "ba42635e-ac0b-44b4-a996-51e9bfaeb978",
   "metadata": {},
   "outputs": [],
   "source": [
    "my_phone.on()\n"
   ]
  },
  {
   "cell_type": "code",
   "execution_count": 35,
   "id": "d1ccbd9a-7b58-4759-bee0-d00ef3751f4e",
   "metadata": {},
   "outputs": [
    {
     "data": {
      "text/plain": [
       "True"
      ]
     },
     "execution_count": 35,
     "metadata": {},
     "output_type": "execute_result"
    }
   ],
   "source": [
    "my_phone.power"
   ]
  },
  {
   "cell_type": "code",
   "execution_count": 36,
   "id": "6d3fecdf-864c-4242-ad8a-7923f8d1db69",
   "metadata": {},
   "outputs": [
    {
     "name": "stdout",
     "output_type": "stream",
     "text": [
      "010-8456-2260가 010-8456-2260에게 전화 거는중\n"
     ]
    }
   ],
   "source": [
    "my_phone.call(your_phone)"
   ]
  },
  {
   "cell_type": "code",
   "execution_count": 39,
   "id": "db5d8074-b1ec-4d3e-a91b-450e123e2904",
   "metadata": {},
   "outputs": [],
   "source": [
    "class Person():\n",
    "    name = ''\n",
    "    gender = ''\n",
    "    age = 0\n",
    "    height = 0\n",
    "\n",
    "    def greeting(self):\n",
    "        print(f'안녕하세요 저는 {self.name}입니다')\n",
    "\n",
    "    def grow(self):\n",
    "        self.age += 1\n",
    "    def tall(self):\n",
    "        self.height += 10"
   ]
  },
  {
   "cell_type": "code",
   "execution_count": 40,
   "id": "e21de989-682e-4309-9338-53f99b1e5989",
   "metadata": {},
   "outputs": [],
   "source": [
    "p1 = Person()\n",
    "p2 = Person()"
   ]
  },
  {
   "cell_type": "code",
   "execution_count": 41,
   "id": "cbf05d62-dd71-466c-9d11-f3d842fa2a63",
   "metadata": {},
   "outputs": [],
   "source": [
    "p1.name = 'do'\n",
    "p2.name = 'kyu'\n",
    "\n",
    "p1.gender = 'male'\n",
    "p2.gender = 'female'\n",
    "\n",
    "p1.age = 10\n",
    "p2.age = 15\n",
    "\n",
    "p1.height = 180\n",
    "p2.height = 170"
   ]
  },
  {
   "cell_type": "code",
   "execution_count": 42,
   "id": "2c92bfcb-21e5-49a6-8e32-a1fe7c06aea3",
   "metadata": {},
   "outputs": [
    {
     "name": "stdout",
     "output_type": "stream",
     "text": [
      "안녕하세요 저는 do입니다\n",
      "안녕하세요 저는 kyu입니다\n"
     ]
    }
   ],
   "source": [
    "p1.greeting()\n",
    "p2.greeting()"
   ]
  },
  {
   "cell_type": "code",
   "execution_count": 44,
   "id": "65026687-1397-4724-aa4c-764e35c46601",
   "metadata": {},
   "outputs": [],
   "source": [
    "p1.grow()\n"
   ]
  },
  {
   "cell_type": "code",
   "execution_count": 45,
   "id": "60b22394-3a72-44a4-88df-c2f78e2872b4",
   "metadata": {},
   "outputs": [
    {
     "data": {
      "text/plain": [
       "12"
      ]
     },
     "execution_count": 45,
     "metadata": {},
     "output_type": "execute_result"
    }
   ],
   "source": [
    "p1.age"
   ]
  },
  {
   "cell_type": "code",
   "execution_count": 46,
   "id": "4740fd04-96c9-4dc2-bc49-72ea5eed7880",
   "metadata": {},
   "outputs": [],
   "source": [
    "p1.tall()"
   ]
  },
  {
   "cell_type": "code",
   "execution_count": 47,
   "id": "0da5913f-3c55-4635-a0ed-285b927c06c7",
   "metadata": {},
   "outputs": [
    {
     "data": {
      "text/plain": [
       "190"
      ]
     },
     "execution_count": 47,
     "metadata": {},
     "output_type": "execute_result"
    }
   ],
   "source": [
    "p1.height"
   ]
  },
  {
   "cell_type": "code",
   "execution_count": 48,
   "id": "5e28d228-a948-4535-86f2-a6b3318be632",
   "metadata": {},
   "outputs": [],
   "source": [
    "class Person():\n",
    "    name = ''\n",
    "\n",
    "    def __init__(self, name):\n",
    "        self.name = name\n",
    "        print('생성됨')\n",
    "\n",
    "    def __del__(self):\n",
    "        print('소멸됨')"
   ]
  },
  {
   "cell_type": "code",
   "execution_count": 49,
   "id": "f3bbcd45-ab58-4e52-befe-253900b4a5cf",
   "metadata": {},
   "outputs": [
    {
     "name": "stdout",
     "output_type": "stream",
     "text": [
      "생성됨\n",
      "생성됨\n"
     ]
    }
   ],
   "source": [
    "p1 = Person('Min')\n",
    "p2 = Person('Do')"
   ]
  },
  {
   "cell_type": "code",
   "execution_count": 50,
   "id": "85e093b4-4d0f-4e55-8cff-5342a56afa54",
   "metadata": {},
   "outputs": [
    {
     "name": "stdout",
     "output_type": "stream",
     "text": [
      "소멸됨\n"
     ]
    }
   ],
   "source": [
    "del p1"
   ]
  },
  {
   "cell_type": "code",
   "execution_count": 55,
   "id": "3297f4e2-f074-4ad5-b2cf-a629c61396e6",
   "metadata": {},
   "outputs": [],
   "source": [
    "class Circle():\n",
    "    pi = 3.14\n",
    "\n",
    "    def __init__(self, r, x =0, y=0):\n",
    "        self.r = r\n",
    "        self.x = x\n",
    "        self.y = y\n",
    "\n",
    "    def info(self):\n",
    "\n",
    "        print(f'반지름: {self.r}, 중심점: {self.x}, {self.y}')\n",
    "\n",
    "    def area(self):\n",
    "        return self.r ** 2 * self.pi\n",
    "\n",
    "    def round(self):\n",
    "        return self.r * self.pi * 2\n",
    "\n",
    "    def move(self, x, y):\n",
    "        self.x = x\n",
    "        self.y = y\n",
    "    "
   ]
  },
  {
   "cell_type": "code",
   "execution_count": 56,
   "id": "6dff1568-fab5-435f-9361-d35987efcb6d",
   "metadata": {},
   "outputs": [],
   "source": [
    "c1 = Circle(5, 1, 2)"
   ]
  },
  {
   "cell_type": "code",
   "execution_count": 57,
   "id": "086ce1b3-e28f-4334-a8ca-06868f4d1cdd",
   "metadata": {},
   "outputs": [
    {
     "name": "stdout",
     "output_type": "stream",
     "text": [
      "반지름: 5, 중심점: 1, 2\n"
     ]
    }
   ],
   "source": [
    "c1.info()"
   ]
  },
  {
   "cell_type": "code",
   "execution_count": 58,
   "id": "8a8fe10f-4dd5-4e10-b5da-b90c7fb6a2d1",
   "metadata": {},
   "outputs": [
    {
     "data": {
      "text/plain": [
       "78.5"
      ]
     },
     "execution_count": 58,
     "metadata": {},
     "output_type": "execute_result"
    }
   ],
   "source": [
    "c1.area()"
   ]
  },
  {
   "cell_type": "code",
   "execution_count": 59,
   "id": "c3d26162-702a-4b55-8a7b-17d5b3be83dc",
   "metadata": {},
   "outputs": [
    {
     "data": {
      "text/plain": [
       "31.400000000000002"
      ]
     },
     "execution_count": 59,
     "metadata": {},
     "output_type": "execute_result"
    }
   ],
   "source": [
    "c1.round()"
   ]
  },
  {
   "cell_type": "code",
   "execution_count": 61,
   "id": "c1e2e425-4961-4918-973e-904d5514aa58",
   "metadata": {},
   "outputs": [],
   "source": [
    "c1.move(5, 10)"
   ]
  },
  {
   "cell_type": "code",
   "execution_count": 62,
   "id": "f0beb83b-fe26-45f8-9245-104a4405a256",
   "metadata": {},
   "outputs": [
    {
     "name": "stdout",
     "output_type": "stream",
     "text": [
      "반지름: 5, 중심점: 5, 10\n"
     ]
    }
   ],
   "source": [
    "c1.info()"
   ]
  },
  {
   "cell_type": "code",
   "execution_count": 67,
   "id": "a4e7e27d-4f63-4482-98ed-be6d70ff3898",
   "metadata": {},
   "outputs": [],
   "source": [
    "class Puppy():\n",
    "    num_of_puppy = 0\n",
    "\n",
    "    def __init__(self, name):\n",
    "        self.name = name\n",
    "        Puppy.num_of_puppy += 1\n",
    "\n",
    "    @classmethod\n",
    "    def info(cls):\n",
    "        print(f'현재 강아지는 {cls.num_of_puppy}마리 입니다.')\n",
    "\n",
    "    def bark(self):\n",
    "        print(f'나는 {self.name}이다 멍')\n",
    "\n",
    "    @staticmethod\n",
    "    def bark2():\n",
    "        print('멍멍')"
   ]
  },
  {
   "cell_type": "code",
   "execution_count": 68,
   "id": "d3321a90-5e35-4bd1-b711-10a0268cee18",
   "metadata": {},
   "outputs": [],
   "source": [
    "p1 = Puppy('와리')\n",
    "p2 = Puppy('가리')\n",
    "p3 = Puppy('저리')"
   ]
  },
  {
   "cell_type": "code",
   "execution_count": 69,
   "id": "aa5f77c0-d5d9-4f7b-97a2-17f5c3d3603a",
   "metadata": {},
   "outputs": [
    {
     "name": "stdout",
     "output_type": "stream",
     "text": [
      "현재 강아지는 3마리 입니다.\n",
      "나는 와리이다 멍\n",
      "멍멍\n"
     ]
    }
   ],
   "source": [
    "Puppy.info()\n",
    "Puppy.bark(p1)\n",
    "Puppy.bark2()"
   ]
  },
  {
   "cell_type": "code",
   "execution_count": 71,
   "id": "bb058572-546e-4a3b-aaba-28441a7ec7fa",
   "metadata": {},
   "outputs": [],
   "source": [
    "class Person():\n",
    "    ident = ''\n",
    "\n",
    "    def __init__(self, name):\n",
    "        self.name = name\n",
    "    def greeting(self):\n",
    "        print(f'안녕 나는 {self.name}이야')\n",
    "\n",
    "    "
   ]
  },
  {
   "cell_type": "code",
   "execution_count": 73,
   "id": "2e121ee8-d965-42e9-a41a-759f29f56940",
   "metadata": {},
   "outputs": [
    {
     "name": "stdout",
     "output_type": "stream",
     "text": [
      "안녕 나는 예린이야\n"
     ]
    }
   ],
   "source": [
    "p1 = Person('예린')\n",
    "p1.greeting()\n",
    "p1.ident = '123-123'"
   ]
  },
  {
   "cell_type": "code",
   "execution_count": 74,
   "id": "9cec01e1-96d5-4bf5-951c-42b67298431f",
   "metadata": {},
   "outputs": [],
   "source": [
    "class Solider(Person):\n",
    "    def greeting(self):\n",
    "        print(f'충성 {self.name} 입니다!')"
   ]
  },
  {
   "cell_type": "code",
   "execution_count": 76,
   "id": "ecf06c17-b2f3-43fd-bf8a-fdbab2f9e85e",
   "metadata": {},
   "outputs": [
    {
     "name": "stdout",
     "output_type": "stream",
     "text": [
      "충성 굳건이 입니다!\n"
     ]
    }
   ],
   "source": [
    "s1 = Solider('굳건이')\n",
    "s1.greeting()"
   ]
  },
  {
   "cell_type": "code",
   "execution_count": 77,
   "id": "acfdd7c9-a867-43a6-90c2-6057183d8a7e",
   "metadata": {},
   "outputs": [],
   "source": [
    "class Person():\n",
    "    def __init__(self, name, age, email, phone):\n",
    "        self.name = name\n",
    "        self.age = age\n",
    "        self.email = email\n",
    "        self.phone = phone\n",
    "class Student(Person):\n",
    "    def __init__(self, name, age, email, phone, student_id):\n",
    "        super().__init__(name, age, email, phone)\n",
    "        self.student_id = student_id"
   ]
  },
  {
   "cell_type": "code",
   "execution_count": 82,
   "id": "7884a65a-07af-4683-9d21-8971b4136471",
   "metadata": {},
   "outputs": [
    {
     "ename": "TypeError",
     "evalue": "Student.__init__() missing 3 required positional arguments: 'email', 'phone', and 'student_id'",
     "output_type": "error",
     "traceback": [
      "\u001b[1;31m---------------------------------------------------------------------------\u001b[0m",
      "\u001b[1;31mTypeError\u001b[0m                                 Traceback (most recent call last)",
      "Cell \u001b[1;32mIn[82], line 2\u001b[0m\n\u001b[0;32m      1\u001b[0m p1 \u001b[38;5;241m=\u001b[39m Person(\u001b[38;5;124m'\u001b[39m\u001b[38;5;124m예린\u001b[39m\u001b[38;5;124m'\u001b[39m, \u001b[38;5;241m28\u001b[39m, \u001b[38;5;124m'\u001b[39m\u001b[38;5;124mtee\u001b[39m\u001b[38;5;124m'\u001b[39m, \u001b[38;5;241m7770\u001b[39m)\n\u001b[1;32m----> 2\u001b[0m s1 \u001b[38;5;241m=\u001b[39m \u001b[43mStudent\u001b[49m\u001b[43m(\u001b[49m\u001b[43mp1\u001b[49m\u001b[43m,\u001b[49m\u001b[43m \u001b[49m\u001b[38;5;241;43m777\u001b[39;49m\u001b[43m)\u001b[49m\n",
      "\u001b[1;31mTypeError\u001b[0m: Student.__init__() missing 3 required positional arguments: 'email', 'phone', and 'student_id'"
     ]
    }
   ],
   "source": [
    "p1 = Person('예린', 28, 'tee', 7770)\n",
    "s1 = Student(p1.name, 777)"
   ]
  },
  {
   "cell_type": "code",
   "execution_count": null,
   "id": "6c14525a-cc6b-4c05-97da-1a530af67358",
   "metadata": {},
   "outputs": [],
   "source": []
  }
 ],
 "metadata": {
  "kernelspec": {
   "display_name": "Python 3 (ipykernel)",
   "language": "python",
   "name": "python3"
  },
  "language_info": {
   "codemirror_mode": {
    "name": "ipython",
    "version": 3
   },
   "file_extension": ".py",
   "mimetype": "text/x-python",
   "name": "python",
   "nbconvert_exporter": "python",
   "pygments_lexer": "ipython3",
   "version": "3.13.2"
  }
 },
 "nbformat": 4,
 "nbformat_minor": 5
}
