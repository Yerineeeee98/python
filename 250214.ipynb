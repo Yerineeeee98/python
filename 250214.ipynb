{
 "cells": [
  {
   "cell_type": "markdown",
   "id": "6fe07bc3-67ba-47da-a343-944bf45ce135",
   "metadata": {},
   "source": [
    "# 함수"
   ]
  },
  {
   "cell_type": "code",
   "execution_count": 14,
   "id": "7480c9ac-8dcd-4272-aa7f-6ee3504edfbc",
   "metadata": {},
   "outputs": [
    {
     "name": "stdout",
     "output_type": "stream",
     "text": [
      "사각형의 면적은 1000이고 둘레는 140입니다.\n"
     ]
    }
   ],
   "source": [
    "# 사각형의 가로와 세로의 길이를 이용해서 면적과 둘레를 구하는 코드.\n",
    "height = 50\n",
    "width = 20\n",
    "\n",
    "area = height * width\n",
    "perimeter = (height + width) * 2\n",
    "\n",
    "print(f'사각형의 면적은 {area}이고 둘레는 {perimeter}입니다.')"
   ]
  },
  {
   "cell_type": "code",
   "execution_count": 15,
   "id": "deb3ec1b-9a0e-4071-a2f0-633618927e86",
   "metadata": {},
   "outputs": [
    {
     "name": "stdout",
     "output_type": "stream",
     "text": [
      "사각형의 면적은 2500이고 둘레는 200입니다.\n"
     ]
    }
   ],
   "source": [
    "#  사각형의 가로와 세로의 길이를 이용해서 면적과 둘레를 구하는 코드.\n",
    "height2 = 50\n",
    "width2 = 50\n",
    "\n",
    "area2 = height2 * width2\n",
    "perimeter2 = (height2 + width2) * 2\n",
    "\n",
    "print(f'사각형의 면적은 {area2}이고 둘레는 {perimeter2}입니다.')"
   ]
  },
  {
   "cell_type": "code",
   "execution_count": 2,
   "id": "817202f6-c137-4c03-950f-75c2d9adefcf",
   "metadata": {},
   "outputs": [],
   "source": [
    "def my_max2(num1, num2):\n",
    "    if num1 > num2:\n",
    "        return num1\n",
    "    else:\n",
    "        return num2"
   ]
  },
  {
   "cell_type": "code",
   "execution_count": null,
   "id": "a9167aeb-3e7e-4c63-bbc5-78441c22ddb5",
   "metadata": {},
   "outputs": [],
   "source": []
  },
  {
   "cell_type": "code",
   "execution_count": 5,
   "id": "c9aab13e-1837-4230-88e3-cdb83cde9967",
   "metadata": {},
   "outputs": [
    {
     "name": "stdout",
     "output_type": "stream",
     "text": [
      "2\n"
     ]
    }
   ],
   "source": [
    "result = my_max2(1, 2)\n",
    "print(result)"
   ]
  },
  {
   "cell_type": "code",
   "execution_count": 13,
   "id": "927ec607-7e75-49d5-8dee-54c6c2e25417",
   "metadata": {},
   "outputs": [
    {
     "name": "stdout",
     "output_type": "stream",
     "text": [
      "0\n",
      "1\n",
      "2\n",
      "3\n"
     ]
    },
    {
     "data": {
      "text/plain": [
       "3"
      ]
     },
     "execution_count": 13,
     "metadata": {},
     "output_type": "execute_result"
    }
   ],
   "source": [
    "def my_for(x):\n",
    "    for i in range(x):\n",
    "        print(i)\n",
    "        if i == 3:\n",
    "            return i # 원래는 5번 돌아야하는데 return을 만나서 멈추게 됨\n",
    "my_for(5)"
   ]
  },
  {
   "cell_type": "raw",
   "id": "94b279bf-f3d4-4757-9e2b-3d417d4c36b1",
   "metadata": {},
   "source": [
    "def my_def(x):\n",
    "    return x * 2, x  # () =  tuple이라고 생각 - 하나의 객체라고 생각\n",
    "my_def(10)"
   ]
  },
  {
   "cell_type": "code",
   "execution_count": 44,
   "id": "6e0bcefb-562e-4311-bbf7-da04b956c22d",
   "metadata": {},
   "outputs": [],
   "source": [
    "def my_list_max(list1, list2):\n",
    "    # listi1 = [1, 2, 3]\n",
    "    # list2 = [2, 3, 4]\n",
    "\n",
    "    sum_of_list1 = list1[0] + list1[1] + list1[2]\n",
    "    sum_of_list2 = list2[0] + list2[1] + list2[2]\n",
    "\n",
    "    if sum_of_list1 > sum_of_list2:\n",
    "        return listi1\n",
    "    else:\n",
    "        return list2"
   ]
  },
  {
   "cell_type": "code",
   "execution_count": 47,
   "id": "cdaa871c-6cab-4b43-8f7a-24366c6ea90d",
   "metadata": {},
   "outputs": [],
   "source": [
    "# version2\n",
    "def my_list__max(list1, list2):\n",
    "    sum_of_list1 = 0\n",
    "    sum_of_list2 = 0\n",
    "\n",
    "    for item in list1: #list1에 item이 하나씩 접근, 그리고 하나씩 sum_of_list1에 하나씩 더해짐\n",
    "        sum_of_list1 = sum_of_list1 + item\n",
    "\n",
    "\n",
    "    for item in list2:\n",
    "        sum_of_list2 += item\n",
    "\n",
    "    if sum_of_list > sum_of_list2:\n",
    "        return list1\n",
    "    else:\n",
    "        return list2"
   ]
  },
  {
   "cell_type": "code",
   "execution_count": 48,
   "id": "defccbca-0cfa-4dde-bb32-0714e8a02678",
   "metadata": {},
   "outputs": [],
   "source": [
    "# version3\n",
    "def my_list_max(list1, list2):\n",
    "    sum_of_list1 = sum(list1)\n",
    "    sum_of_list1 = sum(list2)\n",
    "\n",
    "    if sum_of_list1 > sum_of_list2:\n",
    "        return list1\n",
    "    else:\n",
    "        return list2"
   ]
  },
  {
   "cell_type": "code",
   "execution_count": 34,
   "id": "8a36b196-e07e-4b81-8543-970fd603ef26",
   "metadata": {},
   "outputs": [
    {
     "data": {
      "text/plain": [
       "[2, 3, 4]"
      ]
     },
     "execution_count": 34,
     "metadata": {},
     "output_type": "execute_result"
    }
   ],
   "source": [
    "my_list_max([1, 2, 3], [2, 3, 4])\n"
   ]
  },
  {
   "cell_type": "markdown",
   "id": "9900afa5-83de-4037-89b8-f37cdb98284e",
   "metadata": {},
   "source": [
    "### 함수의 인수"
   ]
  },
  {
   "cell_type": "markdown",
   "id": "b1d2963e-ce76-49a3-ae6e-3b68b698737d",
   "metadata": {},
   "source": [
    "#### 위치인수\n",
    "- 기본적으로 함수는 위치를 기준으로 인수를 판단합니다.\n"
   ]
  },
  {
   "cell_type": "code",
   "execution_count": 55,
   "id": "187e74e0-1752-4b3b-a7c4-59d3502d9373",
   "metadata": {},
   "outputs": [],
   "source": [
    "def cylinder(r, h):\n",
    "    # r = 3\n",
    "    # h = 10\n",
    "    return 3.14 * r ** 2 *h"
   ]
  },
  {
   "cell_type": "code",
   "execution_count": 52,
   "id": "31761268-8c31-4c32-97c2-f7f9e3857bd1",
   "metadata": {},
   "outputs": [
    {
     "data": {
      "text/plain": [
       "282.6"
      ]
     },
     "execution_count": 52,
     "metadata": {},
     "output_type": "execute_result"
    }
   ],
   "source": [
    "cylinder(3, 10)"
   ]
  },
  {
   "cell_type": "code",
   "execution_count": 54,
   "id": "7d34df90-249e-4c06-962a-15f6e9c817a2",
   "metadata": {},
   "outputs": [
    {
     "data": {
      "text/plain": [
       "942.0"
      ]
     },
     "execution_count": 54,
     "metadata": {},
     "output_type": "execute_result"
    }
   ],
   "source": [
    "cylinder(10, 3)"
   ]
  },
  {
   "cell_type": "markdown",
   "id": "6141202b-8ea9-4bc7-a209-d3910856e74e",
   "metadata": {},
   "source": [
    "#### 기본값\n",
    "```python\n",
    "def func_name(p1=v1):\n",
    "    code1\n",
    "    return value\n",
    "\n",
    "```\n"
   ]
  },
  {
   "cell_type": "code",
   "execution_count": 64,
   "id": "29bfa47a-6606-4d4e-95a2-666e83d19716",
   "metadata": {},
   "outputs": [],
   "source": [
    "def greeting(name='익명'):  # '익명'은 값이 들어가도 되고 안들어가도 될 때 쓰기, 만약 '익명'을 뺀다면 greeting()함수는 작동하지 않게 됨\n",
    "    return f'{name}님 반갑습니다.'"
   ]
  },
  {
   "cell_type": "code",
   "execution_count": 63,
   "id": "67a737ec-f32d-496f-bec3-66db48a96e88",
   "metadata": {},
   "outputs": [
    {
     "data": {
      "text/plain": [
       "'익명님 반갑습니다.'"
      ]
     },
     "execution_count": 63,
     "metadata": {},
     "output_type": "execute_result"
    }
   ],
   "source": [
    "greeting()"
   ]
  },
  {
   "cell_type": "code",
   "execution_count": 72,
   "id": "8cc1316f-d56d-4351-8f49-3d0536d65611",
   "metadata": {},
   "outputs": [
    {
     "name": "stdout",
     "output_type": "stream",
     "text": [
      "안녕하세요+++반갑습니다!!!!\n",
      "저는 민예린입니다.\n"
     ]
    }
   ],
   "source": [
    "print('안녕하세요', '반갑습니다', sep='+++', end='!!!!\\n')\n",
    "print('저는 민예린입니다.')"
   ]
  },
  {
   "cell_type": "code",
   "execution_count": 74,
   "id": "03802a87-087e-4ce4-a067-dd66cb01763e",
   "metadata": {},
   "outputs": [],
   "source": [
    "def greeting(name, age):\n",
    "    return f'{name}님의 나이는 {age}살입니다.'"
   ]
  },
  {
   "cell_type": "code",
   "execution_count": 75,
   "id": "ac06a4a2-5e87-4570-82ea-2eceecdcffa4",
   "metadata": {},
   "outputs": [
    {
     "data": {
      "text/plain": [
       "'길동님의 나이는 10살입니다.'"
      ]
     },
     "execution_count": 75,
     "metadata": {},
     "output_type": "execute_result"
    }
   ],
   "source": [
    "greeting('길동', '10')"
   ]
  },
  {
   "cell_type": "code",
   "execution_count": 77,
   "id": "59cd3972-21d1-47c7-b6b7-5ca89d8bf126",
   "metadata": {},
   "outputs": [],
   "source": [
    "#  def greeting(name='익명', age): # 오류가 남 > greeting(10)을 하게 되면 10이 첫번쨰 name으로 들어가려고 함 \n",
    "    # return f'{name}님의 나이는 {age}살입니다.'"
   ]
  },
  {
   "cell_type": "code",
   "execution_count": 79,
   "id": "07bc2c1e-5fc2-4d1c-9e38-4251a7c1f1db",
   "metadata": {},
   "outputs": [],
   "source": [
    "def greeting(age, name='익명'):\n",
    "    return f'{name}님의 나이는 {age}살입니다.'"
   ]
  },
  {
   "cell_type": "code",
   "execution_count": 81,
   "id": "d88ec856-df25-4a79-9ea3-1d818e4de431",
   "metadata": {},
   "outputs": [
    {
     "data": {
      "text/plain": [
       "'익명님의 나이는 10살입니다.'"
      ]
     },
     "execution_count": 81,
     "metadata": {},
     "output_type": "execute_result"
    }
   ],
   "source": [
    "greeting('길동', 10)\n",
    "greeting(10)"
   ]
  },
  {
   "cell_type": "markdown",
   "id": "44909a45-a703-4efe-93f4-1d64d5222c0f",
   "metadata": {},
   "source": [
    "#### 키워드 인수\n",
    "- 함수를 호출(실행)할 떄 내가 원하는 위치에 직접적을 값을 전달"
   ]
  },
  {
   "cell_type": "code",
   "execution_count": 85,
   "id": "0093d493-78c3-42aa-aa8d-bc88742976a4",
   "metadata": {},
   "outputs": [],
   "source": [
    "def greeting(age, name='익명'):\n",
    "    return f'{name}님의 나이는 {age}살입니다.'"
   ]
  },
  {
   "cell_type": "code",
   "execution_count": 86,
   "id": "626e0abb-8a36-435c-9df7-08a44659e500",
   "metadata": {},
   "outputs": [
    {
     "data": {
      "text/plain": [
       "'길동님의 나이는 10살입니다.'"
      ]
     },
     "execution_count": 86,
     "metadata": {},
     "output_type": "execute_result"
    }
   ],
   "source": [
    "greeting(10, '길동')\n",
    "greeting(10)\n",
    "greeting(name='길동', age=10)"
   ]
  },
  {
   "cell_type": "markdown",
   "id": "c620b118-7ab3-4e32-92fd-827726ddd3c4",
   "metadata": {},
   "source": [
    "#### 가변인자 리스트(parms)\n",
    "```\n",
    "def func_name(*parms):\n",
    "    code\n",
    "    ...\n",
    "    return value\n",
    "```"
   ]
  },
  {
   "cell_type": "code",
   "execution_count": 90,
   "id": "2394e15c-f576-45f7-b7a2-af52ef6071e9",
   "metadata": {},
   "outputs": [],
   "source": [
    "def my_print(*words):   # words에 데이터를 받을건데 몇개의 데이터가 들어오든 상관없이 다 출력하는 것\n",
    "    print(words)\n"
   ]
  },
  {
   "cell_type": "code",
   "execution_count": 93,
   "id": "634700da-3b81-4813-9963-f99c2ecbc506",
   "metadata": {},
   "outputs": [
    {
     "name": "stdout",
     "output_type": "stream",
     "text": [
      "('my', 'name', 'is')\n"
     ]
    }
   ],
   "source": [
    "my_print('my', 'name', 'is')"
   ]
  },
  {
   "cell_type": "code",
   "execution_count": 94,
   "id": "91aa6fec-17af-46dd-8615-75365c24d5e9",
   "metadata": {},
   "outputs": [
    {
     "data": {
      "text/plain": [
       "7"
      ]
     },
     "execution_count": 94,
     "metadata": {},
     "output_type": "execute_result"
    }
   ],
   "source": [
    "max(1,2,3,4,5,6,7)"
   ]
  },
  {
   "cell_type": "code",
   "execution_count": 105,
   "id": "df7779b5-2084-4d0d-af6e-ab9295081e2f",
   "metadata": {},
   "outputs": [],
   "source": [
    "def my_max(*nums):\n",
    "    # return max(nums)\n",
    "    # max_num = 0 (양수에선 상관없지만 음수에서는 오류가 남)\n",
    "    max_num = numbers[0]\n",
    "    \n",
    "    for number in nums:\n",
    "        if max_num < number :\n",
    "            max_num = number\n",
    "    return max_num \n",
    "    "
   ]
  },
  {
   "cell_type": "code",
   "execution_count": 103,
   "id": "f1892a85-146e-4e09-bac4-c6b9036e1a0e",
   "metadata": {},
   "outputs": [
    {
     "data": {
      "text/plain": [
       "7"
      ]
     },
     "execution_count": 103,
     "metadata": {},
     "output_type": "execute_result"
    }
   ],
   "source": [
    "my_max(1, 2, 3, 4, 5, 6, 7)"
   ]
  },
  {
   "cell_type": "code",
   "execution_count": 104,
   "id": "6f5ae458-2220-4957-ba4d-a071d3e0089d",
   "metadata": {},
   "outputs": [
    {
     "data": {
      "text/plain": [
       "0"
      ]
     },
     "execution_count": 104,
     "metadata": {},
     "output_type": "execute_result"
    }
   ],
   "source": [
    "my_max(-1, -2, -3, -4)"
   ]
  },
  {
   "cell_type": "code",
   "execution_count": null,
   "id": "bde1f116-a060-4ba2-98a2-1e8a6cb48ee6",
   "metadata": {},
   "outputs": [],
   "source": []
  }
 ],
 "metadata": {
  "kernelspec": {
   "display_name": "Python 3 (ipykernel)",
   "language": "python",
   "name": "python3"
  },
  "language_info": {
   "codemirror_mode": {
    "name": "ipython",
    "version": 3
   },
   "file_extension": ".py",
   "mimetype": "text/x-python",
   "name": "python",
   "nbconvert_exporter": "python",
   "pygments_lexer": "ipython3",
   "version": "3.13.2"
  }
 },
 "nbformat": 4,
 "nbformat_minor": 5
}
