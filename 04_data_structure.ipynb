{
 "cells": [
  {
   "cell_type": "markdown",
   "id": "1ab554dc-4989-42a8-a0a6-6626769b2c3f",
   "metadata": {},
   "source": [
    "# 자료구조\n",
    "> 여러가지 자료구조가 가지고 있는 메소드(함수) 알아보기"
   ]
  },
  {
   "cell_type": "code",
   "execution_count": 4,
   "id": "30950994-47e8-4550-9336-ba3b0f1d0849",
   "metadata": {},
   "outputs": [
    {
     "name": "stdout",
     "output_type": "stream",
     "text": [
      "['__add__', '__class__', '__contains__', '__delattr__', '__dir__', '__doc__', '__eq__', '__format__', '__ge__', '__getattribute__', '__getitem__', '__getnewargs__', '__getstate__', '__gt__', '__hash__', '__init__', '__init_subclass__', '__iter__', '__le__', '__len__', '__lt__', '__mod__', '__mul__', '__ne__', '__new__', '__reduce__', '__reduce_ex__', '__repr__', '__rmod__', '__rmul__', '__setattr__', '__sizeof__', '__str__', '__subclasshook__', 'capitalize', 'casefold', 'center', 'count', 'encode', 'endswith', 'expandtabs', 'find', 'format', 'format_map', 'index', 'isalnum', 'isalpha', 'isascii', 'isdecimal', 'isdigit', 'isidentifier', 'islower', 'isnumeric', 'isprintable', 'isspace', 'istitle', 'isupper', 'join', 'ljust', 'lower', 'lstrip', 'maketrans', 'partition', 'removeprefix', 'removesuffix', 'replace', 'rfind', 'rindex', 'rjust', 'rpartition', 'rsplit', 'rstrip', 'split', 'splitlines', 'startswith', 'strip', 'swapcase', 'title', 'translate', 'upper', 'zfill']\n"
     ]
    }
   ],
   "source": [
    "print(dir('hello'))"
   ]
  },
  {
   "cell_type": "markdown",
   "id": "f19b072d-9845-4102-aeb3-552ff3bf0da2",
   "metadata": {},
   "source": [
    "## 문자열 메소드"
   ]
  },
  {
   "cell_type": "markdown",
   "id": "dac4a8c8-daf6-4b32-bf2d-c0d55a24da04",
   "metadata": {},
   "source": []
  },
  {
   "cell_type": "code",
   "execution_count": 7,
   "id": "fab0b063-4cee-45b6-b32d-23701744469f",
   "metadata": {},
   "outputs": [],
   "source": [
    "a = 'hello my name is hong'"
   ]
  },
  {
   "cell_type": "code",
   "execution_count": 9,
   "id": "38adf6dc-dc0e-4d9a-b8ad-93b522c3ad02",
   "metadata": {},
   "outputs": [
    {
     "name": "stdout",
     "output_type": "stream",
     "text": [
      "hello my name is hong\n"
     ]
    }
   ],
   "source": [
    "print(a)"
   ]
  },
  {
   "cell_type": "code",
   "execution_count": 11,
   "id": "d6cd45d1-ded6-4338-8ee0-8da8bed1154a",
   "metadata": {},
   "outputs": [
    {
     "ename": "TypeError",
     "evalue": "'str' object does not support item assignment",
     "output_type": "error",
     "traceback": [
      "\u001b[1;31m---------------------------------------------------------------------------\u001b[0m",
      "\u001b[1;31mTypeError\u001b[0m                                 Traceback (most recent call last)",
      "Cell \u001b[1;32mIn[11], line 1\u001b[0m\n\u001b[1;32m----> 1\u001b[0m \u001b[43ma\u001b[49m\u001b[43m[\u001b[49m\u001b[38;5;241;43m0\u001b[39;49m\u001b[43m]\u001b[49m \u001b[38;5;241m=\u001b[39m \u001b[38;5;124m'\u001b[39m\u001b[38;5;124mH\u001b[39m\u001b[38;5;124m'\u001b[39m\n",
      "\u001b[1;31mTypeError\u001b[0m: 'str' object does not support item assignment"
     ]
    }
   ],
   "source": [
    "a[0] = 'H'"
   ]
  },
  {
   "cell_type": "code",
   "execution_count": 14,
   "id": "85121d7b-49d1-41a5-871e-e65f4311ec74",
   "metadata": {},
   "outputs": [
    {
     "data": {
      "text/plain": [
       "'Hello my name is hong'"
      ]
     },
     "execution_count": 14,
     "metadata": {},
     "output_type": "execute_result"
    }
   ],
   "source": [
    "a.capitalize() # 대문자로 바꾸기 a.은 a안에 들어있는 함수를 capitalize"
   ]
  },
  {
   "cell_type": "code",
   "execution_count": 18,
   "id": "f4b04714-b063-4790-afcd-9a5683b75e53",
   "metadata": {},
   "outputs": [
    {
     "data": {
      "text/plain": [
       "'Hello my name is hong'"
      ]
     },
     "execution_count": 18,
     "metadata": {},
     "output_type": "execute_result"
    }
   ],
   "source": [
    " 'hello my name is hong'.capitalize() # 시작 글자만 대문자로 바꾸기, 데이터가 바뀌는건 아니고 return이 되는거임"
   ]
  },
  {
   "cell_type": "code",
   "execution_count": 20,
   "id": "7458a086-657b-4d1e-93b2-d43e962b3723",
   "metadata": {},
   "outputs": [
    {
     "data": {
      "text/plain": [
       "'Hello My Name Is Hong'"
      ]
     },
     "execution_count": 20,
     "metadata": {},
     "output_type": "execute_result"
    }
   ],
   "source": [
    "a.title() #각각의 시작되는 단어를 대문자로 바꾸기"
   ]
  },
  {
   "cell_type": "code",
   "execution_count": 24,
   "id": "3799c2fe-1357-4df6-bb41-0c10cdbce08d",
   "metadata": {},
   "outputs": [
    {
     "data": {
      "text/plain": [
       "'hello my name is hong'"
      ]
     },
     "execution_count": 24,
     "metadata": {},
     "output_type": "execute_result"
    }
   ],
   "source": [
    "a.lower() # 모든 문자를 소문자로 바꾸기"
   ]
  },
  {
   "cell_type": "code",
   "execution_count": 25,
   "id": "e4a47ebe-ddc7-4185-8fb9-19c6ea0ad20e",
   "metadata": {},
   "outputs": [
    {
     "data": {
      "text/plain": [
       "'HELLO MY NAME IS HONG'"
      ]
     },
     "execution_count": 25,
     "metadata": {},
     "output_type": "execute_result"
    }
   ],
   "source": [
    "a.upper() # 모든 문자를 대문자로 바꾸기"
   ]
  },
  {
   "cell_type": "code",
   "execution_count": 32,
   "id": "c1217650-5bc6-45b3-81e8-dbfcace24518",
   "metadata": {},
   "outputs": [
    {
     "data": {
      "text/plain": [
       "'my!name!is'"
      ]
     },
     "execution_count": 32,
     "metadata": {},
     "output_type": "execute_result"
    }
   ],
   "source": [
    "my_list = ['my', 'name', 'is']\n",
    "'!'.join(my_list) # join은 ()에 ''를 하나로 합치다"
   ]
  },
  {
   "cell_type": "code",
   "execution_count": 33,
   "id": "88309c70-5c34-4405-ae93-53bc6fc0a1c2",
   "metadata": {},
   "outputs": [
    {
     "data": {
      "text/plain": [
       "'배?고?프?다'"
      ]
     },
     "execution_count": 33,
     "metadata": {},
     "output_type": "execute_result"
    }
   ],
   "source": [
    "'?'.join('배고프다')"
   ]
  },
  {
   "cell_type": "code",
   "execution_count": 37,
   "id": "18fc4d7f-1b41-4906-aafc-0e5b2d3dc7e5",
   "metadata": {},
   "outputs": [
    {
     "name": "stdout",
     "output_type": "stream",
     "text": [
      "              hello           \n",
      "\n",
      "31\n"
     ]
    }
   ],
   "source": [
    "a = '              hello           \\n'\n",
    "print(a)\n",
    "print(len(a))\n",
    "# 문자열 중간에 공백을 없애는게 가장 중요"
   ]
  },
  {
   "cell_type": "code",
   "execution_count": 40,
   "id": "12411485-b073-4bbe-9074-0b05802d3602",
   "metadata": {},
   "outputs": [
    {
     "data": {
      "text/plain": [
       "'hello'"
      ]
     },
     "execution_count": 40,
     "metadata": {},
     "output_type": "execute_result"
    }
   ],
   "source": [
    "a.strip() # 좌우에 공백을 없애 줌 그리고 \\t \\n도 지워줌"
   ]
  },
  {
   "cell_type": "code",
   "execution_count": 44,
   "id": "b15f9042-7413-46eb-973c-002513bae21a",
   "metadata": {},
   "outputs": [
    {
     "data": {
      "text/plain": [
       "'hello?????????'"
      ]
     },
     "execution_count": 44,
     "metadata": {},
     "output_type": "execute_result"
    }
   ],
   "source": [
    "a = '!!!!!!!!hello?????????'\n",
    "a.strip('!') # ()안에 내가 원하는 문자를 지우고싶으면 ()에 포함하면 됨\n",
    "\n",
    "# def strip(char=' ')"
   ]
  },
  {
   "cell_type": "code",
   "execution_count": 48,
   "id": "f9e645f9-84dc-47b6-875d-bd6278fd5cd3",
   "metadata": {},
   "outputs": [
    {
     "data": {
      "text/plain": [
       "'------------hello'"
      ]
     },
     "execution_count": 48,
     "metadata": {},
     "output_type": "execute_result"
    }
   ],
   "source": [
    "a = '------------hello--------'\n",
    "a.lstrip('-') # lstrip은 l왼쪽에 있는 글자만 지우기\n",
    "a.rstrip('-') # rstrip 은 r오른쪽에 있는 글자만 지우기"
   ]
  },
  {
   "cell_type": "code",
   "execution_count": 54,
   "id": "ca977417-27ea-496d-91c2-467133ce5c5d",
   "metadata": {},
   "outputs": [
    {
     "data": {
      "text/plain": [
       "'w!!!oooow'"
      ]
     },
     "execution_count": 54,
     "metadata": {},
     "output_type": "execute_result"
    }
   ],
   "source": [
    "a = 'wooooooow'\n",
    "a.replace('o', '!', 3) # 바꾸는 함수 두개의 정보가 필요함 (바꾸는 함수, 바꿀함수) 3은 앞에서부터 몇번 바꿀지 결정"
   ]
  },
  {
   "cell_type": "code",
   "execution_count": 61,
   "id": "abfb188b-5b15-4dcd-a8a1-5b197d7e2205",
   "metadata": {},
   "outputs": [
    {
     "data": {
      "text/plain": [
       "-1"
      ]
     },
     "execution_count": 61,
     "metadata": {},
     "output_type": "execute_result"
    }
   ],
   "source": [
    "a = 'apple'\n",
    "a.find('a') # 0이 나옴\n",
    "a.find('l') # 3이 나옴(인덱스 번호)\n",
    "a.find('p') # 1이 나옴 (맨 처음 번호)\n",
    "a.find('z') # -1이 나옴(없다는 뜻)"
   ]
  },
  {
   "cell_type": "code",
   "execution_count": 64,
   "id": "c45350c0-b1d7-42a6-bd35-acb9fc36243f",
   "metadata": {},
   "outputs": [
    {
     "data": {
      "text/plain": [
       "3"
      ]
     },
     "execution_count": 64,
     "metadata": {},
     "output_type": "execute_result"
    }
   ],
   "source": [
    "a = 'apple'\n",
    "a.index('a')\n",
    "a.index('l')\n",
    "# a.index('p') ## 여기까지는 find와 똑같음\n",
    "# a.index('z') # 이건 오류가 남 왜냐면 index는 내가 찾는 코드가 없으면 코드를 종료시킴"
   ]
  },
  {
   "cell_type": "code",
   "execution_count": 68,
   "id": "5df5f3ab-874d-4956-a349-8b8661be7678",
   "metadata": {},
   "outputs": [
    {
     "data": {
      "text/plain": [
       "['my', 'name', 'is', 'hong']"
      ]
     },
     "execution_count": 68,
     "metadata": {},
     "output_type": "execute_result"
    }
   ],
   "source": [
    "a = 'my name is hong'\n",
    "a.split() # 띄어쓰기 기준으로 다 잘라줘서 결과를 list로 만들어서 사용자에게 보여줌\n"
   ]
  },
  {
   "cell_type": "code",
   "execution_count": 72,
   "id": "38520269-c690-4c5b-8006-9c9f4dc07831",
   "metadata": {},
   "outputs": [
    {
     "data": {
      "text/plain": [
       "['my', 'name', 'is?hong']"
      ]
     },
     "execution_count": 72,
     "metadata": {},
     "output_type": "execute_result"
    }
   ],
   "source": [
    "a = 'my!name!is?hong'\n",
    "a.split('!')"
   ]
  },
  {
   "cell_type": "code",
   "execution_count": 74,
   "id": "b7b58f40-5bec-4fb0-a756-8dbf958d8619",
   "metadata": {},
   "outputs": [
    {
     "data": {
      "text/plain": [
       "10"
      ]
     },
     "execution_count": 74,
     "metadata": {},
     "output_type": "execute_result"
    }
   ],
   "source": [
    "a = 'woooooooooow'\n",
    "a.count('o') # o가 몇개인지 세는 함수"
   ]
  },
  {
   "cell_type": "code",
   "execution_count": 76,
   "id": "e8290a2a-2795-40ec-b549-3d63389da384",
   "metadata": {},
   "outputs": [],
   "source": [
    "# 메소드는 외워서 하기보다는 필요하면 검색해서 찾아보기"
   ]
  },
  {
   "cell_type": "markdown",
   "id": "ff6c536d-28a0-4e80-9c06-b18a53e5139a",
   "metadata": {},
   "source": [
    "# 리스트 메소드"
   ]
  },
  {
   "cell_type": "code",
   "execution_count": 79,
   "id": "6e0c36a7-7749-4924-a524-fa2506f0b5d0",
   "metadata": {},
   "outputs": [],
   "source": [
    "numbers = [1, 2, 3, 7 ,9, 77, 456]"
   ]
  },
  {
   "cell_type": "code",
   "execution_count": 87,
   "id": "67d2369c-c77b-4248-91cb-0a945a76843e",
   "metadata": {},
   "outputs": [
    {
     "name": "stdout",
     "output_type": "stream",
     "text": [
      "[1, 2, 3, 7, 9, 77, 456, 10, 10, 10, 99, 100, 99, 100, 10]\n"
     ]
    }
   ],
   "source": [
    "numbers.append(10)\n",
    "print(numbers) # 10을 추가하는 메소드 (하나의 데이터를 추가할때)"
   ]
  },
  {
   "cell_type": "code",
   "execution_count": 84,
   "id": "43cbdcdb-64b6-4c6d-b0a9-d2abfb862991",
   "metadata": {},
   "outputs": [],
   "source": [
    "a = [99, 100]"
   ]
  },
  {
   "cell_type": "code",
   "execution_count": 86,
   "id": "478d6f59-795d-4787-942e-4f5f2252f8fc",
   "metadata": {},
   "outputs": [
    {
     "name": "stdout",
     "output_type": "stream",
     "text": [
      "[1, 2, 3, 7, 9, 77, 456, 10, 10, 10, 99, 100, 99, 100]\n"
     ]
    }
   ],
   "source": [
    "numbers.extend(a) # 여러개의 데이터를 추가할때 > numbers + a\n",
    "print(numbers)"
   ]
  },
  {
   "cell_type": "code",
   "execution_count": 91,
   "id": "60169420-b661-4633-9c4e-44398266abb4",
   "metadata": {},
   "outputs": [
    {
     "name": "stdout",
     "output_type": "stream",
     "text": [
      "[1, 2, 3, 55, 55, 55, 7, 9, 77, 456, 10, 10, 10, 99, 100, 99, 100, 10, 5]\n"
     ]
    }
   ],
   "source": [
    "numbers.insert(3, 55) # 3번째에 숫자 55 집어넣기\n",
    "print(numbers)"
   ]
  },
  {
   "cell_type": "code",
   "execution_count": 97,
   "id": "11097bd7-77bc-4b78-92ad-ed0fa6440020",
   "metadata": {},
   "outputs": [
    {
     "name": "stdout",
     "output_type": "stream",
     "text": [
      "[1, 2, 55, 7, 9, 77, 456, 10, 10, 10, 99, 100, 99, 100, 10, 5]\n"
     ]
    }
   ],
   "source": [
    "# 첫번쨰 x를 찾아서 제거, 없으면 오류\n",
    "numbers.remove(55) # 55을 지우는 메소드\n",
    "print(numbers)"
   ]
  },
  {
   "cell_type": "code",
   "execution_count": 100,
   "id": "2d94e30e-1b11-43cf-9b64-83c18012323a",
   "metadata": {},
   "outputs": [
    {
     "name": "stdout",
     "output_type": "stream",
     "text": [
      "[1, 2, 55, 7, 9, 77, 456, 10, 10, 10, 99, 100, 99]\n"
     ]
    }
   ],
   "source": [
    "numbers.pop() # 맨마지막 데이터를 지울 때 사용\n",
    "print(numbers)"
   ]
  },
  {
   "cell_type": "code",
   "execution_count": 102,
   "id": "fd46340b-3508-4315-969e-b516a8c6899a",
   "metadata": {},
   "outputs": [
    {
     "name": "stdout",
     "output_type": "stream",
     "text": [
      "[55, 7, 9, 77, 456, 10, 10, 10, 99, 100, 99]\n"
     ]
    }
   ],
   "source": [
    "numbers.pop(0) # 맨 앞의 데이터 삭제\n",
    "print(numbers)"
   ]
  },
  {
   "cell_type": "code",
   "execution_count": 105,
   "id": "f60b87b9-8aa0-4d7a-9d36-3a3d18b49b33",
   "metadata": {},
   "outputs": [
    {
     "name": "stdout",
     "output_type": "stream",
     "text": [
      "[7, 9, 10, 10, 10, 55, 77, 99, 99, 100, 456]\n"
     ]
    }
   ],
   "source": [
    "numbers.sort() # 오름차순으로 정렬\n",
    "print(numbers)"
   ]
  },
  {
   "cell_type": "code",
   "execution_count": 107,
   "id": "c28b9b9e-ad3f-4657-a873-a60e617495c9",
   "metadata": {},
   "outputs": [
    {
     "name": "stdout",
     "output_type": "stream",
     "text": [
      "[456, 100, 99, 99, 77, 55, 10, 10, 10, 9, 7]\n"
     ]
    }
   ],
   "source": [
    "numbers.sort(reverse=True) # 역순으로 만들기\n",
    "print(numbers)"
   ]
  },
  {
   "cell_type": "code",
   "execution_count": 110,
   "id": "cbdae3eb-b053-4626-984c-70f58da64c11",
   "metadata": {},
   "outputs": [
    {
     "name": "stdout",
     "output_type": "stream",
     "text": [
      "[7, 9, 10, 10, 10, 55, 77, 99, 99, 100, 456]\n",
      "[456, 100, 99, 99, 77, 55, 10, 10, 10, 9, 7]\n"
     ]
    }
   ],
   "source": [
    "print(sorted(numbers)) # sorted는 원본을 바꾸지 않음\n",
    "print(numbers) # sort는 원본을 바꿈 위에 그래도 출력"
   ]
  },
  {
   "cell_type": "code",
   "execution_count": 111,
   "id": "78e572fc-24ce-4660-8038-14948e2ebe16",
   "metadata": {},
   "outputs": [
    {
     "name": "stdout",
     "output_type": "stream",
     "text": [
      "[4, 5, 6, 7, 8, 12]\n",
      "[4, 5, 8, 7, 6, 12]\n"
     ]
    }
   ],
   "source": [
    "a = [4, 5, 8, 7, 6, 12]\n",
    "print(sorted(a))\n",
    "print(a)"
   ]
  },
  {
   "cell_type": "code",
   "execution_count": 113,
   "id": "3bad06b5-0c02-44db-9891-c38a077463d8",
   "metadata": {},
   "outputs": [
    {
     "name": "stdout",
     "output_type": "stream",
     "text": [
      "['a', 'b', 'e', 'o', 'z', '가', '히']\n"
     ]
    }
   ],
   "source": [
    "my_list = ['a', '히', 'e','가', 'o', 'b', 'z']\n",
    "my_list.sort()\n",
    "print(my_list)"
   ]
  },
  {
   "cell_type": "code",
   "execution_count": 115,
   "id": "fb779237-fb12-4c65-96f1-55f7789eeef3",
   "metadata": {},
   "outputs": [
    {
     "name": "stdout",
     "output_type": "stream",
     "text": [
      "[7, 9, 10, 10, 10, 55, 77, 99, 99, 100, 456]\n",
      "[456, 100, 99, 99, 77, 55, 10, 10, 10, 9, 7]\n"
     ]
    }
   ],
   "source": [
    "print(numbers)\n",
    "numbers.reverse() # 정렬이 되어있지 않아도 정렬 할 수 있음 (45445121) > (12154454)\n",
    "print(numbers)"
   ]
  },
  {
   "cell_type": "code",
   "execution_count": 116,
   "id": "522ab715-619d-4ef6-b4f7-1cc66603b9e1",
   "metadata": {},
   "outputs": [
    {
     "data": {
      "text/plain": [
       "3"
      ]
     },
     "execution_count": 116,
     "metadata": {},
     "output_type": "execute_result"
    }
   ],
   "source": [
    "numbers.count(10)"
   ]
  },
  {
   "cell_type": "markdown",
   "id": "0b8235c5-461d-4fe4-9dc7-315837ed7b64",
   "metadata": {},
   "source": [
    "### list copy"
   ]
  },
  {
   "cell_type": "code",
   "execution_count": 123,
   "id": "f5e5d8e5-bb34-41e5-be29-eca82570151a",
   "metadata": {},
   "outputs": [],
   "source": [
    "origin_list = [1, 2, 3]\n",
    "copy_list = origin_list"
   ]
  },
  {
   "cell_type": "code",
   "execution_count": 124,
   "id": "85130b7f-478c-4cd3-aa4a-a93f5e089503",
   "metadata": {},
   "outputs": [
    {
     "name": "stdout",
     "output_type": "stream",
     "text": [
      "[1, 2, 3]\n",
      "[1, 2, 3]\n"
     ]
    }
   ],
   "source": [
    "print(origin_list)\n",
    "print(copy_list)"
   ]
  },
  {
   "cell_type": "code",
   "execution_count": 127,
   "id": "75731fd8-d022-4516-96f5-af09bd0730e9",
   "metadata": {},
   "outputs": [
    {
     "name": "stdout",
     "output_type": "stream",
     "text": [
      "[100, 2, 3]\n",
      "[100, 2, 3]\n"
     ]
    }
   ],
   "source": [
    "copy_list[0] = 100\n",
    "print(origin_list) # origin_list만 바꿔도 copy_list도 바뀜\n",
    "print(copy_list)"
   ]
  },
  {
   "cell_type": "code",
   "execution_count": 130,
   "id": "3afe20b1-dec6-48ad-92b2-12885dc60e32",
   "metadata": {},
   "outputs": [
    {
     "name": "stdout",
     "output_type": "stream",
     "text": [
      "[100, 2, 3]\n",
      "[100, 2, 3]\n"
     ]
    }
   ],
   "source": [
    "# python tutor 돌려보기\n",
    "origin_list = [1, 2, 3]\n",
    "copy_list = origin_list\n",
    "copy_list[0] = 100\n",
    "print(origin_list)\n",
    "print(copy_list)"
   ]
  },
  {
   "cell_type": "code",
   "execution_count": 135,
   "id": "c30d6cea-68dd-475d-a278-d59df80edc70",
   "metadata": {},
   "outputs": [
    {
     "name": "stdout",
     "output_type": "stream",
     "text": [
      "[1, 2, 3]\n",
      "[100, 2, 3]\n"
     ]
    }
   ],
   "source": [
    "origin_list = [1, 2, 3]\n",
    "copy_list = origin_list[:] # ? 먼소리임..., \n",
    "\n",
    "copy_list[0] = 100\n",
    "\n",
    "print(origin_list)\n",
    "print(copy_list)"
   ]
  },
  {
   "cell_type": "code",
   "execution_count": 136,
   "id": "5a6e7c61-de02-47e7-95de-359bad1f621b",
   "metadata": {},
   "outputs": [
    {
     "name": "stdout",
     "output_type": "stream",
     "text": [
      "[1, 2, [-10, 11]]\n",
      "[100, 2, [-10, 11]]\n"
     ]
    }
   ],
   "source": [
    "o_l = [1, 2, [10, 11]]\n",
    "c_l = o_l[:]\n",
    "\n",
    "c_l[0] = 100\n",
    "c_l[2][0] = -10\n",
    "\n",
    "print(o_l)\n",
    "print(c_l)"
   ]
  },
  {
   "cell_type": "code",
   "execution_count": 141,
   "id": "218d43fa-28a1-410c-ac26-72026438dff3",
   "metadata": {},
   "outputs": [
    {
     "name": "stdout",
     "output_type": "stream",
     "text": [
      "[1, 2, [10, 11]]\n",
      "[100, 2, [10, -11]]\n"
     ]
    }
   ],
   "source": [
    "# 원본은 바꾸지 않고 복사본만 바꾸고 싶을 때\n",
    "import copy \n",
    "o_l = [1, 2, [10, 11]]\n",
    "c_l = copy.deepcopy(o_l)\n",
    "\n",
    "c_l[0] = 100\n",
    "c_l[2][1] = -11\n",
    "\n",
    "print(o_l)\n",
    "print(c_l)\n"
   ]
  },
  {
   "cell_type": "markdown",
   "id": "451ab61f-ed98-4f31-9fef-d356baeae9c6",
   "metadata": {},
   "source": [
    "## list comperhension"
   ]
  },
  {
   "cell_type": "code",
   "execution_count": 142,
   "id": "f4e6ee60-bd5e-4815-9ce0-a645e44de191",
   "metadata": {},
   "outputs": [
    {
     "name": "stdout",
     "output_type": "stream",
     "text": [
      "[1, 2, 3, 4, 5, 6, 7, 8, 9, 10]\n"
     ]
    }
   ],
   "source": [
    "numbers = list(range(1, 11))\n",
    "print(numbers)"
   ]
  },
  {
   "cell_type": "code",
   "execution_count": 145,
   "id": "92c31350-fcb9-4e7a-a53e-c06d0eded092",
   "metadata": {},
   "outputs": [
    {
     "name": "stdout",
     "output_type": "stream",
     "text": [
      "[1, 8, 27, 64, 125, 216, 343, 512, 729, 1000]\n"
     ]
    }
   ],
   "source": [
    "result = []\n",
    "\n",
    "for number in numbers:\n",
    "    temp = number ** 3\n",
    "    result.append(temp)\n",
    "\n",
    "print(result)"
   ]
  },
  {
   "cell_type": "code",
   "execution_count": 148,
   "id": "9b3e5dc2-3a60-4609-b8c1-8cd577407470",
   "metadata": {},
   "outputs": [
    {
     "name": "stdout",
     "output_type": "stream",
     "text": [
      "[1, 8, 27, 64, 125, 216, 343, 512, 729, 1000]\n"
     ]
    }
   ],
   "source": [
    "result = [number ** 3 for number in numbers] # for문을 기준으로 앞 뒤로 나눠서 \n",
    "# result = [number1 ** 3, number2 ** 3,...]\n",
    "print(result)"
   ]
  },
  {
   "cell_type": "code",
   "execution_count": 151,
   "id": "e2823023-da45-4540-af5e-c4c7a8d25612",
   "metadata": {},
   "outputs": [
    {
     "name": "stdout",
     "output_type": "stream",
     "text": [
      "[1, 2, 3, 4, 5, 6, 7, 8, 9, 10, 11, 12, 13, 14, 15, 16, 17, 18, 19, 20, 21, 22, 23, 24, 25, 26, 27, 28, 29, 30]\n",
      "[2, 4, 6, 8, 10, 12, 14, 16, 18, 20, 22, 24, 26, 28, 30]\n"
     ]
    }
   ],
   "source": [
    "# 짝수만 고르기\n",
    "numbers = list(range(1, 31))\n",
    "print(numbers)\n",
    "\n",
    "result = []\n",
    "for number in numbers:\n",
    "    if number % 2 == 0:\n",
    "        result.append(number)\n",
    "\n",
    "print(result)"
   ]
  },
  {
   "cell_type": "code",
   "execution_count": 155,
   "id": "53d9aced-20b0-4cee-93be-5a7fa54220bf",
   "metadata": {},
   "outputs": [
    {
     "name": "stdout",
     "output_type": "stream",
     "text": [
      "[4, 8, 12, 16, 20, 24, 28, 32, 36, 40, 44, 48, 52, 56, 60]\n"
     ]
    }
   ],
   "source": [
    "numbers = list(range(1, 31))\n",
    "\n",
    "result = [number * 2 for number in numbers if number % 2 ==0]\n",
    "          #3번째로 실행 | for문이 1번쨰로 실행| if문이 2번쨰로 실행\n",
    "print(result)"
   ]
  },
  {
   "cell_type": "code",
   "execution_count": 157,
   "id": "bf23fe83-5ced-4a6c-915b-81c8724fbd28",
   "metadata": {},
   "outputs": [],
   "source": [
    "# 연습문제 모음제거\n",
    "words = 'my name is hong'\n",
    "\n",
    "# = > my nm s hng ae i o"
   ]
  },
  {
   "cell_type": "code",
   "execution_count": 200,
   "id": "2569df7f-f6ef-4365-8a34-873dfbb330be",
   "metadata": {},
   "outputs": [
    {
     "name": "stdout",
     "output_type": "stream",
     "text": [
      "['m', 'y', ' ', 'n', 'm', ' ', 's', ' ', 'h', 'n', 'g']\n",
      "my nm s hng\n"
     ]
    }
   ],
   "source": [
    "# 1. for / if\n",
    "\n",
    "# for word in words:\n",
    "#     if word in ['a', 'e', 'i','o','u']:\n",
    "#          words.strip('a')\n",
    "\n",
    "# print(words)\n",
    "\n",
    "vowels = ['a', 'e', 'i', 'o', 'u']\n",
    "result = []\n",
    "for char in words:\n",
    "    if char in ['a', 'e', 'i', 'o', 'u']:\n",
    "        pass\n",
    "    else:\n",
    "        result.append(char)  # 자음만 꺼내기\n",
    "\n",
    "print(result)\n",
    "print(''.join(result))"
   ]
  },
  {
   "cell_type": "code",
   "execution_count": 205,
   "id": "48b81d5b-bb2b-4045-8c7c-494b4209f258",
   "metadata": {},
   "outputs": [
    {
     "name": "stdout",
     "output_type": "stream",
     "text": [
      "['m', 'y', ' ', 'n', 'm', ' ', 's', ' ', 'h', 'n', 'g']\n",
      "my nm s hng\n"
     ]
    }
   ],
   "source": [
    "vowels = ['a', 'e', 'i', 'o', 'u']\n",
    "result = [] # 데이터를 초기화 해놓고 밑에서 반복문을 거치면서 데이터를 하나하나 쌓는 느낌\n",
    "for char in words:\n",
    "    if char not in ['a', 'e', 'i', 'o', 'u']:   #aeiou로 대체도 가능\n",
    "        result.append(char)  # 자음인 경우\n",
    "    else:\n",
    "        pass\n",
    "          # 자음만 꺼내기\n",
    "\n",
    "print(result)\n",
    "print(''.join(result))"
   ]
  },
  {
   "cell_type": "code",
   "execution_count": null,
   "id": "95b345e2-0b51-4442-91dd-809776526819",
   "metadata": {},
   "outputs": [],
   "source": [
    "# 문자열을 제거하긴 어려우니깐 대신 꺼내는 느낌으로"
   ]
  },
  {
   "cell_type": "code",
   "execution_count": 208,
   "id": "f3b09b3d-b396-44c8-a458-aee0478668fa",
   "metadata": {},
   "outputs": [
    {
     "name": "stdout",
     "output_type": "stream",
     "text": [
      "['m', 'y', ' ', 'n', 'm', ' ', 's', ' ', 'h', 'n', 'g']\n",
      "my nm s hng\n"
     ]
    }
   ],
   "source": [
    "# 2. list comperhensive\n",
    "\n",
    "result = [word for word in words if word not in ['a', 'e', 'i','o', 'u']]\n",
    "\n",
    "print(result)\n",
    "print(''.join(result)) # 빈 문자열 ('')을 기준으로 이어붙이기"
   ]
  },
  {
   "cell_type": "code",
   "execution_count": 222,
   "id": "430a424b-3073-45e4-8f43-84d37e40da7a",
   "metadata": {},
   "outputs": [
    {
     "name": "stdout",
     "output_type": "stream",
     "text": [
      "my name is hong\n"
     ]
    }
   ],
   "source": [
    "words = 'my name is hong'\n",
    "result = []\n",
    "for word in words:\n",
    "    if word in ['a', 'e', 'i','o','u']:\n",
    "         result = words.strip('a') # 처음에 result - list였지만 여기서 문자열로 바뀌면서 list가 깨지게 됨\n",
    "\n",
    "print(result)"
   ]
  },
  {
   "cell_type": "code",
   "execution_count": 219,
   "id": "b027fe7c-15f1-4a34-a446-b8f3f3521a70",
   "metadata": {},
   "outputs": [
    {
     "name": "stdout",
     "output_type": "stream",
     "text": [
      "my nm s hng\n"
     ]
    }
   ],
   "source": [
    "# 3. replace 메소드\n",
    "vowels = 'aeiou'\n",
    "# 문자열(str)은 replace()나 strip()을 써도 원본이 변경되지 않고 새로운 문자열을 반환해.\n",
    "for char in vowels:  \n",
    "    # words.replace(char, '') # replace는 str 원본에 영향을 주지 않기 때문에 다시 저장해야 함\n",
    "       words = words.replace(char, '')\n",
    "print(words)"
   ]
  }
 ],
 "metadata": {
  "kernelspec": {
   "display_name": "Python 3 (ipykernel)",
   "language": "python",
   "name": "python3"
  },
  "language_info": {
   "codemirror_mode": {
    "name": "ipython",
    "version": 3
   },
   "file_extension": ".py",
   "mimetype": "text/x-python",
   "name": "python",
   "nbconvert_exporter": "python",
   "pygments_lexer": "ipython3",
   "version": "3.13.2"
  }
 },
 "nbformat": 4,
 "nbformat_minor": 5
}
