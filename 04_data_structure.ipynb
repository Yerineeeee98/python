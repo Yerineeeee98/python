{
 "cells": [
  {
   "cell_type": "markdown",
   "id": "1ab554dc-4989-42a8-a0a6-6626769b2c3f",
   "metadata": {},
   "source": [
    "# 자료구조\n",
    "> 여러가지 자료구조가 가지고 있는 메소드(함수) 알아보기"
   ]
  },
  {
   "cell_type": "code",
   "execution_count": 4,
   "id": "30950994-47e8-4550-9336-ba3b0f1d0849",
   "metadata": {},
   "outputs": [
    {
     "name": "stdout",
     "output_type": "stream",
     "text": [
      "['__add__', '__class__', '__contains__', '__delattr__', '__dir__', '__doc__', '__eq__', '__format__', '__ge__', '__getattribute__', '__getitem__', '__getnewargs__', '__getstate__', '__gt__', '__hash__', '__init__', '__init_subclass__', '__iter__', '__le__', '__len__', '__lt__', '__mod__', '__mul__', '__ne__', '__new__', '__reduce__', '__reduce_ex__', '__repr__', '__rmod__', '__rmul__', '__setattr__', '__sizeof__', '__str__', '__subclasshook__', 'capitalize', 'casefold', 'center', 'count', 'encode', 'endswith', 'expandtabs', 'find', 'format', 'format_map', 'index', 'isalnum', 'isalpha', 'isascii', 'isdecimal', 'isdigit', 'isidentifier', 'islower', 'isnumeric', 'isprintable', 'isspace', 'istitle', 'isupper', 'join', 'ljust', 'lower', 'lstrip', 'maketrans', 'partition', 'removeprefix', 'removesuffix', 'replace', 'rfind', 'rindex', 'rjust', 'rpartition', 'rsplit', 'rstrip', 'split', 'splitlines', 'startswith', 'strip', 'swapcase', 'title', 'translate', 'upper', 'zfill']\n"
     ]
    }
   ],
   "source": [
    "print(dir('hello'))"
   ]
  },
  {
   "cell_type": "markdown",
   "id": "f19b072d-9845-4102-aeb3-552ff3bf0da2",
   "metadata": {},
   "source": [
    "## 문자열 메소드"
   ]
  },
  {
   "cell_type": "markdown",
   "id": "dac4a8c8-daf6-4b32-bf2d-c0d55a24da04",
   "metadata": {},
   "source": []
  },
  {
   "cell_type": "code",
   "execution_count": 7,
   "id": "fab0b063-4cee-45b6-b32d-23701744469f",
   "metadata": {},
   "outputs": [],
   "source": [
    "a = 'hello my name is hong'"
   ]
  },
  {
   "cell_type": "code",
   "execution_count": 9,
   "id": "38adf6dc-dc0e-4d9a-b8ad-93b522c3ad02",
   "metadata": {},
   "outputs": [
    {
     "name": "stdout",
     "output_type": "stream",
     "text": [
      "hello my name is hong\n"
     ]
    }
   ],
   "source": [
    "print(a)"
   ]
  },
  {
   "cell_type": "code",
   "execution_count": 11,
   "id": "d6cd45d1-ded6-4338-8ee0-8da8bed1154a",
   "metadata": {},
   "outputs": [
    {
     "ename": "TypeError",
     "evalue": "'str' object does not support item assignment",
     "output_type": "error",
     "traceback": [
      "\u001b[1;31m---------------------------------------------------------------------------\u001b[0m",
      "\u001b[1;31mTypeError\u001b[0m                                 Traceback (most recent call last)",
      "Cell \u001b[1;32mIn[11], line 1\u001b[0m\n\u001b[1;32m----> 1\u001b[0m \u001b[43ma\u001b[49m\u001b[43m[\u001b[49m\u001b[38;5;241;43m0\u001b[39;49m\u001b[43m]\u001b[49m \u001b[38;5;241m=\u001b[39m \u001b[38;5;124m'\u001b[39m\u001b[38;5;124mH\u001b[39m\u001b[38;5;124m'\u001b[39m\n",
      "\u001b[1;31mTypeError\u001b[0m: 'str' object does not support item assignment"
     ]
    }
   ],
   "source": [
    "a[0] = 'H'"
   ]
  },
  {
   "cell_type": "code",
   "execution_count": 14,
   "id": "85121d7b-49d1-41a5-871e-e65f4311ec74",
   "metadata": {},
   "outputs": [
    {
     "data": {
      "text/plain": [
       "'Hello my name is hong'"
      ]
     },
     "execution_count": 14,
     "metadata": {},
     "output_type": "execute_result"
    }
   ],
   "source": [
    "a.capitalize() # 대문자로 바꾸기 a.은 a안에 들어있는 함수를 capitalize"
   ]
  },
  {
   "cell_type": "code",
   "execution_count": 18,
   "id": "f4b04714-b063-4790-afcd-9a5683b75e53",
   "metadata": {},
   "outputs": [
    {
     "data": {
      "text/plain": [
       "'Hello my name is hong'"
      ]
     },
     "execution_count": 18,
     "metadata": {},
     "output_type": "execute_result"
    }
   ],
   "source": [
    " 'hello my name is hong'.capitalize() # 시작 글자만 대문자로 바꾸기, 데이터가 바뀌는건 아니고 return이 되는거임"
   ]
  },
  {
   "cell_type": "code",
   "execution_count": 20,
   "id": "7458a086-657b-4d1e-93b2-d43e962b3723",
   "metadata": {},
   "outputs": [
    {
     "data": {
      "text/plain": [
       "'Hello My Name Is Hong'"
      ]
     },
     "execution_count": 20,
     "metadata": {},
     "output_type": "execute_result"
    }
   ],
   "source": [
    "a.title() #각각의 시작되는 단어를 대문자로 바꾸기"
   ]
  },
  {
   "cell_type": "code",
   "execution_count": 24,
   "id": "3799c2fe-1357-4df6-bb41-0c10cdbce08d",
   "metadata": {},
   "outputs": [
    {
     "data": {
      "text/plain": [
       "'hello my name is hong'"
      ]
     },
     "execution_count": 24,
     "metadata": {},
     "output_type": "execute_result"
    }
   ],
   "source": [
    "a.lower() # 모든 문자를 소문자로 바꾸기"
   ]
  },
  {
   "cell_type": "code",
   "execution_count": 25,
   "id": "e4a47ebe-ddc7-4185-8fb9-19c6ea0ad20e",
   "metadata": {},
   "outputs": [
    {
     "data": {
      "text/plain": [
       "'HELLO MY NAME IS HONG'"
      ]
     },
     "execution_count": 25,
     "metadata": {},
     "output_type": "execute_result"
    }
   ],
   "source": [
    "a.upper() # 모든 문자를 대문자로 바꾸기"
   ]
  },
  {
   "cell_type": "code",
   "execution_count": 32,
   "id": "c1217650-5bc6-45b3-81e8-dbfcace24518",
   "metadata": {},
   "outputs": [
    {
     "data": {
      "text/plain": [
       "'my!name!is'"
      ]
     },
     "execution_count": 32,
     "metadata": {},
     "output_type": "execute_result"
    }
   ],
   "source": [
    "my_list = ['my', 'name', 'is']\n",
    "'!'.join(my_list) # join은 ()에 ''를 하나로 합치다"
   ]
  },
  {
   "cell_type": "code",
   "execution_count": 33,
   "id": "88309c70-5c34-4405-ae93-53bc6fc0a1c2",
   "metadata": {},
   "outputs": [
    {
     "data": {
      "text/plain": [
       "'배?고?프?다'"
      ]
     },
     "execution_count": 33,
     "metadata": {},
     "output_type": "execute_result"
    }
   ],
   "source": [
    "'?'.join('배고프다')"
   ]
  },
  {
   "cell_type": "code",
   "execution_count": 37,
   "id": "18fc4d7f-1b41-4906-aafc-0e5b2d3dc7e5",
   "metadata": {},
   "outputs": [
    {
     "name": "stdout",
     "output_type": "stream",
     "text": [
      "              hello           \n",
      "\n",
      "31\n"
     ]
    }
   ],
   "source": [
    "a = '              hello           \\n'\n",
    "print(a)\n",
    "print(len(a))\n",
    "# 문자열 중간에 공백을 없애는게 가장 중요"
   ]
  },
  {
   "cell_type": "code",
   "execution_count": 40,
   "id": "12411485-b073-4bbe-9074-0b05802d3602",
   "metadata": {},
   "outputs": [
    {
     "data": {
      "text/plain": [
       "'hello'"
      ]
     },
     "execution_count": 40,
     "metadata": {},
     "output_type": "execute_result"
    }
   ],
   "source": [
    "a.strip() # 좌우에 공백을 없애 줌 그리고 \\t \\n도 지워줌"
   ]
  },
  {
   "cell_type": "code",
   "execution_count": 44,
   "id": "b15f9042-7413-46eb-973c-002513bae21a",
   "metadata": {},
   "outputs": [
    {
     "data": {
      "text/plain": [
       "'hello?????????'"
      ]
     },
     "execution_count": 44,
     "metadata": {},
     "output_type": "execute_result"
    }
   ],
   "source": [
    "a = '!!!!!!!!hello?????????'\n",
    "a.strip('!') # ()안에 내가 원하는 문자를 지우고싶으면 ()에 포함하면 됨\n",
    "\n",
    "# def strip(char=' ')"
   ]
  },
  {
   "cell_type": "code",
   "execution_count": 48,
   "id": "f9e645f9-84dc-47b6-875d-bd6278fd5cd3",
   "metadata": {},
   "outputs": [
    {
     "data": {
      "text/plain": [
       "'------------hello'"
      ]
     },
     "execution_count": 48,
     "metadata": {},
     "output_type": "execute_result"
    }
   ],
   "source": [
    "a = '------------hello--------'\n",
    "a.lstrip('-') # lstrip은 l왼쪽에 있는 글자만 지우기\n",
    "a.rstrip('-') # rstrip 은 r오른쪽에 있는 글자만 지우기"
   ]
  },
  {
   "cell_type": "code",
   "execution_count": 54,
   "id": "ca977417-27ea-496d-91c2-467133ce5c5d",
   "metadata": {},
   "outputs": [
    {
     "data": {
      "text/plain": [
       "'w!!!oooow'"
      ]
     },
     "execution_count": 54,
     "metadata": {},
     "output_type": "execute_result"
    }
   ],
   "source": [
    "a = 'wooooooow'\n",
    "a.replace('o', '!', 3) # 바꾸는 함수 두개의 정보가 필요함 (바꾸는 함수, 바꿀함수) 3은 앞에서부터 몇번 바꿀지 결정"
   ]
  },
  {
   "cell_type": "code",
   "execution_count": 61,
   "id": "abfb188b-5b15-4dcd-a8a1-5b197d7e2205",
   "metadata": {},
   "outputs": [
    {
     "data": {
      "text/plain": [
       "-1"
      ]
     },
     "execution_count": 61,
     "metadata": {},
     "output_type": "execute_result"
    }
   ],
   "source": [
    "a = 'apple'\n",
    "a.find('a') # 0이 나옴\n",
    "a.find('l') # 3이 나옴(인덱스 번호)\n",
    "a.find('p') # 1이 나옴 (맨 처음 번호)\n",
    "a.find('z') # -1이 나옴(없다는 뜻)"
   ]
  },
  {
   "cell_type": "code",
   "execution_count": 64,
   "id": "c45350c0-b1d7-42a6-bd35-acb9fc36243f",
   "metadata": {},
   "outputs": [
    {
     "data": {
      "text/plain": [
       "3"
      ]
     },
     "execution_count": 64,
     "metadata": {},
     "output_type": "execute_result"
    }
   ],
   "source": [
    "a = 'apple'\n",
    "a.index('a')\n",
    "a.index('l')\n",
    "# a.index('p') ## 여기까지는 find와 똑같음\n",
    "# a.index('z') # 이건 오류가 남 왜냐면 index는 내가 찾는 코드가 없으면 코드를 종료시킴"
   ]
  },
  {
   "cell_type": "code",
   "execution_count": 68,
   "id": "5df5f3ab-874d-4956-a349-8b8661be7678",
   "metadata": {},
   "outputs": [
    {
     "data": {
      "text/plain": [
       "['my', 'name', 'is', 'hong']"
      ]
     },
     "execution_count": 68,
     "metadata": {},
     "output_type": "execute_result"
    }
   ],
   "source": [
    "a = 'my name is hong'\n",
    "a.split() # 띄어쓰기 기준으로 다 잘라줘서 결과를 list로 만들어서 사용자에게 보여줌\n"
   ]
  },
  {
   "cell_type": "code",
   "execution_count": 72,
   "id": "38520269-c690-4c5b-8006-9c9f4dc07831",
   "metadata": {},
   "outputs": [
    {
     "data": {
      "text/plain": [
       "['my', 'name', 'is?hong']"
      ]
     },
     "execution_count": 72,
     "metadata": {},
     "output_type": "execute_result"
    }
   ],
   "source": [
    "a = 'my!name!is?hong'\n",
    "a.split('!')"
   ]
  },
  {
   "cell_type": "code",
   "execution_count": 74,
   "id": "b7b58f40-5bec-4fb0-a756-8dbf958d8619",
   "metadata": {},
   "outputs": [
    {
     "data": {
      "text/plain": [
       "10"
      ]
     },
     "execution_count": 74,
     "metadata": {},
     "output_type": "execute_result"
    }
   ],
   "source": [
    "a = 'woooooooooow'\n",
    "a.count('o') # o가 몇개인지 세는 함수"
   ]
  },
  {
   "cell_type": "code",
   "execution_count": 76,
   "id": "e8290a2a-2795-40ec-b549-3d63389da384",
   "metadata": {},
   "outputs": [],
   "source": [
    "# 메소드는 외워서 하기보다는 필요하면 검색해서 찾아보기"
   ]
  },
  {
   "cell_type": "markdown",
   "id": "ff6c536d-28a0-4e80-9c06-b18a53e5139a",
   "metadata": {},
   "source": [
    "# 리스트 메소드"
   ]
  },
  {
   "cell_type": "code",
   "execution_count": 79,
   "id": "6e0c36a7-7749-4924-a524-fa2506f0b5d0",
   "metadata": {},
   "outputs": [],
   "source": [
    "numbers = [1, 2, 3, 7 ,9, 77, 456]"
   ]
  },
  {
   "cell_type": "code",
   "execution_count": 87,
   "id": "67d2369c-c77b-4248-91cb-0a945a76843e",
   "metadata": {},
   "outputs": [
    {
     "name": "stdout",
     "output_type": "stream",
     "text": [
      "[1, 2, 3, 7, 9, 77, 456, 10, 10, 10, 99, 100, 99, 100, 10]\n"
     ]
    }
   ],
   "source": [
    "numbers.append(10)\n",
    "print(numbers) # 10을 추가하는 메소드 (하나의 데이터를 추가할때)"
   ]
  },
  {
   "cell_type": "code",
   "execution_count": 84,
   "id": "43cbdcdb-64b6-4c6d-b0a9-d2abfb862991",
   "metadata": {},
   "outputs": [],
   "source": [
    "a = [99, 100]"
   ]
  },
  {
   "cell_type": "code",
   "execution_count": 86,
   "id": "478d6f59-795d-4787-942e-4f5f2252f8fc",
   "metadata": {},
   "outputs": [
    {
     "name": "stdout",
     "output_type": "stream",
     "text": [
      "[1, 2, 3, 7, 9, 77, 456, 10, 10, 10, 99, 100, 99, 100]\n"
     ]
    }
   ],
   "source": [
    "numbers.extend(a) # 여러개의 데이터를 추가할때 > numbers + a\n",
    "print(numbers)"
   ]
  },
  {
   "cell_type": "code",
   "execution_count": 91,
   "id": "60169420-b661-4633-9c4e-44398266abb4",
   "metadata": {},
   "outputs": [
    {
     "name": "stdout",
     "output_type": "stream",
     "text": [
      "[1, 2, 3, 55, 55, 55, 7, 9, 77, 456, 10, 10, 10, 99, 100, 99, 100, 10, 5]\n"
     ]
    }
   ],
   "source": [
    "numbers.insert(3, 55) # 3번째에 숫자 55 집어넣기\n",
    "print(numbers)"
   ]
  },
  {
   "cell_type": "code",
   "execution_count": 97,
   "id": "11097bd7-77bc-4b78-92ad-ed0fa6440020",
   "metadata": {},
   "outputs": [
    {
     "name": "stdout",
     "output_type": "stream",
     "text": [
      "[1, 2, 55, 7, 9, 77, 456, 10, 10, 10, 99, 100, 99, 100, 10, 5]\n"
     ]
    }
   ],
   "source": [
    "# 첫번쨰 x를 찾아서 제거, 없으면 오류\n",
    "numbers.remove(55) # 55을 지우는 메소드\n",
    "print(numbers)"
   ]
  },
  {
   "cell_type": "code",
   "execution_count": 100,
   "id": "2d94e30e-1b11-43cf-9b64-83c18012323a",
   "metadata": {},
   "outputs": [
    {
     "name": "stdout",
     "output_type": "stream",
     "text": [
      "[1, 2, 55, 7, 9, 77, 456, 10, 10, 10, 99, 100, 99]\n"
     ]
    }
   ],
   "source": [
    "numbers.pop() # 맨마지막 데이터를 지울 때 사용\n",
    "print(numbers)"
   ]
  },
  {
   "cell_type": "code",
   "execution_count": 102,
   "id": "fd46340b-3508-4315-969e-b516a8c6899a",
   "metadata": {},
   "outputs": [
    {
     "name": "stdout",
     "output_type": "stream",
     "text": [
      "[55, 7, 9, 77, 456, 10, 10, 10, 99, 100, 99]\n"
     ]
    }
   ],
   "source": [
    "numbers.pop(0) # 맨 앞의 데이터 삭제\n",
    "print(numbers)"
   ]
  },
  {
   "cell_type": "code",
   "execution_count": 105,
   "id": "f60b87b9-8aa0-4d7a-9d36-3a3d18b49b33",
   "metadata": {},
   "outputs": [
    {
     "name": "stdout",
     "output_type": "stream",
     "text": [
      "[7, 9, 10, 10, 10, 55, 77, 99, 99, 100, 456]\n"
     ]
    }
   ],
   "source": [
    "numbers.sort() # 오름차순으로 정렬\n",
    "print(numbers)"
   ]
  },
  {
   "cell_type": "code",
   "execution_count": 107,
   "id": "c28b9b9e-ad3f-4657-a873-a60e617495c9",
   "metadata": {},
   "outputs": [
    {
     "name": "stdout",
     "output_type": "stream",
     "text": [
      "[456, 100, 99, 99, 77, 55, 10, 10, 10, 9, 7]\n"
     ]
    }
   ],
   "source": [
    "numbers.sort(reverse=True) # 역순으로 만들기\n",
    "print(numbers)"
   ]
  },
  {
   "cell_type": "code",
   "execution_count": 110,
   "id": "cbdae3eb-b053-4626-984c-70f58da64c11",
   "metadata": {},
   "outputs": [
    {
     "name": "stdout",
     "output_type": "stream",
     "text": [
      "[7, 9, 10, 10, 10, 55, 77, 99, 99, 100, 456]\n",
      "[456, 100, 99, 99, 77, 55, 10, 10, 10, 9, 7]\n"
     ]
    }
   ],
   "source": [
    "print(sorted(numbers)) # sorted는 원본을 바꾸지 않음\n",
    "print(numbers) # sort는 원본을 바꿈 위에 그래도 출력"
   ]
  },
  {
   "cell_type": "code",
   "execution_count": 111,
   "id": "78e572fc-24ce-4660-8038-14948e2ebe16",
   "metadata": {},
   "outputs": [
    {
     "name": "stdout",
     "output_type": "stream",
     "text": [
      "[4, 5, 6, 7, 8, 12]\n",
      "[4, 5, 8, 7, 6, 12]\n"
     ]
    }
   ],
   "source": [
    "a = [4, 5, 8, 7, 6, 12]\n",
    "print(sorted(a))\n",
    "print(a)"
   ]
  },
  {
   "cell_type": "code",
   "execution_count": 113,
   "id": "3bad06b5-0c02-44db-9891-c38a077463d8",
   "metadata": {},
   "outputs": [
    {
     "name": "stdout",
     "output_type": "stream",
     "text": [
      "['a', 'b', 'e', 'o', 'z', '가', '히']\n"
     ]
    }
   ],
   "source": [
    "my_list = ['a', '히', 'e','가', 'o', 'b', 'z']\n",
    "my_list.sort()\n",
    "print(my_list)"
   ]
  },
  {
   "cell_type": "code",
   "execution_count": 115,
   "id": "fb779237-fb12-4c65-96f1-55f7789eeef3",
   "metadata": {},
   "outputs": [
    {
     "name": "stdout",
     "output_type": "stream",
     "text": [
      "[7, 9, 10, 10, 10, 55, 77, 99, 99, 100, 456]\n",
      "[456, 100, 99, 99, 77, 55, 10, 10, 10, 9, 7]\n"
     ]
    }
   ],
   "source": [
    "print(numbers)\n",
    "numbers.reverse() # 정렬이 되어있지 않아도 정렬 할 수 있음 (45445121) > (12154454)\n",
    "print(numbers)"
   ]
  },
  {
   "cell_type": "code",
   "execution_count": 116,
   "id": "522ab715-619d-4ef6-b4f7-1cc66603b9e1",
   "metadata": {},
   "outputs": [
    {
     "data": {
      "text/plain": [
       "3"
      ]
     },
     "execution_count": 116,
     "metadata": {},
     "output_type": "execute_result"
    }
   ],
   "source": [
    "numbers.count(10)"
   ]
  },
  {
   "cell_type": "markdown",
   "id": "0b8235c5-461d-4fe4-9dc7-315837ed7b64",
   "metadata": {},
   "source": [
    "### list copy"
   ]
  },
  {
   "cell_type": "code",
   "execution_count": 123,
   "id": "f5e5d8e5-bb34-41e5-be29-eca82570151a",
   "metadata": {},
   "outputs": [],
   "source": [
    "origin_list = [1, 2, 3]\n",
    "copy_list = origin_list"
   ]
  },
  {
   "cell_type": "code",
   "execution_count": 124,
   "id": "85130b7f-478c-4cd3-aa4a-a93f5e089503",
   "metadata": {},
   "outputs": [
    {
     "name": "stdout",
     "output_type": "stream",
     "text": [
      "[1, 2, 3]\n",
      "[1, 2, 3]\n"
     ]
    }
   ],
   "source": [
    "print(origin_list)\n",
    "print(copy_list)"
   ]
  },
  {
   "cell_type": "code",
   "execution_count": 127,
   "id": "75731fd8-d022-4516-96f5-af09bd0730e9",
   "metadata": {},
   "outputs": [
    {
     "name": "stdout",
     "output_type": "stream",
     "text": [
      "[100, 2, 3]\n",
      "[100, 2, 3]\n"
     ]
    }
   ],
   "source": [
    "copy_list[0] = 100\n",
    "print(origin_list) # origin_list만 바꿔도 copy_list도 바뀜\n",
    "print(copy_list)"
   ]
  },
  {
   "cell_type": "code",
   "execution_count": 130,
   "id": "3afe20b1-dec6-48ad-92b2-12885dc60e32",
   "metadata": {},
   "outputs": [
    {
     "name": "stdout",
     "output_type": "stream",
     "text": [
      "[100, 2, 3]\n",
      "[100, 2, 3]\n"
     ]
    }
   ],
   "source": [
    "# python tutor 돌려보기\n",
    "origin_list = [1, 2, 3]\n",
    "copy_list = origin_list\n",
    "copy_list[0] = 100\n",
    "print(origin_list)\n",
    "print(copy_list)"
   ]
  },
  {
   "cell_type": "code",
   "execution_count": 135,
   "id": "c30d6cea-68dd-475d-a278-d59df80edc70",
   "metadata": {},
   "outputs": [
    {
     "name": "stdout",
     "output_type": "stream",
     "text": [
      "[1, 2, 3]\n",
      "[100, 2, 3]\n"
     ]
    }
   ],
   "source": [
    "origin_list = [1, 2, 3]\n",
    "copy_list = origin_list[:] # ? 먼소리임..., \n",
    "\n",
    "copy_list[0] = 100\n",
    "\n",
    "print(origin_list)\n",
    "print(copy_list)"
   ]
  },
  {
   "cell_type": "code",
   "execution_count": 136,
   "id": "5a6e7c61-de02-47e7-95de-359bad1f621b",
   "metadata": {},
   "outputs": [
    {
     "name": "stdout",
     "output_type": "stream",
     "text": [
      "[1, 2, [-10, 11]]\n",
      "[100, 2, [-10, 11]]\n"
     ]
    }
   ],
   "source": [
    "o_l = [1, 2, [10, 11]]\n",
    "c_l = o_l[:]\n",
    "\n",
    "c_l[0] = 100\n",
    "c_l[2][0] = -10\n",
    "\n",
    "print(o_l)\n",
    "print(c_l)"
   ]
  },
  {
   "cell_type": "code",
   "execution_count": 141,
   "id": "218d43fa-28a1-410c-ac26-72026438dff3",
   "metadata": {},
   "outputs": [
    {
     "name": "stdout",
     "output_type": "stream",
     "text": [
      "[1, 2, [10, 11]]\n",
      "[100, 2, [10, -11]]\n"
     ]
    }
   ],
   "source": [
    "# 원본은 바꾸지 않고 복사본만 바꾸고 싶을 때\n",
    "import copy \n",
    "o_l = [1, 2, [10, 11]]\n",
    "c_l = copy.deepcopy(o_l)\n",
    "\n",
    "c_l[0] = 100\n",
    "c_l[2][1] = -11\n",
    "\n",
    "print(o_l)\n",
    "print(c_l)\n"
   ]
  },
  {
   "cell_type": "markdown",
   "id": "451ab61f-ed98-4f31-9fef-d356baeae9c6",
   "metadata": {},
   "source": [
    "## list comperhension"
   ]
  },
  {
   "cell_type": "code",
   "execution_count": 142,
   "id": "f4e6ee60-bd5e-4815-9ce0-a645e44de191",
   "metadata": {},
   "outputs": [
    {
     "name": "stdout",
     "output_type": "stream",
     "text": [
      "[1, 2, 3, 4, 5, 6, 7, 8, 9, 10]\n"
     ]
    }
   ],
   "source": [
    "numbers = list(range(1, 11))\n",
    "print(numbers)"
   ]
  },
  {
   "cell_type": "code",
   "execution_count": 145,
   "id": "92c31350-fcb9-4e7a-a53e-c06d0eded092",
   "metadata": {},
   "outputs": [
    {
     "name": "stdout",
     "output_type": "stream",
     "text": [
      "[1, 8, 27, 64, 125, 216, 343, 512, 729, 1000]\n"
     ]
    }
   ],
   "source": [
    "result = []\n",
    "\n",
    "for number in numbers:\n",
    "    temp = number ** 3\n",
    "    result.append(temp)\n",
    "\n",
    "print(result)"
   ]
  },
  {
   "cell_type": "code",
   "execution_count": 148,
   "id": "9b3e5dc2-3a60-4609-b8c1-8cd577407470",
   "metadata": {},
   "outputs": [
    {
     "name": "stdout",
     "output_type": "stream",
     "text": [
      "[1, 8, 27, 64, 125, 216, 343, 512, 729, 1000]\n"
     ]
    }
   ],
   "source": [
    "result = [number ** 3 for number in numbers] # for문을 기준으로 앞 뒤로 나눠서 \n",
    "# result = [number1 ** 3, number2 ** 3,...]\n",
    "print(result)"
   ]
  },
  {
   "cell_type": "code",
   "execution_count": 151,
   "id": "e2823023-da45-4540-af5e-c4c7a8d25612",
   "metadata": {},
   "outputs": [
    {
     "name": "stdout",
     "output_type": "stream",
     "text": [
      "[1, 2, 3, 4, 5, 6, 7, 8, 9, 10, 11, 12, 13, 14, 15, 16, 17, 18, 19, 20, 21, 22, 23, 24, 25, 26, 27, 28, 29, 30]\n",
      "[2, 4, 6, 8, 10, 12, 14, 16, 18, 20, 22, 24, 26, 28, 30]\n"
     ]
    }
   ],
   "source": [
    "# 짝수만 고르기\n",
    "numbers = list(range(1, 31))\n",
    "print(numbers)\n",
    "\n",
    "result = []\n",
    "for number in numbers:\n",
    "    if number % 2 == 0:\n",
    "        result.append(number)\n",
    "\n",
    "print(result)"
   ]
  },
  {
   "cell_type": "code",
   "execution_count": 155,
   "id": "53d9aced-20b0-4cee-93be-5a7fa54220bf",
   "metadata": {},
   "outputs": [
    {
     "name": "stdout",
     "output_type": "stream",
     "text": [
      "[4, 8, 12, 16, 20, 24, 28, 32, 36, 40, 44, 48, 52, 56, 60]\n"
     ]
    }
   ],
   "source": [
    "numbers = list(range(1, 31))\n",
    "\n",
    "result = [number * 2 for number in numbers if number % 2 ==0]\n",
    "          #3번째로 실행 | for문이 1번쨰로 실행| if문이 2번쨰로 실행\n",
    "print(result)"
   ]
  },
  {
   "cell_type": "code",
   "execution_count": 157,
   "id": "bf23fe83-5ced-4a6c-915b-81c8724fbd28",
   "metadata": {},
   "outputs": [],
   "source": [
    "# 연습문제 모음제거\n",
    "words = 'my name is hong'\n",
    "\n",
    "# = > my nm s hng ae i o"
   ]
  },
  {
   "cell_type": "code",
   "execution_count": 200,
   "id": "2569df7f-f6ef-4365-8a34-873dfbb330be",
   "metadata": {},
   "outputs": [
    {
     "name": "stdout",
     "output_type": "stream",
     "text": [
      "['m', 'y', ' ', 'n', 'm', ' ', 's', ' ', 'h', 'n', 'g']\n",
      "my nm s hng\n"
     ]
    }
   ],
   "source": [
    "# 1. for / if\n",
    "\n",
    "# for word in words:\n",
    "#     if word in ['a', 'e', 'i','o','u']:\n",
    "#          words.strip('a')\n",
    "\n",
    "# print(words)\n",
    "\n",
    "vowels = ['a', 'e', 'i', 'o', 'u']\n",
    "result = []\n",
    "for char in words:\n",
    "    if char in ['a', 'e', 'i', 'o', 'u']:\n",
    "        pass\n",
    "    else:\n",
    "        result.append(char)  # 자음만 꺼내기\n",
    "\n",
    "print(result)\n",
    "print(''.join(result))"
   ]
  },
  {
   "cell_type": "code",
   "execution_count": 205,
   "id": "48b81d5b-bb2b-4045-8c7c-494b4209f258",
   "metadata": {},
   "outputs": [
    {
     "name": "stdout",
     "output_type": "stream",
     "text": [
      "['m', 'y', ' ', 'n', 'm', ' ', 's', ' ', 'h', 'n', 'g']\n",
      "my nm s hng\n"
     ]
    }
   ],
   "source": [
    "vowels = ['a', 'e', 'i', 'o', 'u']\n",
    "result = [] # 데이터를 초기화 해놓고 밑에서 반복문을 거치면서 데이터를 하나하나 쌓는 느낌\n",
    "for char in words:\n",
    "    if char not in ['a', 'e', 'i', 'o', 'u']:   #aeiou로 대체도 가능\n",
    "        result.append(char)  # 자음인 경우\n",
    "    else:\n",
    "        pass\n",
    "          # 자음만 꺼내기\n",
    "\n",
    "print(result)\n",
    "print(''.join(result))"
   ]
  },
  {
   "cell_type": "code",
   "execution_count": null,
   "id": "95b345e2-0b51-4442-91dd-809776526819",
   "metadata": {},
   "outputs": [],
   "source": [
    "# 문자열을 제거하긴 어려우니깐 대신 꺼내는 느낌으로"
   ]
  },
  {
   "cell_type": "code",
   "execution_count": 208,
   "id": "f3b09b3d-b396-44c8-a458-aee0478668fa",
   "metadata": {},
   "outputs": [
    {
     "name": "stdout",
     "output_type": "stream",
     "text": [
      "['m', 'y', ' ', 'n', 'm', ' ', 's', ' ', 'h', 'n', 'g']\n",
      "my nm s hng\n"
     ]
    }
   ],
   "source": [
    "# 2. list comperhensive\n",
    "\n",
    "result = [word for word in words if word not in ['a', 'e', 'i','o', 'u']]\n",
    "\n",
    "print(result)\n",
    "print(''.join(result)) # 빈 문자열 ('')을 기준으로 이어붙이기"
   ]
  },
  {
   "cell_type": "code",
   "execution_count": 222,
   "id": "430a424b-3073-45e4-8f43-84d37e40da7a",
   "metadata": {},
   "outputs": [
    {
     "name": "stdout",
     "output_type": "stream",
     "text": [
      "my name is hong\n"
     ]
    }
   ],
   "source": [
    "words = 'my name is hong'\n",
    "result = []\n",
    "for word in words:\n",
    "    if word in ['a', 'e', 'i','o','u']:\n",
    "         result = words.strip('a') # 처음에 result - list였지만 여기서 문자열로 바뀌면서 list가 깨지게 됨\n",
    "\n",
    "print(result)"
   ]
  },
  {
   "cell_type": "code",
   "execution_count": 1,
   "id": "b027fe7c-15f1-4a34-a446-b8f3f3521a70",
   "metadata": {},
   "outputs": [
    {
     "ename": "NameError",
     "evalue": "name 'words' is not defined",
     "output_type": "error",
     "traceback": [
      "\u001b[1;31m---------------------------------------------------------------------------\u001b[0m",
      "\u001b[1;31mNameError\u001b[0m                                 Traceback (most recent call last)",
      "Cell \u001b[1;32mIn[1], line 6\u001b[0m\n\u001b[0;32m      3\u001b[0m \u001b[38;5;66;03m# 문자열(str)은 replace()나 strip()을 써도 원본이 변경되지 않고 새로운 문자열을 반환해.\u001b[39;00m\n\u001b[0;32m      4\u001b[0m \u001b[38;5;28;01mfor\u001b[39;00m char \u001b[38;5;129;01min\u001b[39;00m vowels:  \n\u001b[0;32m      5\u001b[0m     \u001b[38;5;66;03m# words.replace(char, '') # replace는 str 원본에 영향을 주지 않기 때문에 다시 저장해야 함\u001b[39;00m\n\u001b[1;32m----> 6\u001b[0m        words \u001b[38;5;241m=\u001b[39m \u001b[43mwords\u001b[49m\u001b[38;5;241m.\u001b[39mreplace(char, \u001b[38;5;124m'\u001b[39m\u001b[38;5;124m'\u001b[39m)\n\u001b[0;32m      7\u001b[0m \u001b[38;5;28mprint\u001b[39m(words)\n",
      "\u001b[1;31mNameError\u001b[0m: name 'words' is not defined"
     ]
    }
   ],
   "source": [
    "# 3. replace 메소드\n",
    "vowels = 'aeiou'\n",
    "# 문자열(str)은 replace()나 strip()을 써도 원본이 변경되지 않고 새로운 문자열을 반환해.\n",
    "for char in vowels:  \n",
    "    # words.replace(char, '') # replace는 str 원본에 영향을 주지 않기 때문에 다시 저장해야 함\n",
    "       words = words.replace(char, '')\n",
    "print(words)"
   ]
  },
  {
   "cell_type": "markdown",
   "id": "7af77b7d-4623-4f27-9e5c-11f6a69812b5",
   "metadata": {},
   "source": [
    "## dictionary 메소드"
   ]
  },
  {
   "cell_type": "code",
   "execution_count": 9,
   "id": "29771aa0-848b-4644-9d64-6d2284ff8c96",
   "metadata": {},
   "outputs": [],
   "source": [
    "info = {\n",
    "    'name': 'hong',\n",
    "    'location': 'seoul',\n",
    "    'age': '20',\n",
    "    'phone_book': {\n",
    "        'kim': '010-1234-5678',\n",
    "        'park': '010-4567-8978'\n",
    "    },\n",
    "    'models': ['iphone', 'ipad'],\n",
    "\n",
    "    \n",
    "}"
   ]
  },
  {
   "cell_type": "code",
   "execution_count": 16,
   "id": "a2c61e90-e1f4-444b-a08c-b70acd82182f",
   "metadata": {},
   "outputs": [
    {
     "name": "stdout",
     "output_type": "stream",
     "text": [
      "lee\n",
      "20\n",
      "010-4567-8978\n",
      "ipad\n"
     ]
    }
   ],
   "source": [
    "print(info['name'])\n",
    "print(info['age'])\n",
    "print(info['phone_book']['park']) # dict안에 dict 찾기\n",
    "print(info['models'][1]) # list여서 인덱스 접근을 해야함\n"
   ]
  },
  {
   "cell_type": "code",
   "execution_count": 15,
   "id": "68ab59bb-7fe4-4a58-b65b-8a0b479de90a",
   "metadata": {},
   "outputs": [],
   "source": [
    "info['name'] = 'lee' # hong 이름을 lee로 바꾸기"
   ]
  },
  {
   "cell_type": "code",
   "execution_count": 18,
   "id": "4a79ca8f-ec7d-4990-aac3-93317e979893",
   "metadata": {},
   "outputs": [
    {
     "name": "stdout",
     "output_type": "stream",
     "text": [
      "{'name': 'chio', 'location': 'seoul', 'age': '20', 'phone_book': {'kim': '010-1234-5678', 'park': '010-4567-8978'}, 'models': ['iphone', 'ipad']}\n"
     ]
    }
   ],
   "source": [
    "info.update(name='chio') # update 메소드\n",
    "print(info) # 이름을 choi로 바뀜"
   ]
  },
  {
   "cell_type": "code",
   "execution_count": 23,
   "id": "0bfbdf2c-6678-45d2-ac58-542d7aef641f",
   "metadata": {},
   "outputs": [
    {
     "ename": "KeyError",
     "evalue": "'location'",
     "output_type": "error",
     "traceback": [
      "\u001b[1;31m---------------------------------------------------------------------------\u001b[0m",
      "\u001b[1;31mKeyError\u001b[0m                                  Traceback (most recent call last)",
      "Cell \u001b[1;32mIn[23], line 2\u001b[0m\n\u001b[0;32m      1\u001b[0m \u001b[38;5;66;03m# info.pop() # dict는 순서가 없기 때문에 pop을 쓸 수가 없음 (pop은 맨 끝을 빼내기 때문에\u001b[39;00m\n\u001b[1;32m----> 2\u001b[0m \u001b[43minfo\u001b[49m\u001b[38;5;241;43m.\u001b[39;49m\u001b[43mpop\u001b[49m\u001b[43m(\u001b[49m\u001b[38;5;124;43m'\u001b[39;49m\u001b[38;5;124;43mlocation\u001b[39;49m\u001b[38;5;124;43m'\u001b[39;49m\u001b[43m)\u001b[49m \u001b[38;5;66;03m# location 정보가 사라짐\u001b[39;00m\n\u001b[0;32m      3\u001b[0m \u001b[38;5;28mprint\u001b[39m(info)\n",
      "\u001b[1;31mKeyError\u001b[0m: 'location'"
     ]
    }
   ],
   "source": [
    "# info.pop() # dict는 순서가 없기 때문에 pop을 쓸 수가 없음 (pop은 맨 끝을 빼내기 때문에\n",
    "info.pop('location') # location 정보가 사라짐\n",
    "print(info)"
   ]
  },
  {
   "cell_type": "code",
   "execution_count": 24,
   "id": "7bc0a49e-a3a7-4b40-9a97-a133c737513e",
   "metadata": {},
   "outputs": [
    {
     "name": "stdout",
     "output_type": "stream",
     "text": [
      "chio\n",
      "chio\n"
     ]
    }
   ],
   "source": [
    "print(info.get('name'))\n",
    "print(info['name'])"
   ]
  },
  {
   "cell_type": "code",
   "execution_count": 28,
   "id": "202b1097-71d4-43b6-b35e-cb7bba4c0ee6",
   "metadata": {},
   "outputs": [
    {
     "name": "stdout",
     "output_type": "stream",
     "text": [
      "None\n"
     ]
    }
   ],
   "source": [
    "print(info.get('birth')) # 밑에꺼와 비교"
   ]
  },
  {
   "cell_type": "code",
   "execution_count": 30,
   "id": "32053b37-7de6-46f1-85c1-fb0ab69d0940",
   "metadata": {},
   "outputs": [
    {
     "ename": "KeyError",
     "evalue": "'birth'",
     "output_type": "error",
     "traceback": [
      "\u001b[1;31m---------------------------------------------------------------------------\u001b[0m",
      "\u001b[1;31mKeyError\u001b[0m                                  Traceback (most recent call last)",
      "Cell \u001b[1;32mIn[30], line 1\u001b[0m\n\u001b[1;32m----> 1\u001b[0m \u001b[38;5;28mprint\u001b[39m(\u001b[43minfo\u001b[49m\u001b[43m[\u001b[49m\u001b[38;5;124;43m'\u001b[39;49m\u001b[38;5;124;43mbirth\u001b[39;49m\u001b[38;5;124;43m'\u001b[39;49m\u001b[43m]\u001b[49m) \u001b[38;5;66;03m# 실행 조차 안됨\u001b[39;00m\n",
      "\u001b[1;31mKeyError\u001b[0m: 'birth'"
     ]
    }
   ],
   "source": [
    "print(info['birth']) # 실행 조차 안됨"
   ]
  },
  {
   "cell_type": "code",
   "execution_count": 50,
   "id": "4cd05cd4-dd56-45fd-a457-aa92f082a9d8",
   "metadata": {},
   "outputs": [
    {
     "name": "stdout",
     "output_type": "stream",
     "text": [
      "{'A': 2, 'B': 3, 'O': 2, 'AB': 2}\n"
     ]
    }
   ],
   "source": [
    "# 연습문제\n",
    "blood_type = ['A', 'B', 'B', 'O', 'AB', 'A', 'B', 'O','AB']\n",
    "# A형이랑 B형이 몇명인지 알고싶을떄\n",
    "# {'A': n, 'B': n} 이런식으로 나오게 하기\n",
    "\n",
    "\n",
    "result = {\n",
    "    'A': 0,\n",
    "    'B': 0,\n",
    "    'O': 0,\n",
    "    'AB': 0,\n",
    "}\n",
    "\n",
    "for blood in blood_type:\n",
    "    result[blood] += 1 # result['A']\n",
    "print(result)    "
   ]
  },
  {
   "cell_type": "code",
   "execution_count": 53,
   "id": "f249d2af-b89e-4a87-837e-72cc35532dff",
   "metadata": {},
   "outputs": [
    {
     "name": "stdout",
     "output_type": "stream",
     "text": [
      "{'서울': 2, '대전': 1, '청주': 1, '부산': 1, '광주': 1, '강릉': 1, '뉴욕': 1}\n"
     ]
    }
   ],
   "source": [
    "# 위에 처럼 A B O AB 키값이 정해지지 않고 알지 못할때\n",
    "locations = ['서울', '대전', '청주', '부산', '광주', '강릉', '뉴욕', '서울']\n",
    "\n",
    "result = {}\n",
    "\n",
    "# for location in locations:\n",
    "#     if location이 result key 목록에 있으면?:\n",
    "#         기존데이터에 + 1\n",
    "#     else: 목록에 없다면\n",
    "#           새로운 키를 등록하고 기본값을 1로 지정\n",
    "\n",
    "for location in locations:\n",
    "    if location in result.keys():  # result.get(location)도 같은 코드\n",
    "        result[location] += 1\n",
    "    else:\n",
    "        result[location] = 1\n",
    "print(result)"
   ]
  },
  {
   "cell_type": "markdown",
   "id": "edadabb9-02bf-4538-bbe9-22f7cdcda262",
   "metadata": {},
   "source": [
    "## dict comprehension"
   ]
  },
  {
   "cell_type": "code",
   "execution_count": 56,
   "id": "00c317c3-044e-4eaf-971f-5e7f85fdf886",
   "metadata": {},
   "outputs": [
    {
     "name": "stdout",
     "output_type": "stream",
     "text": [
      "{1: 1, 2: 8, 3: 27, 4: 64, 5: 125, 6: 216, 7: 343, 8: 512, 9: 729, 10: 1000}\n"
     ]
    }
   ],
   "source": [
    "# {1:1, 2: 8, 3: 27, ... , 10: 1000}\n",
    "\n",
    "result = {}\n",
    "numbers = range(1,11)\n",
    "\n",
    "for number in numbers:\n",
    "    result[number] = number ** 3 # result에 number라는 key를 저장하고 number값에 number ** 3 이라는 value값을 저장\n",
    "\n",
    "print(result)"
   ]
  },
  {
   "cell_type": "code",
   "execution_count": 60,
   "id": "95309bf2-2e7d-4a3c-9272-0b6a3c0db59e",
   "metadata": {},
   "outputs": [
    {
     "name": "stdout",
     "output_type": "stream",
     "text": [
      "{1: 1, 2: 8, 3: 27, 4: 64, 5: 125, 6: 216, 7: 343, 8: 512, 9: 729, 10: 1000}\n"
     ]
    }
   ],
   "source": [
    "result = {number: number ** 3 for number in range(1, 11) } # k: v 값을 왼쪽에 저장\n",
    "print(result)"
   ]
  },
  {
   "cell_type": "code",
   "execution_count": 61,
   "id": "512eabd3-015d-4775-9227-d284a4974fe9",
   "metadata": {},
   "outputs": [],
   "source": [
    "# 미세먼지가 50 미만인 지역 고르기\n",
    "dust = {\n",
    "    '서울': 50,\n",
    "    '인천': 100,\n",
    "    '수원': 30,\n",
    "    '부산': 0,\n",
    "    \n",
    "}"
   ]
  },
  {
   "cell_type": "code",
   "execution_count": 68,
   "id": "5efb6819-1a92-4ef2-a922-284d142ca3a5",
   "metadata": {},
   "outputs": [
    {
     "name": "stdout",
     "output_type": "stream",
     "text": [
      "{'수원': 30, '부산': 0}\n"
     ]
    }
   ],
   "source": [
    "# for문 이용\n",
    "\n",
    "result = {}\n",
    "for key, value in dust.items(): # item = key, value\n",
    "    ## key, value = ('서울', 50)\n",
    "    ## item = ('서울', 50)\n",
    "    if value <= 30:\n",
    "        result[key] = value\n",
    "print(result)"
   ]
  },
  {
   "cell_type": "code",
   "execution_count": 71,
   "id": "2b6aad82-396d-48e2-bdc0-d6f1d681abc0",
   "metadata": {},
   "outputs": [
    {
     "name": "stdout",
     "output_type": "stream",
     "text": [
      "{'수원': '매우 좋음', '부산': '매우 좋음'}\n"
     ]
    }
   ],
   "source": [
    "# 2. comp\n",
    "result = {k: '매우 좋음' for k, v in dust.items() if v <= 30}\n",
    "print(result)"
   ]
  },
  {
   "cell_type": "markdown",
   "id": "762a822e-c6d3-4ab6-847b-cb37214bc53f",
   "metadata": {},
   "source": [
    "## set 메소드"
   ]
  },
  {
   "cell_type": "code",
   "execution_count": 73,
   "id": "ad8de9de-1d03-41d0-a6e1-da8f3be0ca6a",
   "metadata": {},
   "outputs": [],
   "source": [
    "fruits = {'apple', 'banana', 'melon'}"
   ]
  },
  {
   "cell_type": "code",
   "execution_count": 75,
   "id": "df9d3f43-7df0-4ecf-9fd0-ce60693ba367",
   "metadata": {},
   "outputs": [
    {
     "name": "stdout",
     "output_type": "stream",
     "text": [
      "{'melon', 'banana', 'apple'}\n"
     ]
    }
   ],
   "source": [
    "print(fruits) # 순서가 없기 때문에 랜덤으로 나옴"
   ]
  },
  {
   "cell_type": "code",
   "execution_count": 80,
   "id": "d38eb39a-2b71-4a01-ae56-3e9238867858",
   "metadata": {},
   "outputs": [
    {
     "name": "stdout",
     "output_type": "stream",
     "text": [
      "{'orange', 'melon', 'peach', 'watermelon', 'banana', 'apple'}\n"
     ]
    }
   ],
   "source": [
    "fruits.add('watermelon') # 단일 데이터를 추가할때\n",
    "print(fruits)"
   ]
  },
  {
   "cell_type": "code",
   "execution_count": 79,
   "id": "9f596f15-badd-42c9-bdc6-10dc5e8b4a38",
   "metadata": {},
   "outputs": [
    {
     "name": "stdout",
     "output_type": "stream",
     "text": [
      "{'orange', 'melon', 'peach', 'watermelon', 'banana', 'apple'}\n"
     ]
    }
   ],
   "source": [
    "fruits.update({'orange', 'peach'}) # 여러개의 데이터를 추가할떄\n",
    "print(fruits)"
   ]
  },
  {
   "cell_type": "code",
   "execution_count": 81,
   "id": "0e2416df-082a-410e-ad00-05c260060692",
   "metadata": {},
   "outputs": [
    {
     "name": "stdout",
     "output_type": "stream",
     "text": [
      "{'orange', 'melon', 'peach', 'watermelon', 'banana'}\n"
     ]
    }
   ],
   "source": [
    "fruits.remove('apple') # apple 지우기\n",
    "print(fruits)"
   ]
  },
  {
   "cell_type": "code",
   "execution_count": 83,
   "id": "7c56e894-305c-4855-85e8-46a7668920ca",
   "metadata": {},
   "outputs": [
    {
     "name": "stdout",
     "output_type": "stream",
     "text": [
      "{'peach', 'watermelon', 'banana'}\n"
     ]
    }
   ],
   "source": [
    "fruits.pop() # set은 순서가 없기 때문에 랜덤으로 지워짐\n",
    "print(fruits)"
   ]
  },
  {
   "cell_type": "markdown",
   "id": "a5cdb02a-6fd4-455b-8fd6-2e78c6976e2d",
   "metadata": {},
   "source": [
    "## map, filter, zip"
   ]
  },
  {
   "cell_type": "markdown",
   "id": "f6aec091-309c-4b16-85f9-4517500370bc",
   "metadata": {},
   "source": [
    "### map\n",
    "- map(function, iterable)\n",
    "   - iterable = > 시퀀스타입"
   ]
  },
  {
   "cell_type": "code",
   "execution_count": 88,
   "id": "feb2c555-df7b-4881-8aac-85159ed29a21",
   "metadata": {},
   "outputs": [
    {
     "name": "stdout",
     "output_type": "stream",
     "text": [
      "['1', '2', '3', '4', '5', '6', '7', '8', '9', '10']\n"
     ]
    }
   ],
   "source": [
    "numbers = [1, 2, 3, 4, 5, 6, 7, 8, 9, 10]\n",
    "# = > ['1', '2', '3'...'10'] 숫자를 글자로 바꾸고 싶을 때 int > str\n",
    "\n",
    "result = []\n",
    "for number in numbers:\n",
    "    result.append(str(number))\n",
    "\n",
    "print(result)"
   ]
  },
  {
   "cell_type": "code",
   "execution_count": 93,
   "id": "9bd1401e-a10c-4de2-90e0-e52ded3ca52d",
   "metadata": {},
   "outputs": [
    {
     "name": "stdout",
     "output_type": "stream",
     "text": [
      "<map object at 0x0000016B55208C40>\n",
      "['1', '2', '3', '4', '5', '6', '7', '8', '9', '10']\n"
     ]
    }
   ],
   "source": [
    "result = map(str, numbers) # numbers라는 배열을 돌면서 str로 하나하나 바꿔줘\n",
    "print(result) # map은 처음에 임시적으로 저장함\n",
    "print(list(result)) # 결과값을 보려면  list로 변경해서 봐야함\n",
    "# list(result)를 하기보다는 일반적으로 result = list(map(str, numbers)) 이런식으로 한번에 계산하게 함"
   ]
  },
  {
   "cell_type": "code",
   "execution_count": 95,
   "id": "5038517b-b6be-4102-afd6-5b22e0a185cc",
   "metadata": {},
   "outputs": [
    {
     "name": "stdout",
     "output_type": "stream",
     "text": [
      "[1, 8, 27, 64, 125]\n"
     ]
    }
   ],
   "source": [
    "numbers = [1, 2, 3, 4, 5]\n",
    "# = > [1, 8, 27, 64, 125]\n",
    "result = []\n",
    "for number in numbers:\n",
    "    result.append(number ** 3)\n",
    "\n",
    "print(result)"
   ]
  },
  {
   "cell_type": "code",
   "execution_count": 97,
   "id": "65635914-70f2-4459-bf82-8beff3c581fa",
   "metadata": {},
   "outputs": [],
   "source": [
    "# map을 쓰기위해서 함수를 만들어줘야함\n",
    "def cube(x):\n",
    "    return x ** 3"
   ]
  },
  {
   "cell_type": "code",
   "execution_count": 103,
   "id": "818ab271-4c6e-4233-82e1-e1b33a5b16e8",
   "metadata": {},
   "outputs": [
    {
     "name": "stdout",
     "output_type": "stream",
     "text": [
      "<map object at 0x0000016B55201F90>\n",
      "[1, 8, 27, 64, 125]\n"
     ]
    }
   ],
   "source": [
    "result = map(cube, numbers)\n",
    "print(result)\n",
    "\n",
    "print(list(result))"
   ]
  },
  {
   "cell_type": "code",
   "execution_count": 105,
   "id": "4093b1c3-8efd-422a-b223-0937a06a1ea9",
   "metadata": {},
   "outputs": [
    {
     "name": "stdout",
     "output_type": "stream",
     "text": [
      "[1, 3, 5, 7, 9]\n"
     ]
    }
   ],
   "source": [
    "test_input = '1 3 5 7 9'\n",
    "# 숫자로 바꿔보기\n",
    "# 1. 띄어쓰기 기준으로 나눈다\n",
    "test_input.split() # > ['1', '3', '5', '7','9']\n",
    "# 2. 각 글자를 숫자로 바꾼다\n",
    "map(int, test_input.split())\n",
    "# 3. 리스트에 저장한다\n",
    "result = list(map(int, test_input.split()))\n",
    "\n",
    "print(result)"
   ]
  },
  {
   "cell_type": "markdown",
   "id": "543d1ea3-1d70-4c18-898a-e067dcc8aaa6",
   "metadata": {},
   "source": [
    "### filter\n",
    "- filter(function, iterable)"
   ]
  },
  {
   "cell_type": "code",
   "execution_count": 107,
   "id": "1a821f93-e389-4039-ba47-7079448bf50f",
   "metadata": {},
   "outputs": [],
   "source": []
  },
  {
   "cell_type": "code",
   "execution_count": 109,
   "id": "1598c91f-f839-499d-b7f4-c50a8f0dfd41",
   "metadata": {},
   "outputs": [
    {
     "name": "stdout",
     "output_type": "stream",
     "text": [
      "[1, 3, 5]\n"
     ]
    }
   ],
   "source": [
    "numbers = [1, 2, 3, 4, 5, 6]\n",
    "\n",
    "result = []\n",
    "for number in numbers:\n",
    "    if number % 2 == 1:\n",
    "        result.append(number)\n",
    "print(result)\n",
    "\n"
   ]
  },
  {
   "cell_type": "code",
   "execution_count": 110,
   "id": "a4a69459-02f1-4f99-be08-039f5af186c1",
   "metadata": {},
   "outputs": [],
   "source": [
    "def is_odd(x):\n",
    "    return x % 2\n"
   ]
  },
  {
   "cell_type": "code",
   "execution_count": 112,
   "id": "f5306d78-e5f8-4ef7-ba64-9694967e5257",
   "metadata": {},
   "outputs": [
    {
     "name": "stdout",
     "output_type": "stream",
     "text": [
      "<filter object at 0x0000016B551FA320>\n",
      "[1, 3, 5]\n"
     ]
    }
   ],
   "source": [
    "result = filter(is_odd, numbers) # 내가 원하는대로 filtering을 하려면 그 안에 t, f 가 나오는 함수를 넣어야 함 \n",
    "print(result)\n",
    "print(list(result))"
   ]
  },
  {
   "cell_type": "markdown",
   "id": "913b2c32-f898-4100-8cba-1de650dab9b1",
   "metadata": {},
   "source": [
    "### zip"
   ]
  },
  {
   "cell_type": "code",
   "execution_count": 117,
   "id": "5670d994-239a-4363-9023-97f4311f6469",
   "metadata": {},
   "outputs": [
    {
     "name": "stdout",
     "output_type": "stream",
     "text": [
      "<zip object at 0x0000016B557AE0C0>\n",
      "[(1, 100), (2, 200), (3, 300)]\n"
     ]
    }
   ],
   "source": [
    "a = [1, 2, 3]\n",
    "b = [100, 200, 300, 400] # 400은 갯수가 안맞아서 떨어지게 됨\n",
    "c = ['a', 'b', 'c']\n",
    "result = zip(a, b)\n",
    "print(result)\n",
    "print(list(result))\n",
    "\n",
    "# 서로 다른 데이터를 비교할 떄 사용"
   ]
  },
  {
   "cell_type": "code",
   "execution_count": null,
   "id": "579dda5a-5be0-4217-a439-ceea44fd6ef9",
   "metadata": {},
   "outputs": [],
   "source": []
  },
  {
   "cell_type": "code",
   "execution_count": null,
   "id": "46b9b86e-3a47-4f21-bd06-b6f729816c2b",
   "metadata": {},
   "outputs": [],
   "source": []
  }
 ],
 "metadata": {
  "kernelspec": {
   "display_name": "Python 3 (ipykernel)",
   "language": "python",
   "name": "python3"
  },
  "language_info": {
   "codemirror_mode": {
    "name": "ipython",
    "version": 3
   },
   "file_extension": ".py",
   "mimetype": "text/x-python",
   "name": "python",
   "nbconvert_exporter": "python",
   "pygments_lexer": "ipython3",
   "version": "3.13.2"
  }
 },
 "nbformat": 4,
 "nbformat_minor": 5
}
