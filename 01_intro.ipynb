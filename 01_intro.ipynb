{
 "cells": [
  {
   "cell_type": "markdown",
   "id": "125d553d-c657-4d7b-8e66-aa694a09dfd1",
   "metadata": {},
   "source": [
    "# 01.intro\n",
    "\n",
    "## shortcut\n",
    "\n",
    "- ctrl + enter : 현재 셀 실행\n",
    "- shift + enter : 현재 셀 실행 & 아래로 이동\n",
    "- alt + enter : 현재 셀 실행 & 아래에 새로운 셀 추가"
   ]
  },
  {
   "cell_type": "markdown",
   "id": "87c0fd1f-6845-4941-b1c2-7a0574261737",
   "metadata": {},
   "source": [
    "## 주의사항\n",
    "\n",
    "1. Apple / apple 대소문자 주의\n",
    "2. git add. / git add . 띄어쓰기 주의\n",
    "3. message /  massage 영어 철자 주의\n",
    "\n"
   ]
  },
  {
   "cell_type": "markdown",
   "id": "b0d61c74-470a-4098-b0de-19a2ca4f628a",
   "metadata": {},
   "source": [
    "# 01. 변수\n",
    "\n",
    "```\n",
    "var_name = value\n",
    "```\n",
    "\n",
    "- 변수이름은 어떤 이름이든 사용가능\n",
    "- 다만 영어, 숫자, _를 이용해서 선언\n",
    "- 키워드는 불가능"
   ]
  },
  {
   "cell_type": "code",
   "execution_count": 4,
   "id": "68888ef9-04ef-4648-8787-c1811a5fc7f3",
   "metadata": {},
   "outputs": [],
   "source": [
    "a = 100"
   ]
  },
  {
   "cell_type": "code",
   "execution_count": 6,
   "id": "f589da64-8360-4268-9ae4-85b4d912a935",
   "metadata": {},
   "outputs": [
    {
     "data": {
      "text/plain": [
       "100"
      ]
     },
     "execution_count": 6,
     "metadata": {},
     "output_type": "execute_result"
    }
   ],
   "source": [
    "a"
   ]
  },
  {
   "cell_type": "code",
   "execution_count": 8,
   "id": "af05aca4-76e6-480f-b893-4a99352c6fe3",
   "metadata": {},
   "outputs": [
    {
     "data": {
      "text/plain": [
       "['False',\n",
       " 'None',\n",
       " 'True',\n",
       " 'and',\n",
       " 'as',\n",
       " 'assert',\n",
       " 'async',\n",
       " 'await',\n",
       " 'break',\n",
       " 'class',\n",
       " 'continue',\n",
       " 'def',\n",
       " 'del',\n",
       " 'elif',\n",
       " 'else',\n",
       " 'except',\n",
       " 'finally',\n",
       " 'for',\n",
       " 'from',\n",
       " 'global',\n",
       " 'if',\n",
       " 'import',\n",
       " 'in',\n",
       " 'is',\n",
       " 'lambda',\n",
       " 'nonlocal',\n",
       " 'not',\n",
       " 'or',\n",
       " 'pass',\n",
       " 'raise',\n",
       " 'return',\n",
       " 'try',\n",
       " 'while',\n",
       " 'with',\n",
       " 'yield']"
      ]
     },
     "execution_count": 8,
     "metadata": {},
     "output_type": "execute_result"
    }
   ],
   "source": [
    "import keyword\n",
    "keyword.kwlist"
   ]
  },
  {
   "cell_type": "code",
   "execution_count": 10,
   "id": "a5b86139-34fb-4c29-a15e-25867de752b1",
   "metadata": {},
   "outputs": [],
   "source": [
    "seoul_dust_rate = 150"
   ]
  },
  {
   "cell_type": "markdown",
   "id": "788ba040-3419-4e1b-896b-8b3e9e3526c0",
   "metadata": {},
   "source": [
    "## 1.1 number"
   ]
  },
  {
   "cell_type": "code",
   "execution_count": 13,
   "id": "19f5700e-b348-4562-9c24-ed5e320769a3",
   "metadata": {},
   "outputs": [],
   "source": [
    "a = 10000"
   ]
  },
  {
   "cell_type": "code",
   "execution_count": 15,
   "id": "37f10973-4914-4108-8346-4200fa0a5df1",
   "metadata": {},
   "outputs": [
    {
     "data": {
      "text/plain": [
       "10000"
      ]
     },
     "execution_count": 15,
     "metadata": {},
     "output_type": "execute_result"
    }
   ],
   "source": [
    "a"
   ]
  },
  {
   "cell_type": "code",
   "execution_count": 17,
   "id": "704dcc34-4cc5-4a87-922c-e83e25984834",
   "metadata": {},
   "outputs": [
    {
     "data": {
      "text/plain": [
       "int"
      ]
     },
     "execution_count": 17,
     "metadata": {},
     "output_type": "execute_result"
    }
   ],
   "source": [
    "type(a)"
   ]
  },
  {
   "cell_type": "code",
   "execution_count": 18,
   "id": "9fe00245-44dd-4bd9-b9ba-61d78e8b853a",
   "metadata": {},
   "outputs": [],
   "source": [
    "b = 1.1"
   ]
  },
  {
   "cell_type": "code",
   "execution_count": 20,
   "id": "315cd170-a3d6-4786-851c-ba426accb97b",
   "metadata": {},
   "outputs": [
    {
     "data": {
      "text/plain": [
       "1.1"
      ]
     },
     "execution_count": 20,
     "metadata": {},
     "output_type": "execute_result"
    }
   ],
   "source": [
    "b"
   ]
  },
  {
   "cell_type": "code",
   "execution_count": 22,
   "id": "49301255-41a8-4958-8941-dfed08525f26",
   "metadata": {},
   "outputs": [
    {
     "data": {
      "text/plain": [
       "float"
      ]
     },
     "execution_count": 22,
     "metadata": {},
     "output_type": "execute_result"
    }
   ],
   "source": [
    "type(b)"
   ]
  },
  {
   "cell_type": "code",
   "execution_count": 25,
   "id": "3cd516b6-c68c-4c82-84c5-92078cc1db19",
   "metadata": {},
   "outputs": [],
   "source": [
    "c = 1 +1j"
   ]
  },
  {
   "cell_type": "code",
   "execution_count": 27,
   "id": "63cc4e70-94b7-4ebf-81d8-cad744985136",
   "metadata": {},
   "outputs": [
    {
     "data": {
      "text/plain": [
       "(1+1j)"
      ]
     },
     "execution_count": 27,
     "metadata": {},
     "output_type": "execute_result"
    }
   ],
   "source": [
    "c"
   ]
  },
  {
   "cell_type": "code",
   "execution_count": 29,
   "id": "8c83ca6f-8cb9-4f82-b5ae-209d70aa6b9a",
   "metadata": {},
   "outputs": [
    {
     "data": {
      "text/plain": [
       "complex"
      ]
     },
     "execution_count": 29,
     "metadata": {},
     "output_type": "execute_result"
    }
   ],
   "source": [
    "type(c)"
   ]
  },
  {
   "cell_type": "markdown",
   "id": "3b9f14db-126a-4ce3-ba94-a6c1c3dcc731",
   "metadata": {},
   "source": [
    "## 1.2 boolean"
   ]
  },
  {
   "cell_type": "code",
   "execution_count": 33,
   "id": "216705db-046d-4401-97b1-c0361ea8bf98",
   "metadata": {},
   "outputs": [],
   "source": [
    "a = True "
   ]
  },
  {
   "cell_type": "code",
   "execution_count": 35,
   "id": "3d7e8268-53c8-4e1e-ab6b-6fb37a7c8967",
   "metadata": {},
   "outputs": [
    {
     "data": {
      "text/plain": [
       "True"
      ]
     },
     "execution_count": 35,
     "metadata": {},
     "output_type": "execute_result"
    }
   ],
   "source": [
    "a"
   ]
  },
  {
   "cell_type": "code",
   "execution_count": 37,
   "id": "6c0a04d3-94aa-495a-a3a0-535caeb15fd6",
   "metadata": {},
   "outputs": [
    {
     "data": {
      "text/plain": [
       "bool"
      ]
     },
     "execution_count": 37,
     "metadata": {},
     "output_type": "execute_result"
    }
   ],
   "source": [
    "type(a)"
   ]
  },
  {
   "cell_type": "code",
   "execution_count": 39,
   "id": "c0b6e5fc-75e4-47f3-a54c-7cdc69c0ec2f",
   "metadata": {},
   "outputs": [],
   "source": [
    "b = False"
   ]
  },
  {
   "cell_type": "code",
   "execution_count": 41,
   "id": "df25706c-4bef-491b-aa35-5f7204fbd9ea",
   "metadata": {},
   "outputs": [
    {
     "data": {
      "text/plain": [
       "False"
      ]
     },
     "execution_count": 41,
     "metadata": {},
     "output_type": "execute_result"
    }
   ],
   "source": [
    "b"
   ]
  },
  {
   "cell_type": "markdown",
   "id": "874e5eae-3139-4170-ae61-f9ee1bf71a08",
   "metadata": {},
   "source": [
    "## 1.3 string\n",
    "- 문자열 `'`, `\"`를 이용하여 표현"
   ]
  },
  {
   "cell_type": "code",
   "execution_count": 43,
   "id": "f21c86da-bc91-4299-8f57-0550bffa4b3a",
   "metadata": {},
   "outputs": [],
   "source": [
    "a = 'hello'"
   ]
  },
  {
   "cell_type": "code",
   "execution_count": 45,
   "id": "955e56d4-d2b1-4ba7-b101-4ee861bb4314",
   "metadata": {},
   "outputs": [],
   "source": [
    "b = \"hi\""
   ]
  },
  {
   "cell_type": "code",
   "execution_count": 47,
   "id": "469e74f6-7831-4b33-8e07-b13e2fe17077",
   "metadata": {},
   "outputs": [
    {
     "data": {
      "text/plain": [
       "'hi'"
      ]
     },
     "execution_count": 47,
     "metadata": {},
     "output_type": "execute_result"
    }
   ],
   "source": [
    "b"
   ]
  },
  {
   "cell_type": "code",
   "execution_count": 56,
   "id": "726e04d9-199d-4c4a-a7c5-3da5adbc7b20",
   "metadata": {},
   "outputs": [
    {
     "name": "stdout",
     "output_type": "stream",
     "text": [
      "hello my name is \"yerin\"\n"
     ]
    }
   ],
   "source": [
    "print('hello my name is \"yerin\"') # 강조 할 때 \"''\" or '\"\"'"
   ]
  },
  {
   "cell_type": "code",
   "execution_count": 64,
   "id": "cb164760-a53e-415b-92a2-e1f00a5771de",
   "metadata": {},
   "outputs": [
    {
     "name": "stdout",
     "output_type": "stream",
     "text": [
      "hello\n",
      " my name is 'yerin'\n"
     ]
    }
   ],
   "source": [
    "print('hello\\n my name is \\'yerin\\'') #\\를 이용한 한 줄 띄어쓰기와 강조"
   ]
  },
  {
   "cell_type": "code",
   "execution_count": 66,
   "id": "8ccdbbad-52c5-46bf-849e-30c36de11a31",
   "metadata": {},
   "outputs": [],
   "source": [
    "a = '''\n",
    "hello \n",
    "world \n",
    "hi\n",
    "'''\n",
    "# ''' 세개로 안에 있는 단어들 다 띄어쓰기"
   ]
  },
  {
   "cell_type": "code",
   "execution_count": 67,
   "id": "25b2e832-cac4-4d64-bafb-be3e673f752c",
   "metadata": {},
   "outputs": [
    {
     "data": {
      "text/plain": [
       "'\\nhello \\nworld \\nhi\\n'"
      ]
     },
     "execution_count": 67,
     "metadata": {},
     "output_type": "execute_result"
    }
   ],
   "source": [
    "a"
   ]
  },
  {
   "cell_type": "code",
   "execution_count": 78,
   "id": "55522069-9e67-4757-a39d-2464b20f0c6b",
   "metadata": {},
   "outputs": [],
   "source": [
    "a = 10\n",
    "b = '홍길동은 a살입니다.'"
   ]
  },
  {
   "cell_type": "markdown",
   "id": "7ed3aa61-c432-41f4-97b2-5506c382fdb4",
   "metadata": {},
   "source": [
    "# string interpolation\n",
    "\n",
    "- %-formating\n",
    "- str,format()\n",
    "- f_string"
   ]
  },
  {
   "cell_type": "code",
   "execution_count": 79,
   "id": "3d4ee8a2-4a42-4290-a9d9-f65a8e553ad1",
   "metadata": {},
   "outputs": [],
   "source": [
    "age = 10"
   ]
  },
  {
   "cell_type": "code",
   "execution_count": 82,
   "id": "ea03aedf-58cf-4dfc-9ecd-a103d21badbf",
   "metadata": {},
   "outputs": [
    {
     "name": "stdout",
     "output_type": "stream",
     "text": [
      "홍길동은 10살입니다\n"
     ]
    }
   ],
   "source": [
    "print('홍길동은 %s살입니다' %age) #오래된 문법이지만 읽을 수 있게 "
   ]
  },
  {
   "cell_type": "code",
   "execution_count": 84,
   "id": "b5f113df-afec-4e61-bd13-312a977f3dea",
   "metadata": {},
   "outputs": [
    {
     "name": "stdout",
     "output_type": "stream",
     "text": [
      "홍길동은 10살입니다.\n"
     ]
    }
   ],
   "source": [
    "print('홍길동은 {}살입니다.'.format(age)) "
   ]
  },
  {
   "cell_type": "code",
   "execution_count": 86,
   "id": "6f2de1d9-20e6-4add-ab89-49cc592c1018",
   "metadata": {},
   "outputs": [
    {
     "name": "stdout",
     "output_type": "stream",
     "text": [
      "홍길동은 10살입니다.\n"
     ]
    }
   ],
   "source": [
    "print(f'홍길동은 {age}살입니다.')"
   ]
  },
  {
   "cell_type": "markdown",
   "id": "e5872e28-01aa-49a1-8a0d-890b95a71b9a",
   "metadata": {},
   "source": [
    "## 02.연산자"
   ]
  },
  {
   "cell_type": "markdown",
   "id": "65a5b0bf-0a5c-42be-a682-290b780ded6e",
   "metadata": {},
   "source": [
    "### 2.1산술연산자"
   ]
  },
  {
   "cell_type": "code",
   "execution_count": 94,
   "id": "f3f88c43-c00e-47ea-b473-89adb8750632",
   "metadata": {},
   "outputs": [],
   "source": [
    "a = 5\n",
    "b = 2"
   ]
  },
  {
   "cell_type": "code",
   "execution_count": 95,
   "id": "fbb72c40-091d-45a6-9ff9-47bd1ec32789",
   "metadata": {},
   "outputs": [
    {
     "name": "stdout",
     "output_type": "stream",
     "text": [
      "7\n",
      "3\n",
      "10\n",
      "2.5\n"
     ]
    }
   ],
   "source": [
    "print(a + b)\n",
    "print(a - b)\n",
    "print(a * b)\n",
    "print(a / b)"
   ]
  },
  {
   "cell_type": "code",
   "execution_count": 98,
   "id": "226d1048-e1d8-4a8a-a209-f728fc840d04",
   "metadata": {},
   "outputs": [
    {
     "name": "stdout",
     "output_type": "stream",
     "text": [
      "25\n",
      "2\n",
      "1\n"
     ]
    }
   ],
   "source": [
    "print(a ** b)\n",
    "print(a // b) # 나머지의 몫만 표시하기 \n",
    "print(a % b) # 나머지만 표시하기 "
   ]
  },
  {
   "cell_type": "code",
   "execution_count": 103,
   "id": "b5068bf9-6d16-4864-83e7-144b6cf57dd7",
   "metadata": {},
   "outputs": [
    {
     "name": "stdout",
     "output_type": "stream",
     "text": [
      "(2, 1)\n"
     ]
    }
   ],
   "source": [
    "result = divmod(a, b) #나눗셈 도구, a//b 몫과 나머지가 나옴\n",
    "print(result)"
   ]
  },
  {
   "cell_type": "markdown",
   "id": "a891107a-7a15-4009-9b92-638a229e8cb8",
   "metadata": {},
   "source": [
    "## 2.2 비교연산자"
   ]
  },
  {
   "cell_type": "code",
   "execution_count": 107,
   "id": "2663e13e-cba5-4a81-bc33-df213331480d",
   "metadata": {},
   "outputs": [],
   "source": [
    "a = 5\n",
    "b = 10"
   ]
  },
  {
   "cell_type": "code",
   "execution_count": 112,
   "id": "60682467-c30c-477a-87be-fe5b99b2ee10",
   "metadata": {},
   "outputs": [
    {
     "name": "stdout",
     "output_type": "stream",
     "text": [
      "False\n",
      "True\n",
      "False\n",
      "True\n"
     ]
    }
   ],
   "source": [
    "print(a > b)\n",
    "print(a < b)\n",
    "print(a >= b)\n",
    "print(a <= b)"
   ]
  },
  {
   "cell_type": "code",
   "execution_count": 115,
   "id": "7124ce8c-204a-4e63-af10-9fc24f75123a",
   "metadata": {},
   "outputs": [
    {
     "name": "stdout",
     "output_type": "stream",
     "text": [
      "False\n",
      "True\n"
     ]
    }
   ],
   "source": [
    "print(a == b) # 같나요\n",
    "print(a != b) # 다르나요"
   ]
  },
  {
   "cell_type": "code",
   "execution_count": 117,
   "id": "0c51ddf8-4511-42d7-923a-3f80b4879888",
   "metadata": {},
   "outputs": [
    {
     "name": "stdout",
     "output_type": "stream",
     "text": [
      "True\n",
      "False\n"
     ]
    }
   ],
   "source": [
    "print('hi' == 'hi')\n",
    "print('hi' == 'Hi')"
   ]
  },
  {
   "cell_type": "markdown",
   "id": "ca2c0d3e-c2ba-4223-96ab-43e1cc06ed4d",
   "metadata": {},
   "source": [
    "## 2.3 논리연산자\n",
    "- and : 양쪽 모두 True 일때, True를 반환 \n",
    "- or  : 양쪽 모두 False 일때, False를 반환\n",
    "- not : 상태를 부정 # T>F F>T"
   ]
  },
  {
   "cell_type": "code",
   "execution_count": 118,
   "id": "80ddd8b6-a61f-4a65-bd94-58cc45c49f92",
   "metadata": {},
   "outputs": [
    {
     "name": "stdout",
     "output_type": "stream",
     "text": [
      "True\n",
      "False\n",
      "False\n",
      "False\n"
     ]
    }
   ],
   "source": [
    "print(True and True)\n",
    "print(False and False)\n",
    "print(True and False)\n",
    "print(False and True)"
   ]
  },
  {
   "cell_type": "code",
   "execution_count": 119,
   "id": "0dbca6f9-79f9-4eba-8fa8-41b7403d4f69",
   "metadata": {},
   "outputs": [
    {
     "name": "stdout",
     "output_type": "stream",
     "text": [
      "True\n",
      "True\n",
      "False\n",
      "True\n"
     ]
    }
   ],
   "source": [
    "print(True or False)\n",
    "print(True or True)\n",
    "print(False or False)\n",
    "print(False or True)"
   ]
  },
  {
   "cell_type": "code",
   "execution_count": 120,
   "id": "cb316832-bd03-45e5-ab01-b42186862b56",
   "metadata": {},
   "outputs": [
    {
     "name": "stdout",
     "output_type": "stream",
     "text": [
      "False\n"
     ]
    }
   ],
   "source": [
    "a = True\n",
    "print(not a)"
   ]
  },
  {
   "cell_type": "code",
   "execution_count": 126,
   "id": "4a4f487c-a176-4cad-a16b-6c3db7a19fb0",
   "metadata": {},
   "outputs": [
    {
     "name": "stdout",
     "output_type": "stream",
     "text": [
      "5\n",
      "0\n",
      "0\n",
      "0\n"
     ]
    }
   ],
   "source": [
    "# 단축평가\n",
    "print(3 and 5) # 3은 T로 추정 T and T는 T\n",
    "print(3 and 0) # 3은 T, 0은 F T and F는 F\n",
    "print(0 and 5)\n",
    "print(0 and 0)"
   ]
  },
  {
   "cell_type": "code",
   "execution_count": 129,
   "id": "84d817c4-e310-4221-bbc6-5d59c12b7a4e",
   "metadata": {},
   "outputs": [
    {
     "name": "stdout",
     "output_type": "stream",
     "text": [
      "3\n",
      "3\n",
      "5\n",
      "0\n"
     ]
    }
   ],
   "source": [
    "print(3 or 5) # T or T =T\n",
    "print(3 or 0) # T or F =T\n",
    "print(0 or 5) # F or T =T\n",
    "print(0 or 0) # F or F =F"
   ]
  },
  {
   "cell_type": "markdown",
   "id": "08238556-a5b4-43f0-aadc-da45b034f44b",
   "metadata": {},
   "source": [
    "## 2.4 복합 연산자"
   ]
  },
  {
   "cell_type": "code",
   "execution_count": 157,
   "id": "daf9ac84-c4c9-4e08-bbe2-1a7f2f877347",
   "metadata": {},
   "outputs": [],
   "source": [
    "a = 2\n",
    "b = 3"
   ]
  },
  {
   "cell_type": "code",
   "execution_count": 138,
   "id": "5a19a217-0a5e-45b3-a212-faad2d9d4573",
   "metadata": {},
   "outputs": [],
   "source": [
    "a = a + b\n",
    "a = a - b\n",
    "a = a * a\n",
    "a = a / b"
   ]
  },
  {
   "cell_type": "code",
   "execution_count": 141,
   "id": "cac8e5f4-c0da-4b89-b598-30a81022ce3d",
   "metadata": {},
   "outputs": [],
   "source": [
    "a += b\n",
    "a -= b\n",
    "a *= b\n",
    "a /= b\n",
    "a //= b\n",
    "a %= b\n",
    "a **= b"
   ]
  },
  {
   "cell_type": "markdown",
   "id": "96a6f83e-46da-41bd-ae7a-875ca1636604",
   "metadata": {},
   "source": [
    "## 2.5 기타연산자"
   ]
  },
  {
   "cell_type": "code",
   "execution_count": 163,
   "id": "871f6015-8090-4c3a-bd43-50ddf0c143bc",
   "metadata": {},
   "outputs": [],
   "source": [
    "a = 'hi'\n",
    "b = 'hello'"
   ]
  },
  {
   "cell_type": "code",
   "execution_count": 167,
   "id": "1a500967-ffbc-45bf-9462-fb296ae8d013",
   "metadata": {},
   "outputs": [
    {
     "name": "stdout",
     "output_type": "stream",
     "text": [
      "hihello\n"
     ]
    }
   ],
   "source": [
    "#concatenation \n",
    "print(a + b)\n"
   ]
  },
  {
   "cell_type": "code",
   "execution_count": 169,
   "id": "4d8f3c72-98f9-4eb3-894d-e587accf84b3",
   "metadata": {},
   "outputs": [],
   "source": [
    "a = [1, 2, 3]\n",
    "b = [2, 3, 4]"
   ]
  },
  {
   "cell_type": "code",
   "execution_count": 171,
   "id": "9db7eeea-c773-4fa5-86ed-699e3b84c941",
   "metadata": {},
   "outputs": [
    {
     "name": "stdout",
     "output_type": "stream",
     "text": [
      "[1, 2, 3, 2, 3, 4]\n"
     ]
    }
   ],
   "source": [
    "print(a + b)"
   ]
  },
  {
   "cell_type": "code",
   "execution_count": 174,
   "id": "f5fea9d9-7b90-49c4-8a2b-2e5ea837862d",
   "metadata": {},
   "outputs": [
    {
     "name": "stdout",
     "output_type": "stream",
     "text": [
      "True\n",
      "False\n"
     ]
    }
   ],
   "source": [
    "print(1 in a) # 1 이라는 데이터가 a에 포함되어있나요\n",
    "print(10 in a) # 10이라는 데이터가 a에 포함되어있나요"
   ]
  },
  {
   "cell_type": "code",
   "execution_count": 181,
   "id": "5bdd720d-b762-4061-84ac-f477b76c9a57",
   "metadata": {},
   "outputs": [],
   "source": [
    "a = 100\n",
    "b = 100"
   ]
  },
  {
   "cell_type": "code",
   "execution_count": 189,
   "id": "a29fdee2-89aa-4ed1-9216-fb599206f1de",
   "metadata": {},
   "outputs": [
    {
     "name": "stdout",
     "output_type": "stream",
     "text": [
      "True\n",
      "True\n"
     ]
    }
   ],
   "source": [
    "print(a == b)\n",
    "print(a is b)\n",
    "# ==은 a와 b값이 같은지 비교\n",
    "# is는 a와 b가 같은 객체인가 비교, a가 삼겹살 1이라고 생각 b가 삼겹살2라고 생각 그러면 a와 b는 데이터값은 같지만 같은\n",
    "#고기라고 볼 수 없음\n",
    "# 5 ~ 256까지는 같은 객체라고 생각함, 257부터는 같은 객체라고 생각 하지 않음"
   ]
  },
  {
   "cell_type": "markdown",
   "id": "26470b06-87d2-4e91-9bdf-7a43c244d4a7",
   "metadata": {},
   "source": [
    "### 연산자 우선순위\n",
    "0. ()를 통해서 그룹\n",
    "1. **\n",
    "2. 산술연산자(*, /)\n",
    "3. 산술연산자(+, -)\n",
    "4. 비교연산자, in, is\n",
    "5. not\n",
    "6. and\n",
    "7. or\n",
    "   \n",
    "   "
   ]
  },
  {
   "cell_type": "code",
   "execution_count": 192,
   "id": "5e415420-a971-45c3-85f1-79f02bc71afd",
   "metadata": {},
   "outputs": [
    {
     "name": "stdout",
     "output_type": "stream",
     "text": [
      "-81\n",
      "81\n"
     ]
    }
   ],
   "source": [
    "print(-3 ** 4)\n",
    "print((-3) ** 4)"
   ]
  },
  {
   "cell_type": "markdown",
   "id": "2d17e259-9b07-4a5d-a705-e423efeeab72",
   "metadata": {},
   "source": [
    "# 3. 형변환"
   ]
  },
  {
   "cell_type": "markdown",
   "id": "9eda43be-60a4-43fb-ae8d-edc27f2118eb",
   "metadata": {},
   "source": [
    "## 3.1 암시적 형변환"
   ]
  },
  {
   "cell_type": "code",
   "execution_count": 198,
   "id": "67a166f4-be14-414d-af96-e29d78d20317",
   "metadata": {},
   "outputs": [],
   "source": [
    "a = True # T = 1\n",
    "b = False # F = 0\n",
    "c = 1"
   ]
  },
  {
   "cell_type": "code",
   "execution_count": 197,
   "id": "2d93df48-a148-4a7a-9765-3441ee3a9079",
   "metadata": {},
   "outputs": [
    {
     "name": "stdout",
     "output_type": "stream",
     "text": [
      "1\n",
      "2\n"
     ]
    }
   ],
   "source": [
    "print(a + b)\n",
    "print(a + c)"
   ]
  },
  {
   "cell_type": "markdown",
   "id": "d40fa65e-6575-47aa-9394-0d4cd7f6395f",
   "metadata": {},
   "source": [
    "## 3.2 명시적 형변환\n",
    "- int()\n",
    "- float()\n",
    "- str()\n",
    "- bool()"
   ]
  },
  {
   "cell_type": "code",
   "execution_count": 199,
   "id": "2ccf0bf4-4a58-458a-95ed-91a968dd24cf",
   "metadata": {},
   "outputs": [],
   "source": [
    "a = 1\n",
    "b = '반'"
   ]
  },
  {
   "cell_type": "code",
   "execution_count": 200,
   "id": "79cd632e-cc71-4efa-b36d-3ce9ed7f1300",
   "metadata": {},
   "outputs": [
    {
     "ename": "TypeError",
     "evalue": "unsupported operand type(s) for +: 'int' and 'str'",
     "output_type": "error",
     "traceback": [
      "\u001b[1;31m---------------------------------------------------------------------------\u001b[0m",
      "\u001b[1;31mTypeError\u001b[0m                                 Traceback (most recent call last)",
      "Cell \u001b[1;32mIn[200], line 1\u001b[0m\n\u001b[1;32m----> 1\u001b[0m \u001b[38;5;28mprint\u001b[39m(\u001b[43ma\u001b[49m\u001b[43m \u001b[49m\u001b[38;5;241;43m+\u001b[39;49m\u001b[43m \u001b[49m\u001b[43mb\u001b[49m)\n",
      "\u001b[1;31mTypeError\u001b[0m: unsupported operand type(s) for +: 'int' and 'str'"
     ]
    }
   ],
   "source": [
    "print(a + b)"
   ]
  },
  {
   "cell_type": "code",
   "execution_count": 202,
   "id": "7eae9e3f-5764-4281-9162-fe98dcb1cae1",
   "metadata": {},
   "outputs": [
    {
     "name": "stdout",
     "output_type": "stream",
     "text": [
      "1반\n"
     ]
    }
   ],
   "source": [
    "print(str(a) + b)"
   ]
  },
  {
   "cell_type": "code",
   "execution_count": 207,
   "id": "d0c3b150-6ee8-4e0a-a5d9-66df138daf51",
   "metadata": {},
   "outputs": [
    {
     "name": "stdout",
     "output_type": "stream",
     "text": [
      "<class 'str'>\n",
      "3\n",
      "3\n",
      "<class 'int'>\n"
     ]
    }
   ],
   "source": [
    "a = '3'\n",
    "print(type(a))\n",
    "print(int(a))\n",
    "\n",
    "b = int(a)\n",
    "print(b)\n",
    "print(type(b))"
   ]
  },
  {
   "cell_type": "code",
   "execution_count": 208,
   "id": "d5e70b1a-f64a-42f5-84f9-f649efcf0f3e",
   "metadata": {},
   "outputs": [
    {
     "ename": "ValueError",
     "evalue": "invalid literal for int() with base 10: 'apple'",
     "output_type": "error",
     "traceback": [
      "\u001b[1;31m---------------------------------------------------------------------------\u001b[0m",
      "\u001b[1;31mValueError\u001b[0m                                Traceback (most recent call last)",
      "Cell \u001b[1;32mIn[208], line 2\u001b[0m\n\u001b[0;32m      1\u001b[0m c \u001b[38;5;241m=\u001b[39m \u001b[38;5;124m'\u001b[39m\u001b[38;5;124mapple\u001b[39m\u001b[38;5;124m'\u001b[39m\n\u001b[1;32m----> 2\u001b[0m d \u001b[38;5;241m=\u001b[39m \u001b[38;5;28;43mint\u001b[39;49m\u001b[43m(\u001b[49m\u001b[43mc\u001b[49m\u001b[43m)\u001b[49m \u001b[38;5;66;03m# 숫자로 바꿀 수 있는 형태만 가능 \u001b[39;00m\n",
      "\u001b[1;31mValueError\u001b[0m: invalid literal for int() with base 10: 'apple'"
     ]
    }
   ],
   "source": [
    "c = 'apple'\n",
    "d = int(c) # 숫자로 바꿀 수 있는 형태만 가능 \n"
   ]
  },
  {
   "cell_type": "code",
   "execution_count": 214,
   "id": "e3270251-7b0e-4d24-81a5-214856272124",
   "metadata": {},
   "outputs": [
    {
     "name": "stdout",
     "output_type": "stream",
     "text": [
      "True\n",
      "False\n",
      "True\n"
     ]
    }
   ],
   "source": [
    "a = 1\n",
    "b = 0\n",
    "c = -123\n",
    "print(bool(a)) \n",
    "print(bool(b))\n",
    "print(bool(c))\n",
    "# 0만 빼고 데이터가 있다고 인식 "
   ]
  },
  {
   "cell_type": "code",
   "execution_count": 213,
   "id": "8e2fae9d-92de-4cd3-a949-b6ac27283bd5",
   "metadata": {},
   "outputs": [
    {
     "name": "stdout",
     "output_type": "stream",
     "text": [
      "False\n",
      "True\n"
     ]
    }
   ],
   "source": [
    "print(bool([]))\n",
    "print(bool([1, 2, 3]))"
   ]
  },
  {
   "cell_type": "markdown",
   "id": "9e7dd606-9d99-45f5-9997-761de12baa95",
   "metadata": {},
   "source": [
    "# 4. 시퀀스 자료형\n",
    " - 시퀀스는 데이터의 **순서대로** 나열된 자료구조 (순서대로 나열되었다는 것은 정렬된것과 다르다)\n",
    "\n",
    "1. List\n",
    "2. Tuple\n",
    "3. Range\n",
    "4. String "
   ]
  },
  {
   "cell_type": "markdown",
   "id": "b786874a-7328-49b1-977e-ea6b822831ae",
   "metadata": {},
   "source": [
    "## 4.1 List(리스트, 배열)\n",
    "- 선언 : `var_name = [value1, value2, value3, ...]`\n",
    "- 숫자는 항상 0부터 시작\n",
    "- 접근 : `var_name[index]` "
   ]
  },
  {
   "cell_type": "code",
   "execution_count": 2,
   "id": "d19ef4c3-76c4-4728-884e-c073ed32deb1",
   "metadata": {},
   "outputs": [
    {
     "name": "stdout",
     "output_type": "stream",
     "text": [
      "[]\n",
      "<class 'list'>\n"
     ]
    }
   ],
   "source": [
    "l = []\n",
    "print(l)\n",
    "print(type(l))"
   ]
  },
  {
   "cell_type": "code",
   "execution_count": 5,
   "id": "9dacb872-2fa2-40ca-9e68-c590a7af5fb0",
   "metadata": {},
   "outputs": [
    {
     "name": "stdout",
     "output_type": "stream",
     "text": [
      "['서울', '대전', '부산']\n",
      "서울\n",
      "['서울', '대구', '부산']\n"
     ]
    }
   ],
   "source": [
    "location = ['서울', '대전', '부산']\n",
    "print(location)\n",
    "print(location[0])\n",
    "\n",
    "\n",
    "location[1] = '대구'\n",
    "print(location)"
   ]
  },
  {
   "cell_type": "markdown",
   "id": "648adc1d-8d29-47b6-9b39-a8e86a67ebea",
   "metadata": {},
   "source": [
    "## 4.2 Tuple(튜플)\n",
    "- 선언 : `var_name = (value1, value2, value3, ...)`\n",
    "- 접근 : `var_name[index]`\n",
    "- **수정 불가능 (immutable)**\n",
    "  "
   ]
  },
  {
   "cell_type": "code",
   "execution_count": 6,
   "id": "f77af370-aeac-420e-8d18-3fd0f7a07b23",
   "metadata": {},
   "outputs": [
    {
     "name": "stdout",
     "output_type": "stream",
     "text": [
      "('서울', '대전', '대구')\n",
      "서울\n"
     ]
    }
   ],
   "source": [
    "location = ('서울', '대전', '대구')\n",
    "print(location)\n",
    "print(location[0])"
   ]
  },
  {
   "cell_type": "code",
   "execution_count": 7,
   "id": "fe22ba99-66dd-4492-a1bc-21d61efd7e55",
   "metadata": {},
   "outputs": [
    {
     "ename": "TypeError",
     "evalue": "'tuple' object does not support item assignment",
     "output_type": "error",
     "traceback": [
      "\u001b[1;31m---------------------------------------------------------------------------\u001b[0m",
      "\u001b[1;31mTypeError\u001b[0m                                 Traceback (most recent call last)",
      "Cell \u001b[1;32mIn[7], line 1\u001b[0m\n\u001b[1;32m----> 1\u001b[0m \u001b[43mlocation\u001b[49m\u001b[43m[\u001b[49m\u001b[38;5;241;43m2\u001b[39;49m\u001b[43m]\u001b[49m \u001b[38;5;241m=\u001b[39m \u001b[38;5;124m'\u001b[39m\u001b[38;5;124m부산\u001b[39m\u001b[38;5;124m'\u001b[39m\n",
      "\u001b[1;31mTypeError\u001b[0m: 'tuple' object does not support item assignment"
     ]
    }
   ],
   "source": [
    "location[2] = '부산'"
   ]
  },
  {
   "cell_type": "code",
   "execution_count": 11,
   "id": "8af6fc06-eed3-41eb-a435-2c3b4d4ec94f",
   "metadata": {},
   "outputs": [
    {
     "name": "stdout",
     "output_type": "stream",
     "text": [
      "(2, 1)\n",
      "<class 'tuple'>\n"
     ]
    }
   ],
   "source": [
    "result = divmod(5,2)\n",
    "print(result)\n",
    "print(type(result))\n",
    "# 계산하는 영역은 바꿀 수 없음 = tuple"
   ]
  },
  {
   "cell_type": "code",
   "execution_count": 12,
   "id": "55554c60-d1d5-4b93-8e3c-3dc4cd486dfb",
   "metadata": {},
   "outputs": [
    {
     "name": "stdout",
     "output_type": "stream",
     "text": [
      "2 1\n"
     ]
    }
   ],
   "source": [
    "x = 1\n",
    "y = 2\n",
    "\n",
    "(x,y) = (y,x)\n",
    "print(x,y)"
   ]
  },
  {
   "cell_type": "markdown",
   "id": "61532e00-c290-4aa9-afa5-bbfb633625ab",
   "metadata": {},
   "source": [
    "## 4.3 Range\n",
    "- range(n) : 0부터 n-1까지 범위\n",
    "- range(n,m) : n부터 m-1까지 범위 \n",
    "- range(n, m, s) : n부터 m-1까지 s만큼 증가하는 범위"
   ]
  },
  {
   "cell_type": "code",
   "execution_count": 14,
   "id": "fb5b1ce4-119e-41bd-8a04-9ecc640d9817",
   "metadata": {},
   "outputs": [
    {
     "name": "stdout",
     "output_type": "stream",
     "text": [
      "range(0, 45)\n",
      "[0, 1, 2, 3, 4, 5, 6, 7, 8, 9, 10, 11, 12, 13, 14, 15, 16, 17, 18, 19, 20, 21, 22, 23, 24, 25, 26, 27, 28, 29, 30, 31, 32, 33, 34, 35, 36, 37, 38, 39, 40, 41, 42, 43, 44]\n"
     ]
    }
   ],
   "source": [
    "lotto = range(45)\n",
    "print(lotto)\n",
    "print(list(lotto))"
   ]
  },
  {
   "cell_type": "code",
   "execution_count": 16,
   "id": "c30d63ed-4273-4284-a049-aad8088d8cfb",
   "metadata": {},
   "outputs": [
    {
     "name": "stdout",
     "output_type": "stream",
     "text": [
      "range(1, 46)\n",
      "[1, 2, 3, 4, 5, 6, 7, 8, 9, 10, 11, 12, 13, 14, 15, 16, 17, 18, 19, 20, 21, 22, 23, 24, 25, 26, 27, 28, 29, 30, 31, 32, 33, 34, 35, 36, 37, 38, 39, 40, 41, 42, 43, 44, 45]\n"
     ]
    }
   ],
   "source": [
    "lotto = range(1,46)\n",
    "print(lotto)\n",
    "print(list(lotto))"
   ]
  },
  {
   "cell_type": "code",
   "execution_count": 18,
   "id": "feb47dc1-092e-4c22-b701-001d2fcea77d",
   "metadata": {},
   "outputs": [
    {
     "name": "stdout",
     "output_type": "stream",
     "text": [
      "[2, 4, 6, 8, 10, 12, 14, 16, 18]\n"
     ]
    }
   ],
   "source": [
    "even = range(2, 20, 2)\n",
    "print(list(even))"
   ]
  },
  {
   "cell_type": "code",
   "execution_count": 19,
   "id": "c335abd6-960c-401e-a25c-4a86cfa925aa",
   "metadata": {},
   "outputs": [
    {
     "name": "stdout",
     "output_type": "stream",
     "text": [
      "[0, -2, -4, -6, -8, -10, -12, -14, -16, -18]\n"
     ]
    }
   ],
   "source": [
    "numbers = range(0, -20, -2)\n",
    "print(list(numbers))"
   ]
  },
  {
   "cell_type": "markdown",
   "id": "ea67dabb-dfd4-4256-9574-67245b47b938",
   "metadata": {},
   "source": [
    "## 4.4 String\n",
    "- 기본 데이터 구조 참고"
   ]
  },
  {
   "cell_type": "markdown",
   "id": "7a5f6ed2-cf53-4bc0-bae4-96a7f2a31521",
   "metadata": {},
   "source": [
    "## 4.5 시퀀스에서 활용가능한 연산/함수"
   ]
  },
  {
   "cell_type": "code",
   "execution_count": 21,
   "id": "46344af4-25f9-4def-9243-22dea4108e1d",
   "metadata": {},
   "outputs": [],
   "source": [
    "my_list = ['a', 'b', 'c', 'd', 'e']\n",
    "my_tuple = (6, 7, 8, 9, 10)\n",
    "my_range = range(5)\n",
    "my_string = '가나다라마'"
   ]
  },
  {
   "cell_type": "code",
   "execution_count": 22,
   "id": "ddd7f7ad-a69e-482f-89ad-108ab539a0df",
   "metadata": {},
   "outputs": [
    {
     "name": "stdout",
     "output_type": "stream",
     "text": [
      "a\n",
      "6\n",
      "0\n",
      "가\n"
     ]
    }
   ],
   "source": [
    "# INDEXING\n",
    "print(my_list[0])\n",
    "print(my_tuple[0])\n",
    "print(my_range[0])\n",
    "print(my_string[0])"
   ]
  },
  {
   "cell_type": "code",
   "execution_count": 25,
   "id": "161a2651-a5bc-4b8a-8fb2-9582ad69fdcb",
   "metadata": {},
   "outputs": [
    {
     "name": "stdout",
     "output_type": "stream",
     "text": [
      "['c', 'd', 'e']\n",
      "(8, 9, 10)\n",
      "range(2, 5)\n",
      "다라마\n"
     ]
    }
   ],
   "source": [
    "# slicing\n",
    "# var_name[index1:index2]\n",
    "print(my_list[2:5])\n",
    "print(my_tuple[2:5])\n",
    "print(my_range[2:5])\n",
    "print(my_string[2:5])\n",
    "# 2번째 부터 5번째 미만까지\n",
    "\n"
   ]
  },
  {
   "cell_type": "code",
   "execution_count": 27,
   "id": "6cff20fd-2852-4fa1-aa35-2ce8e64110a3",
   "metadata": {},
   "outputs": [
    {
     "name": "stdout",
     "output_type": "stream",
     "text": [
      "['a', 'b', 'c', 'd', 'e']\n",
      "['d', 'e']\n",
      "['a', 'b', 'c']\n"
     ]
    }
   ],
   "source": [
    "# 인덱스_생략\n",
    "print(my_list[0:])\n",
    "print(my_list[3:])\n",
    "print(my_list[:3])\n"
   ]
  },
  {
   "cell_type": "code",
   "execution_count": 28,
   "id": "c4d5214b-3c69-4ec8-8a9d-044467b92549",
   "metadata": {},
   "outputs": [
    {
     "name": "stdout",
     "output_type": "stream",
     "text": [
      "e\n",
      "['c', 'd']\n"
     ]
    }
   ],
   "source": [
    "# 음수 인덱스 (파이썬만 가능)\n",
    "print(my_list[-1])\n",
    "print(my_list[-3:-1])"
   ]
  },
  {
   "cell_type": "code",
   "execution_count": 32,
   "id": "faaddf33-d025-4265-a673-30146da086a7",
   "metadata": {},
   "outputs": [
    {
     "name": "stdout",
     "output_type": "stream",
     "text": [
      "['a', 'b', 'c', 'd', 'e']\n",
      "['a', 'c', 'e']\n"
     ]
    }
   ],
   "source": [
    "# step\n",
    "print(my_list[:])\n",
    "print(my_list[::2]) # : =step"
   ]
  },
  {
   "cell_type": "code",
   "execution_count": 38,
   "id": "d40ac7be-f09e-4c6b-97d0-ffd168714906",
   "metadata": {},
   "outputs": [
    {
     "name": "stdout",
     "output_type": "stream",
     "text": [
      "False\n",
      "True\n",
      "False\n",
      "True\n"
     ]
    }
   ],
   "source": [
    "# in\n",
    "print(1 in my_list)\n",
    "\n",
    "print('a' in my_list)\n",
    "\n",
    "print('a' not in my_list) # not in도 가능\n",
    "\n",
    "print('z' not in my_list) "
   ]
  },
  {
   "cell_type": "code",
   "execution_count": 41,
   "id": "f2793089-8f3f-48d9-8ef7-7af10a013231",
   "metadata": {},
   "outputs": [
    {
     "name": "stdout",
     "output_type": "stream",
     "text": [
      "['a', 'b', 'c', 'd', 'e', 1, 2, 3, 4, 5]\n",
      "(6, 7, 8, 9, 10, 1, 2, 3)\n"
     ]
    }
   ],
   "source": [
    "# concatennation (연결)\n",
    "print(my_list + [1, 2, 3, 4, 5])\n",
    "print(my_tuple + (1, 2, 3)) # tuple에 인덱스[]를 더하면 안됨 tuple은 ()"
   ]
  },
  {
   "cell_type": "code",
   "execution_count": 44,
   "id": "12190193-4104-40ef-8893-7ba61c491016",
   "metadata": {},
   "outputs": [
    {
     "name": "stdout",
     "output_type": "stream",
     "text": [
      "['a', 'b', 'c', 'd', 'e', 'a', 'b', 'c', 'd', 'e']\n",
      "aaaaa\n",
      "[0, 0, 0, 0, 0, 0, 0, 0, 0, 0]\n"
     ]
    }
   ],
   "source": [
    "# *\n",
    "print(my_list * 2) # 두번 반복 출력 (연결을 두번 했다고 생각)\n",
    "print('a' * 5) # 연결을 다섯번 했다고 생각\n",
    "\n",
    "# [0, 0, 0, 0, 0, 0, 0, 0, 0, 0, 0]\n",
    "print([0] * 10)"
   ]
  },
  {
   "cell_type": "code",
   "execution_count": 45,
   "id": "7f2d9c3c-39f2-421a-ab04-ba3ec21e4a71",
   "metadata": {},
   "outputs": [
    {
     "data": {
      "text/plain": [
       "5"
      ]
     },
     "execution_count": 45,
     "metadata": {},
     "output_type": "execute_result"
    }
   ],
   "source": [
    "# 가장 많이 쓰는 함수들\n",
    "len(my_list) # 길이"
   ]
  },
  {
   "cell_type": "code",
   "execution_count": 46,
   "id": "3291b682-1248-437d-95be-9761dc9b5d43",
   "metadata": {},
   "outputs": [
    {
     "data": {
      "text/plain": [
       "'e'"
      ]
     },
     "execution_count": 46,
     "metadata": {},
     "output_type": "execute_result"
    }
   ],
   "source": [
    "max(my_list) # 가장 큰 값 출력"
   ]
  },
  {
   "cell_type": "code",
   "execution_count": 48,
   "id": "250ba00e-d1ad-4a80-ad0c-3450dc61c546",
   "metadata": {},
   "outputs": [
    {
     "data": {
      "text/plain": [
       "'a'"
      ]
     },
     "execution_count": 48,
     "metadata": {},
     "output_type": "execute_result"
    }
   ],
   "source": [
    "min(my_list) # 가장 작은 값 출력"
   ]
  },
  {
   "cell_type": "markdown",
   "id": "552b8e7d-baef-4171-bb16-20279b7aff3c",
   "metadata": {},
   "source": [
    "# 5. 시퀀스형이 아닌 자료구조"
   ]
  },
  {
   "cell_type": "markdown",
   "id": "a33cea60-0c3d-4087-b97d-d1058ec5b106",
   "metadata": {},
   "source": [
    "## 시퀀스는 순서가 핵심 > 시퀀스형이 아니라는것은 순서가 없다는것\n",
    "\n",
    "## 5.1 Set \n",
    "- 수학에서의 집합과 비슷한 개념 (중복값이 없음)\n",
    "\n",
    "- 선언 : `var_name = {value_1, value_2, value_3, ...}`\n"
   ]
  },
  {
   "cell_type": "code",
   "execution_count": 52,
   "id": "bcd8f449-c059-4c90-a5be-2bb0f4cd220f",
   "metadata": {},
   "outputs": [],
   "source": [
    "my_set_a = {1, 2, 3, 4, 5, 5, 5, 5}\n",
    "my_set_b = {1, 3, 5, 7, 9}"
   ]
  },
  {
   "cell_type": "code",
   "execution_count": 54,
   "id": "eba2d130-df3a-4fd8-a77b-a93d03fdca66",
   "metadata": {},
   "outputs": [
    {
     "name": "stdout",
     "output_type": "stream",
     "text": [
      "{1, 2, 3, 4, 5}\n",
      "{1, 3, 5, 7, 9}\n"
     ]
    }
   ],
   "source": [
    "print(my_set_a) #중복을 허용하지 않기 때문에 숫자 5가 중복돼도 하나만 출력\n",
    "print(my_set_b)"
   ]
  },
  {
   "cell_type": "code",
   "execution_count": 57,
   "id": "5f84b24d-f2c5-47a4-a13e-845e006e1d01",
   "metadata": {},
   "outputs": [
    {
     "name": "stdout",
     "output_type": "stream",
     "text": [
      "{2, 4}\n",
      "{1, 2, 3, 4, 5, 7, 9}\n",
      "{1, 3, 5}\n"
     ]
    }
   ],
   "source": [
    "print(my_set_a - my_set_b)\n",
    "print(my_set_a | my_set_b) # 더하는 기능은 +가 아니라 |로 (합집합)\n",
    "print(my_set_a & my_set_b) # 교집합 기능"
   ]
  },
  {
   "cell_type": "code",
   "execution_count": 59,
   "id": "d4844661-1624-4d72-8382-6396621eb8cf",
   "metadata": {},
   "outputs": [
    {
     "name": "stdout",
     "output_type": "stream",
     "text": [
      "{'강릉', '서울', '청주', '부산', '대전'}\n"
     ]
    }
   ],
   "source": [
    "location = ['서울', '대전', '청주', '부산', '강릉', '대전', '청주', '부산', '강릉', '대전', '청주', '부산', '강릉', '대전', '청주', '부산', '강릉' ]\n",
    "print(set(location)) # 순서는 랜덤으로, 교집합으로 출력"
   ]
  },
  {
   "cell_type": "markdown",
   "id": "1937d94c-07c5-47e4-a699-9110eb63c5f2",
   "metadata": {},
   "source": [
    "## 5.2 dictionary \n",
    "- 선언 : `var_name = {key1: value1, key2: value2, key3: value3, ... }    # key1: value1가 한덩어리`\n",
    "- 접근 : `var_name[key]`\n",
    "- key에는 대부분 str\n",
    "- 접근 할 때는 항상 key값을 중심으로 "
   ]
  },
  {
   "cell_type": "code",
   "execution_count": 60,
   "id": "e6c0abfb-dc15-46b1-ab03-6f0c23d59bb7",
   "metadata": {},
   "outputs": [
    {
     "name": "stdout",
     "output_type": "stream",
     "text": [
      "02\n"
     ]
    }
   ],
   "source": [
    "my_dict = {'서울': '02', '경기': '031'} \n",
    "print(my_dict['서울'])"
   ]
  },
  {
   "cell_type": "code",
   "execution_count": 61,
   "id": "839ae7b0-629f-4634-b77d-0a3124bb1ca1",
   "metadata": {},
   "outputs": [],
   "source": [
    "my_info = {\n",
    "    'name': 'yerin',\n",
    "    'location': 'seoul',\n",
    "    'age': 28,\n",
    "    'skill': ['python', 'git']    \n",
    "}"
   ]
  },
  {
   "cell_type": "code",
   "execution_count": 72,
   "id": "9182f2c6-1a61-4366-8dd2-774553121871",
   "metadata": {},
   "outputs": [
    {
     "name": "stdout",
     "output_type": "stream",
     "text": [
      "yerin\n",
      "28\n",
      "git\n"
     ]
    }
   ],
   "source": [
    "print(my_info['name'])\n",
    "print(my_info['age'])\n",
    "print(my_info['skill'][1]) # git을 보고싶을 때 끊어서 생각하기 skill먼저 > git의 인덱스 번호 생각"
   ]
  },
  {
   "cell_type": "markdown",
   "id": "c2a78b78-d9f2-422f-9daa-2b088218872c",
   "metadata": {},
   "source": [
    "**데이터 타입**\n",
    "1. number\n",
    "2. boolean\n",
    "3. string\n",
    "\n",
    "**자료구조**\n",
    "- 시퀀스\n",
    "1. [list] : mutable\n",
    "2. (tuple) : immutable\n",
    "3. range() : immutable\n",
    "4. 'string' : immutable # 전체를 바꾸는건 가능하지만 일부를 변경하는것은 불가능 ) h -> a (x), hi -> hello (o)\n",
    "\n",
    "- 시퀀스가 아닌 것\n",
    "1. {Set} : mutable\n",
    "2. {dict: ionary} : mutable"
   ]
  },
  {
   "cell_type": "code",
   "execution_count": null,
   "id": "72de503c-5d87-4ac9-899b-f7ba81444e49",
   "metadata": {},
   "outputs": [],
   "source": []
  }
 ],
 "metadata": {
  "kernelspec": {
   "display_name": "Python 3 (ipykernel)",
   "language": "python",
   "name": "python3"
  },
  "language_info": {
   "codemirror_mode": {
    "name": "ipython",
    "version": 3
   },
   "file_extension": ".py",
   "mimetype": "text/x-python",
   "name": "python",
   "nbconvert_exporter": "python",
   "pygments_lexer": "ipython3",
   "version": "3.13.2"
  }
 },
 "nbformat": 4,
 "nbformat_minor": 5
}
