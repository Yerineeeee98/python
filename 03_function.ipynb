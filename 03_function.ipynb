{
 "cells": [
  {
   "cell_type": "markdown",
   "id": "6fe07bc3-67ba-47da-a343-944bf45ce135",
   "metadata": {},
   "source": [
    "# 함수"
   ]
  },
  {
   "cell_type": "code",
   "execution_count": 14,
   "id": "7480c9ac-8dcd-4272-aa7f-6ee3504edfbc",
   "metadata": {},
   "outputs": [
    {
     "name": "stdout",
     "output_type": "stream",
     "text": [
      "사각형의 면적은 1000이고 둘레는 140입니다.\n"
     ]
    }
   ],
   "source": [
    "# 사각형의 가로와 세로의 길이를 이용해서 면적과 둘레를 구하는 코드.\n",
    "height = 50\n",
    "width = 20\n",
    "\n",
    "area = height * width\n",
    "perimeter = (height + width) * 2\n",
    "\n",
    "print(f'사각형의 면적은 {area}이고 둘레는 {perimeter}입니다.')"
   ]
  },
  {
   "cell_type": "code",
   "execution_count": 2,
   "id": "deb3ec1b-9a0e-4071-a2f0-633618927e86",
   "metadata": {},
   "outputs": [
    {
     "name": "stdout",
     "output_type": "stream",
     "text": [
      "사각형의 면적은 2500이고 둘레는 200입니다.\n"
     ]
    }
   ],
   "source": [
    "#  사각형의 가로와 세로의 길이를 이용해서 면적과 둘레를 구하는 코드.\n",
    "height2 = 50\n",
    "width2 = 50\n",
    "\n",
    "area2 = height2 * width2\n",
    "perimeter2 = (height2 + width2) * 2\n",
    "\n",
    "print(f'사각형의 면적은 {area2}이고 둘레는 {perimeter2}입니다.')"
   ]
  },
  {
   "cell_type": "markdown",
   "id": "e5d30aa0-cd72-4138-bbbc-09ecdf824764",
   "metadata": {},
   "source": [
    "## 함수의 선언과 호출"
   ]
  },
  {
   "cell_type": "markdown",
   "id": "1b682214-80d8-4237-9dbc-c4b240bbeeff",
   "metadata": {},
   "source": [
    "- 선언\n",
    "```python\n",
    "def func_name(parameter1, parameter2, ...):\n",
    "    code1\n",
    "    code2\n",
    "    ...\n",
    "    return value\n",
    "```\n",
    "\n",
    "- 호출\n",
    "  - `func_name(parameter1, parameter2, ...)`"
   ]
  },
  {
   "cell_type": "code",
   "execution_count": 5,
   "id": "f6d1998c-1245-465e-83d2-58e481af9eb6",
   "metadata": {},
   "outputs": [],
   "source": [
    "def rectangle(height, width):\n",
    "    area = height * width\n",
    "    perimeter = (height + width) * 2\n",
    "\n",
    "    print(f'사각형의 면적은 {area}입니다. 둘레는 {perimeter}입니다.')"
   ]
  },
  {
   "cell_type": "code",
   "execution_count": 7,
   "id": "5b0ed61f-6eab-4cf3-afac-7f724114d764",
   "metadata": {},
   "outputs": [
    {
     "name": "stdout",
     "output_type": "stream",
     "text": [
      "사각형의 면적은 1500입니다. 둘레는 160입니다.\n",
      "사각형의 면적은 2000입니다. 둘레는 240입니다.\n"
     ]
    }
   ],
   "source": [
    "rectangle(50, 30)\n",
    "rectangle(20, 100)"
   ]
  },
  {
   "cell_type": "code",
   "execution_count": 10,
   "id": "2b27e96a-d2cb-4625-9e34-64eb982b6de0",
   "metadata": {
    "collapsed": true,
    "jupyter": {
     "outputs_hidden": true
    },
    "scrolled": true
   },
   "outputs": [
    {
     "data": {
      "text/plain": [
       "['ArithmeticError',\n",
       " 'AssertionError',\n",
       " 'AttributeError',\n",
       " 'BaseException',\n",
       " 'BaseExceptionGroup',\n",
       " 'BlockingIOError',\n",
       " 'BrokenPipeError',\n",
       " 'BufferError',\n",
       " 'BytesWarning',\n",
       " 'ChildProcessError',\n",
       " 'ConnectionAbortedError',\n",
       " 'ConnectionError',\n",
       " 'ConnectionRefusedError',\n",
       " 'ConnectionResetError',\n",
       " 'DeprecationWarning',\n",
       " 'EOFError',\n",
       " 'Ellipsis',\n",
       " 'EncodingWarning',\n",
       " 'EnvironmentError',\n",
       " 'Exception',\n",
       " 'ExceptionGroup',\n",
       " 'False',\n",
       " 'FileExistsError',\n",
       " 'FileNotFoundError',\n",
       " 'FloatingPointError',\n",
       " 'FutureWarning',\n",
       " 'GeneratorExit',\n",
       " 'IOError',\n",
       " 'ImportError',\n",
       " 'ImportWarning',\n",
       " 'IndentationError',\n",
       " 'IndexError',\n",
       " 'InterruptedError',\n",
       " 'IsADirectoryError',\n",
       " 'KeyError',\n",
       " 'KeyboardInterrupt',\n",
       " 'LookupError',\n",
       " 'MemoryError',\n",
       " 'ModuleNotFoundError',\n",
       " 'NameError',\n",
       " 'None',\n",
       " 'NotADirectoryError',\n",
       " 'NotImplemented',\n",
       " 'NotImplementedError',\n",
       " 'OSError',\n",
       " 'OverflowError',\n",
       " 'PendingDeprecationWarning',\n",
       " 'PermissionError',\n",
       " 'ProcessLookupError',\n",
       " 'PythonFinalizationError',\n",
       " 'RecursionError',\n",
       " 'ReferenceError',\n",
       " 'ResourceWarning',\n",
       " 'RuntimeError',\n",
       " 'RuntimeWarning',\n",
       " 'StopAsyncIteration',\n",
       " 'StopIteration',\n",
       " 'SyntaxError',\n",
       " 'SyntaxWarning',\n",
       " 'SystemError',\n",
       " 'SystemExit',\n",
       " 'TabError',\n",
       " 'TimeoutError',\n",
       " 'True',\n",
       " 'TypeError',\n",
       " 'UnboundLocalError',\n",
       " 'UnicodeDecodeError',\n",
       " 'UnicodeEncodeError',\n",
       " 'UnicodeError',\n",
       " 'UnicodeTranslateError',\n",
       " 'UnicodeWarning',\n",
       " 'UserWarning',\n",
       " 'ValueError',\n",
       " 'Warning',\n",
       " 'WindowsError',\n",
       " 'ZeroDivisionError',\n",
       " '_IncompleteInputError',\n",
       " '__IPYTHON__',\n",
       " '__build_class__',\n",
       " '__debug__',\n",
       " '__doc__',\n",
       " '__import__',\n",
       " '__loader__',\n",
       " '__name__',\n",
       " '__package__',\n",
       " '__spec__',\n",
       " 'abs',\n",
       " 'aiter',\n",
       " 'all',\n",
       " 'anext',\n",
       " 'any',\n",
       " 'ascii',\n",
       " 'bin',\n",
       " 'bool',\n",
       " 'breakpoint',\n",
       " 'bytearray',\n",
       " 'bytes',\n",
       " 'callable',\n",
       " 'chr',\n",
       " 'classmethod',\n",
       " 'compile',\n",
       " 'complex',\n",
       " 'copyright',\n",
       " 'credits',\n",
       " 'delattr',\n",
       " 'dict',\n",
       " 'dir',\n",
       " 'display',\n",
       " 'divmod',\n",
       " 'enumerate',\n",
       " 'eval',\n",
       " 'exec',\n",
       " 'execfile',\n",
       " 'filter',\n",
       " 'float',\n",
       " 'format',\n",
       " 'frozenset',\n",
       " 'get_ipython',\n",
       " 'getattr',\n",
       " 'globals',\n",
       " 'hasattr',\n",
       " 'hash',\n",
       " 'help',\n",
       " 'hex',\n",
       " 'id',\n",
       " 'input',\n",
       " 'int',\n",
       " 'isinstance',\n",
       " 'issubclass',\n",
       " 'iter',\n",
       " 'len',\n",
       " 'license',\n",
       " 'list',\n",
       " 'locals',\n",
       " 'map',\n",
       " 'max',\n",
       " 'memoryview',\n",
       " 'min',\n",
       " 'next',\n",
       " 'object',\n",
       " 'oct',\n",
       " 'open',\n",
       " 'ord',\n",
       " 'pow',\n",
       " 'print',\n",
       " 'property',\n",
       " 'range',\n",
       " 'repr',\n",
       " 'reversed',\n",
       " 'round',\n",
       " 'runfile',\n",
       " 'set',\n",
       " 'setattr',\n",
       " 'slice',\n",
       " 'sorted',\n",
       " 'staticmethod',\n",
       " 'str',\n",
       " 'sum',\n",
       " 'super',\n",
       " 'tuple',\n",
       " 'type',\n",
       " 'vars',\n",
       " 'zip']"
      ]
     },
     "execution_count": 10,
     "metadata": {},
     "output_type": "execute_result"
    }
   ],
   "source": [
    "dir(__builtins__) # 쓸 수 없는 함수 이름들"
   ]
  },
  {
   "cell_type": "code",
   "execution_count": 11,
   "id": "a683e675-923d-4730-aea0-225152bf2a9f",
   "metadata": {},
   "outputs": [
    {
     "data": {
      "text/plain": [
       "2"
      ]
     },
     "execution_count": 11,
     "metadata": {},
     "output_type": "execute_result"
    }
   ],
   "source": [
    "max(2, 2)"
   ]
  },
  {
   "cell_type": "code",
   "execution_count": 13,
   "id": "819a12cc-35b1-406e-8a9b-c376ea172012",
   "metadata": {},
   "outputs": [],
   "source": [
    "\n",
    "def my_max(num1, num2):\n",
    "    if num1 > num2:\n",
    "        print(num1)\n",
    "    elif num1 < num2:\n",
    "        print(num2)\n",
    "    else:\n",
    "        print('같습니다')"
   ]
  },
  {
   "cell_type": "code",
   "execution_count": 15,
   "id": "e751be29-c7b0-4997-9c65-16a694acb0e9",
   "metadata": {},
   "outputs": [
    {
     "name": "stdout",
     "output_type": "stream",
     "text": [
      "같습니다\n",
      "5\n",
      "5\n"
     ]
    }
   ],
   "source": [
    "my_max(5, 5)\n",
    "my_max(5, 1)\n",
    "my_max(1, 5)"
   ]
  },
  {
   "cell_type": "markdown",
   "id": "cd0424e8-4a81-453d-8258-2a5793070227",
   "metadata": {},
   "source": [
    "### 함수의 return\n",
    "- 함수가 return을 만나면 해당값을 반환하고 함수를 종료\n",
    "- 만약 return이 없는 경우 None을 자동으로 반환\n",
    "- return은 오직 하나의 객체만 반환한다.\n"
   ]
  },
  {
   "cell_type": "code",
   "execution_count": 16,
   "id": "45aaaba5-058a-480b-83cc-8389a8097f7d",
   "metadata": {},
   "outputs": [
    {
     "name": "stdout",
     "output_type": "stream",
     "text": [
      "2\n",
      "None\n"
     ]
    }
   ],
   "source": [
    "result = my_max(1, 2)\n",
    "print(result)\n",
    "# result * 2"
   ]
  },
  {
   "cell_type": "code",
   "execution_count": 2,
   "id": "817202f6-c137-4c03-950f-75c2d9adefcf",
   "metadata": {},
   "outputs": [],
   "source": [
    "def my_max2(num1, num2):\n",
    "    if num1 > num2:\n",
    "        return num1\n",
    "    else:\n",
    "        return num2"
   ]
  },
  {
   "cell_type": "code",
   "execution_count": null,
   "id": "a9167aeb-3e7e-4c63-bbc5-78441c22ddb5",
   "metadata": {},
   "outputs": [],
   "source": []
  },
  {
   "cell_type": "code",
   "execution_count": 5,
   "id": "c9aab13e-1837-4230-88e3-cdb83cde9967",
   "metadata": {},
   "outputs": [
    {
     "name": "stdout",
     "output_type": "stream",
     "text": [
      "2\n"
     ]
    }
   ],
   "source": [
    "result = my_max2(1, 2)\n",
    "print(result)"
   ]
  },
  {
   "cell_type": "code",
   "execution_count": 13,
   "id": "927ec607-7e75-49d5-8dee-54c6c2e25417",
   "metadata": {},
   "outputs": [
    {
     "name": "stdout",
     "output_type": "stream",
     "text": [
      "0\n",
      "1\n",
      "2\n",
      "3\n"
     ]
    },
    {
     "data": {
      "text/plain": [
       "3"
      ]
     },
     "execution_count": 13,
     "metadata": {},
     "output_type": "execute_result"
    }
   ],
   "source": [
    "def my_for(x):\n",
    "    for i in range(x):\n",
    "        print(i)\n",
    "        if i == 3:\n",
    "            return i # 원래는 5번 돌아야하는데 return을 만나서 멈추게 됨\n",
    "my_for(5)"
   ]
  },
  {
   "cell_type": "raw",
   "id": "94b279bf-f3d4-4757-9e2b-3d417d4c36b1",
   "metadata": {},
   "source": [
    "def my_def(x):\n",
    "    return x * 2, x  # () =  tuple이라고 생각 - 하나의 객체라고 생각\n",
    "my_def(10)"
   ]
  },
  {
   "cell_type": "code",
   "execution_count": 44,
   "id": "6e0bcefb-562e-4311-bbf7-da04b956c22d",
   "metadata": {},
   "outputs": [],
   "source": [
    "def my_list_max(list1, list2):\n",
    "    # listi1 = [1, 2, 3]\n",
    "    # list2 = [2, 3, 4]\n",
    "\n",
    "    sum_of_list1 = list1[0] + list1[1] + list1[2]\n",
    "    sum_of_list2 = list2[0] + list2[1] + list2[2]\n",
    "\n",
    "    if sum_of_list1 > sum_of_list2:\n",
    "        return listi1\n",
    "    else:\n",
    "        return list2"
   ]
  },
  {
   "cell_type": "code",
   "execution_count": 47,
   "id": "cdaa871c-6cab-4b43-8f7a-24366c6ea90d",
   "metadata": {},
   "outputs": [],
   "source": [
    "# version2\n",
    "def my_list__max(list1, list2):\n",
    "    sum_of_list1 = 0\n",
    "    sum_of_list2 = 0\n",
    "\n",
    "    for item in list1: #list1에 item이 하나씩 접근, 그리고 하나씩 sum_of_list1에 하나씩 더해짐\n",
    "        sum_of_list1 = sum_of_list1 + item\n",
    "\n",
    "\n",
    "    for item in list2:\n",
    "        sum_of_list2 += item\n",
    "\n",
    "    if sum_of_list > sum_of_list2:\n",
    "        return list1\n",
    "    else:\n",
    "        return list2"
   ]
  },
  {
   "cell_type": "code",
   "execution_count": 48,
   "id": "defccbca-0cfa-4dde-bb32-0714e8a02678",
   "metadata": {},
   "outputs": [],
   "source": [
    "# version3\n",
    "def my_list_max(list1, list2):\n",
    "    sum_of_list1 = sum(list1)\n",
    "    sum_of_list1 = sum(list2)\n",
    "\n",
    "    if sum_of_list1 > sum_of_list2:\n",
    "        return list1\n",
    "    else:\n",
    "        return list2"
   ]
  },
  {
   "cell_type": "code",
   "execution_count": 34,
   "id": "8a36b196-e07e-4b81-8543-970fd603ef26",
   "metadata": {},
   "outputs": [
    {
     "data": {
      "text/plain": [
       "[2, 3, 4]"
      ]
     },
     "execution_count": 34,
     "metadata": {},
     "output_type": "execute_result"
    }
   ],
   "source": [
    "my_list_max([1, 2, 3], [2, 3, 4])\n"
   ]
  },
  {
   "cell_type": "markdown",
   "id": "9900afa5-83de-4037-89b8-f37cdb98284e",
   "metadata": {},
   "source": [
    "### 함수의 인수"
   ]
  },
  {
   "cell_type": "markdown",
   "id": "b1d2963e-ce76-49a3-ae6e-3b68b698737d",
   "metadata": {},
   "source": [
    "#### 위치인수\n",
    "- 기본적으로 함수는 위치를 기준으로 인수를 판단합니다.\n"
   ]
  },
  {
   "cell_type": "code",
   "execution_count": 55,
   "id": "187e74e0-1752-4b3b-a7c4-59d3502d9373",
   "metadata": {},
   "outputs": [],
   "source": [
    "def cylinder(r, h):\n",
    "    # r = 3\n",
    "    # h = 10\n",
    "    return 3.14 * r ** 2 *h"
   ]
  },
  {
   "cell_type": "code",
   "execution_count": 52,
   "id": "31761268-8c31-4c32-97c2-f7f9e3857bd1",
   "metadata": {},
   "outputs": [
    {
     "data": {
      "text/plain": [
       "282.6"
      ]
     },
     "execution_count": 52,
     "metadata": {},
     "output_type": "execute_result"
    }
   ],
   "source": [
    "cylinder(3, 10)"
   ]
  },
  {
   "cell_type": "code",
   "execution_count": 54,
   "id": "7d34df90-249e-4c06-962a-15f6e9c817a2",
   "metadata": {},
   "outputs": [
    {
     "data": {
      "text/plain": [
       "942.0"
      ]
     },
     "execution_count": 54,
     "metadata": {},
     "output_type": "execute_result"
    }
   ],
   "source": [
    "cylinder(10, 3)"
   ]
  },
  {
   "cell_type": "markdown",
   "id": "6141202b-8ea9-4bc7-a209-d3910856e74e",
   "metadata": {},
   "source": [
    "#### 기본값\n",
    "```python\n",
    "def func_name(p1=v1):\n",
    "    code1\n",
    "    return value\n",
    "\n",
    "```\n"
   ]
  },
  {
   "cell_type": "code",
   "execution_count": 64,
   "id": "29bfa47a-6606-4d4e-95a2-666e83d19716",
   "metadata": {},
   "outputs": [],
   "source": [
    "def greeting(name='익명'):  # '익명'은 값이 들어가도 되고 안들어가도 될 때 쓰기, 만약 '익명'을 뺀다면 greeting()함수는 작동하지 않게 됨\n",
    "    return f'{name}님 반갑습니다.'"
   ]
  },
  {
   "cell_type": "code",
   "execution_count": 63,
   "id": "67a737ec-f32d-496f-bec3-66db48a96e88",
   "metadata": {},
   "outputs": [
    {
     "data": {
      "text/plain": [
       "'익명님 반갑습니다.'"
      ]
     },
     "execution_count": 63,
     "metadata": {},
     "output_type": "execute_result"
    }
   ],
   "source": [
    "greeting()"
   ]
  },
  {
   "cell_type": "code",
   "execution_count": 72,
   "id": "8cc1316f-d56d-4351-8f49-3d0536d65611",
   "metadata": {},
   "outputs": [
    {
     "name": "stdout",
     "output_type": "stream",
     "text": [
      "안녕하세요+++반갑습니다!!!!\n",
      "저는 민예린입니다.\n"
     ]
    }
   ],
   "source": [
    "print('안녕하세요', '반갑습니다', sep='+++', end='!!!!\\n')\n",
    "print('저는 민예린입니다.')"
   ]
  },
  {
   "cell_type": "code",
   "execution_count": 74,
   "id": "03802a87-087e-4ce4-a067-dd66cb01763e",
   "metadata": {},
   "outputs": [],
   "source": [
    "def greeting(name, age):\n",
    "    return f'{name}님의 나이는 {age}살입니다.'"
   ]
  },
  {
   "cell_type": "code",
   "execution_count": 75,
   "id": "ac06a4a2-5e87-4570-82ea-2eceecdcffa4",
   "metadata": {},
   "outputs": [
    {
     "data": {
      "text/plain": [
       "'길동님의 나이는 10살입니다.'"
      ]
     },
     "execution_count": 75,
     "metadata": {},
     "output_type": "execute_result"
    }
   ],
   "source": [
    "greeting('길동', '10')"
   ]
  },
  {
   "cell_type": "code",
   "execution_count": 77,
   "id": "59cd3972-21d1-47c7-b6b7-5ca89d8bf126",
   "metadata": {},
   "outputs": [],
   "source": [
    "#  def greeting(name='익명', age): # 오류가 남 > greeting(10)을 하게 되면 10이 첫번쨰 name으로 들어가려고 함 \n",
    "    # return f'{name}님의 나이는 {age}살입니다.'"
   ]
  },
  {
   "cell_type": "code",
   "execution_count": 79,
   "id": "07bc2c1e-5fc2-4d1c-9e38-4251a7c1f1db",
   "metadata": {},
   "outputs": [],
   "source": [
    "def greeting(age, name='익명'):\n",
    "    return f'{name}님의 나이는 {age}살입니다.'"
   ]
  },
  {
   "cell_type": "code",
   "execution_count": 81,
   "id": "d88ec856-df25-4a79-9ea3-1d818e4de431",
   "metadata": {},
   "outputs": [
    {
     "data": {
      "text/plain": [
       "'익명님의 나이는 10살입니다.'"
      ]
     },
     "execution_count": 81,
     "metadata": {},
     "output_type": "execute_result"
    }
   ],
   "source": [
    "greeting('길동', 10)\n",
    "greeting(10)"
   ]
  },
  {
   "cell_type": "markdown",
   "id": "44909a45-a703-4efe-93f4-1d64d5222c0f",
   "metadata": {},
   "source": [
    "#### 키워드 인수\n",
    "- 함수를 호출(실행)할 떄 내가 원하는 위치에 직접적을 값을 전달"
   ]
  },
  {
   "cell_type": "code",
   "execution_count": 85,
   "id": "0093d493-78c3-42aa-aa8d-bc88742976a4",
   "metadata": {},
   "outputs": [],
   "source": [
    "def greeting(age, name='익명'):\n",
    "    return f'{name}님의 나이는 {age}살입니다.'"
   ]
  },
  {
   "cell_type": "code",
   "execution_count": 86,
   "id": "626e0abb-8a36-435c-9df7-08a44659e500",
   "metadata": {},
   "outputs": [
    {
     "data": {
      "text/plain": [
       "'길동님의 나이는 10살입니다.'"
      ]
     },
     "execution_count": 86,
     "metadata": {},
     "output_type": "execute_result"
    }
   ],
   "source": [
    "greeting(10, '길동')\n",
    "greeting(10)\n",
    "greeting(name='길동', age=10)"
   ]
  },
  {
   "cell_type": "markdown",
   "id": "c620b118-7ab3-4e32-92fd-827726ddd3c4",
   "metadata": {},
   "source": [
    "#### 가변인자 리스트(parms)\n",
    "```\n",
    "def func_name(*parms):\n",
    "    code\n",
    "    ...\n",
    "    return value\n",
    "```"
   ]
  },
  {
   "cell_type": "code",
   "execution_count": 90,
   "id": "2394e15c-f576-45f7-b7a2-af52ef6071e9",
   "metadata": {},
   "outputs": [],
   "source": [
    "def my_print(*words):   # words에 데이터를 받을건데 몇개의 데이터가 들어오든 상관없이 다 출력하는 것\n",
    "    print(words)\n"
   ]
  },
  {
   "cell_type": "code",
   "execution_count": 93,
   "id": "634700da-3b81-4813-9963-f99c2ecbc506",
   "metadata": {},
   "outputs": [
    {
     "name": "stdout",
     "output_type": "stream",
     "text": [
      "('my', 'name', 'is')\n"
     ]
    }
   ],
   "source": [
    "my_print('my', 'name', 'is')"
   ]
  },
  {
   "cell_type": "code",
   "execution_count": 94,
   "id": "91aa6fec-17af-46dd-8615-75365c24d5e9",
   "metadata": {},
   "outputs": [
    {
     "data": {
      "text/plain": [
       "7"
      ]
     },
     "execution_count": 94,
     "metadata": {},
     "output_type": "execute_result"
    }
   ],
   "source": [
    "max(1,2,3,4,5,6,7)"
   ]
  },
  {
   "cell_type": "code",
   "execution_count": 105,
   "id": "df7779b5-2084-4d0d-af6e-ab9295081e2f",
   "metadata": {},
   "outputs": [],
   "source": [
    "def my_max(*nums):\n",
    "    # return max(nums)\n",
    "    # max_num = 0 (양수에선 상관없지만 음수에서는 오류가 남)\n",
    "    max_num = numbers[0]\n",
    "    \n",
    "    for number in nums:\n",
    "        if max_num < number :\n",
    "            max_num = number\n",
    "    return max_num \n",
    "    "
   ]
  },
  {
   "cell_type": "code",
   "execution_count": 103,
   "id": "f1892a85-146e-4e09-bac4-c6b9036e1a0e",
   "metadata": {},
   "outputs": [
    {
     "data": {
      "text/plain": [
       "7"
      ]
     },
     "execution_count": 103,
     "metadata": {},
     "output_type": "execute_result"
    }
   ],
   "source": [
    "my_max(1, 2, 3, 4, 5, 6, 7)"
   ]
  },
  {
   "cell_type": "code",
   "execution_count": 104,
   "id": "6f5ae458-2220-4957-ba4d-a071d3e0089d",
   "metadata": {},
   "outputs": [
    {
     "data": {
      "text/plain": [
       "0"
      ]
     },
     "execution_count": 104,
     "metadata": {},
     "output_type": "execute_result"
    }
   ],
   "source": [
    "my_max(-1, -2, -3, -4)"
   ]
  },
  {
   "cell_type": "markdown",
   "id": "d18986ac-b18e-47c7-88ac-7c114f90f590",
   "metadata": {},
   "source": [
    "### 정의되지 않은 키워드 인자 처리하기\n",
    "```python\n",
    "def func_name(**kwargs):\n",
    "    code\n",
    "    ...\n",
    "    \n",
    "    return value\n",
    "```"
   ]
  },
  {
   "cell_type": "code",
   "execution_count": 4,
   "id": "176f7c96-6d72-4324-a1bc-926868f10bf0",
   "metadata": {},
   "outputs": [
    {
     "name": "stdout",
     "output_type": "stream",
     "text": [
      "{'name': 'hong', 'age': 10}\n"
     ]
    }
   ],
   "source": [
    "info = {\n",
    "    'name': 'hong',\n",
    "    'age': 10,\n",
    "}\n",
    "print(info)"
   ]
  },
  {
   "cell_type": "code",
   "execution_count": 5,
   "id": "679e8bda-7c33-4180-ab6e-b4a1a690e24b",
   "metadata": {},
   "outputs": [
    {
     "name": "stdout",
     "output_type": "stream",
     "text": [
      "{'name': 'kim', 'age': 20}\n"
     ]
    }
   ],
   "source": [
    "info = dict(name='kim', age=20)\n",
    "print(info)"
   ]
  },
  {
   "cell_type": "code",
   "execution_count": 8,
   "id": "2db9f666-fcf3-40a1-b036-c712f1ab7d7c",
   "metadata": {},
   "outputs": [
    {
     "name": "stdout",
     "output_type": "stream",
     "text": [
      "{'name': 'yerin', 'age': 28, 'favorit': 'sports view'}\n"
     ]
    }
   ],
   "source": [
    "def my_dict(**kwargs):  # kwargs는 다른 이름으로 바꿔도 상관없음\n",
    "    print(kwargs)\n",
    "\n",
    "my_dict(name = 'yerin', age=28, favorit = 'sports view')"
   ]
  },
  {
   "cell_type": "code",
   "execution_count": 14,
   "id": "54410691-6ba7-463e-aab3-6ad9144c592c",
   "metadata": {},
   "outputs": [
    {
     "data": {
      "text/plain": [
       "0"
      ]
     },
     "execution_count": 14,
     "metadata": {},
     "output_type": "execute_result"
    }
   ],
   "source": [
    "def my_func(params1, params2='temp', *numbers, **kwargs):\n",
    "    return 0 \n",
    "\n",
    "# my_func() # params1에 데이터가 없어서 실행이 안됨\n",
    "\n",
    "my_func(123) # params1 = 123, parmas2 = 'temp'\n",
    "\n",
    "my_func(123, 234) # parmas1 = 123, params2 = 234\n",
    "\n",
    "my_func(123, 234, 345, 567, 789, 890) # params1 = 123, parmas2 = 234 나머지 숫자들은 모두 numbers에 들어감\n",
    "\n",
    "my_func(123, 234, 345, 567, 789, 890, a=1, b=2, c=3) # 위에와 똑같고, kwargs = {a: 1, b: 2, c: 3}"
   ]
  },
  {
   "cell_type": "markdown",
   "id": "7cdb50b1-4d6d-4906-bb0a-2838ddc94775",
   "metadata": {},
   "source": [
    "### lambda 표현식 (임시 함수)\n",
    "```python\n",
    "lambda parameter: expression(return 하려 하는 연산식)\n",
    "```"
   ]
  },
  {
   "cell_type": "code",
   "execution_count": 16,
   "id": "4dec81ab-e114-4f42-bbe8-e0185a295e6c",
   "metadata": {},
   "outputs": [],
   "source": [
    "def my_sum(num1, num2):\n",
    "    return num1 + num2"
   ]
  },
  {
   "cell_type": "code",
   "execution_count": 17,
   "id": "f8cc50bb-d13c-4fb9-8f18-570ebac1233a",
   "metadata": {},
   "outputs": [
    {
     "data": {
      "text/plain": [
       "3"
      ]
     },
     "execution_count": 17,
     "metadata": {},
     "output_type": "execute_result"
    }
   ],
   "source": [
    "my_sum(1, 2)"
   ]
  },
  {
   "cell_type": "code",
   "execution_count": 23,
   "id": "9367f5fb-68e1-4c48-ac01-77622172db88",
   "metadata": {},
   "outputs": [
    {
     "data": {
      "text/plain": [
       "3"
      ]
     },
     "execution_count": 23,
     "metadata": {},
     "output_type": "execute_result"
    }
   ],
   "source": [
    "(lambda num1, num2: num1 + num2)(1, 2) \n",
    "#my_sum()가 사라짐 lambda는 이름이 필요없는 일회용 함수이기때문에 my_sum()같이 이름과 값을 구분하는 ()가 필요 없어짐\n",
    "# 만약 my_sum 함수를 선언하면 메모리에 저장이 되어 저장공간을 차지하게 됨 하지만 lambda 함수를 쓰게되면 일회용 함수로서 실행이 되고 메모리에서 사라져서 속도도 빠르고 저장공간도 커짐\n"
   ]
  },
  {
   "cell_type": "markdown",
   "id": "49f37933-b66e-4a28-9196-d942e455e28a",
   "metadata": {},
   "source": [
    "#### 타입힌트"
   ]
  },
  {
   "cell_type": "code",
   "execution_count": 25,
   "id": "78323379-2a8f-4346-b9df-ca4245856a09",
   "metadata": {},
   "outputs": [
    {
     "data": {
      "text/plain": [
       "3"
      ]
     },
     "execution_count": 25,
     "metadata": {},
     "output_type": "execute_result"
    }
   ],
   "source": [
    "def my__sum(a, b):\n",
    "    return a + b\n",
    "\n",
    "my_sum(1, 2)\n",
    "    "
   ]
  },
  {
   "cell_type": "code",
   "execution_count": 30,
   "id": "ef80c0f2-031f-421c-94a0-1becb50eff91",
   "metadata": {},
   "outputs": [
    {
     "data": {
      "text/plain": [
       "3"
      ]
     },
     "execution_count": 30,
     "metadata": {},
     "output_type": "execute_result"
    }
   ],
   "source": [
    "def something(a: int, b: int): # a: int 를 함으로서 정수만 들어 올 수 있다는 힌트\n",
    "    return a + b\n",
    "\n",
    "something(1, 2)"
   ]
  },
  {
   "cell_type": "code",
   "execution_count": 31,
   "id": "7b133a33-af0e-4276-afbb-6a3d46d95614",
   "metadata": {},
   "outputs": [
    {
     "data": {
      "text/plain": [
       "'asdfqwer'"
      ]
     },
     "execution_count": 31,
     "metadata": {},
     "output_type": "execute_result"
    }
   ],
   "source": [
    "something('asdf', 'qwer') # 위에 함수를 int로 힌트만 준것이고 강제하는것은 아니라는 의미"
   ]
  },
  {
   "cell_type": "markdown",
   "id": "766a9dfc-5570-424f-8e4f-770965ba2b21",
   "metadata": {},
   "source": [
    "### 이름공간(namespace), 스코프(scope)\n",
    "\n",
    "python에서 사용하는 이름들은 이름공간에 저장되어 있습니다. LEGB 룰에 따라 접근\n",
    " 범위 : L < E < G < B\n",
    " \n",
    "1. Local : 정이된 함수 내부\n",
    "2. Enclosed : 상위 함수\n",
    "3. Global : 함수 밖\n",
    "4. Bulit-in : python이 기본적으로 가지고 있는 함수"
   ]
  },
  {
   "cell_type": "code",
   "execution_count": 54,
   "id": "951f8efb-f0ed-4d6d-92f8-d11648e13a86",
   "metadata": {},
   "outputs": [
    {
     "name": "stdout",
     "output_type": "stream",
     "text": [
      "128\n"
     ]
    }
   ],
   "source": [
    "result = str(128) #str은 bulit-in함수\n",
    "print(result)"
   ]
  },
  {
   "cell_type": "code",
   "execution_count": 66,
   "id": "a478cbb4-54f0-46c3-a29e-5f04f7b2c5cd",
   "metadata": {},
   "outputs": [
    {
     "data": {
      "text/plain": [
       "'asdf'"
      ]
     },
     "execution_count": 66,
     "metadata": {},
     "output_type": "execute_result"
    }
   ],
   "source": [
    "#python tutor 이용해보기\n",
    "a = 1\n",
    "\n",
    "def local_scope(a): \n",
    "    return a\n",
    "\n",
    "\n",
    "a = '가나다라' # 함수 바깥쪽에서 안쪽으로 들어갈 수 없음\n",
    "\n",
    "local_scope('asdf')\n"
   ]
  },
  {
   "cell_type": "code",
   "execution_count": 71,
   "id": "c58802e6-abb7-456c-875b-012a199dcb19",
   "metadata": {},
   "outputs": [
    {
     "data": {
      "text/plain": [
       "'가나다라'"
      ]
     },
     "execution_count": 71,
     "metadata": {},
     "output_type": "execute_result"
    }
   ],
   "source": [
    "a = 1\n",
    "\n",
    "def local_scope(b): \n",
    "    return a\n",
    "\n",
    "\n",
    "a = '가나다라' # 함수 바깥쪽에서 안쪽으로 들어갈 수 없음\n",
    "\n",
    "local_scope('asdf')"
   ]
  },
  {
   "cell_type": "code",
   "execution_count": 78,
   "id": "c1ef0f24-6700-4dfd-8421-c5f9a908889d",
   "metadata": {},
   "outputs": [
    {
     "name": "stdout",
     "output_type": "stream",
     "text": [
      "1\n",
      "2\n",
      "3\n",
      "4\n",
      "5\n",
      "5\n"
     ]
    }
   ],
   "source": [
    "my_list = [1, 2, 3, 4, 5]\n",
    "for i in my_list:\n",
    "    # i = ...\n",
    "    print(i)\n",
    "print(i)"
   ]
  },
  {
   "cell_type": "code",
   "execution_count": 86,
   "id": "478b96b2-dc69-4771-861f-19f059c1cafd",
   "metadata": {},
   "outputs": [
    {
     "data": {
      "text/plain": [
       "1"
      ]
     },
     "execution_count": 86,
     "metadata": {},
     "output_type": "execute_result"
    }
   ],
   "source": [
    "a = 0\n",
    "def global_scope():\n",
    "    global a # 내가 쓸 a는 바깥에 있는 a = 0 이야\n",
    "    a = a + 1\n",
    "    return a\n",
    "\n",
    "global_scope()"
   ]
  },
  {
   "cell_type": "code",
   "execution_count": 87,
   "id": "8a35572e-5f09-48b6-a0d7-1b2454609114",
   "metadata": {},
   "outputs": [],
   "source": [
    "# 어렵누..."
   ]
  },
  {
   "cell_type": "markdown",
   "id": "3a34f5a3-857f-4c5e-90db-0a4e268f022c",
   "metadata": {},
   "source": [
    "### 재귀\n",
    "- 내부의 내부 느낌\n",
    "- 함수 내부에서 자기 자신을 호출하는 함수\n",
    "\n",
    "```\n",
    "n! = 1 * 2 * 3 * ... * n\n",
    "\n",
    "1! = 1\n",
    "2! = 1 * 2 = 1! * 2\n",
    "3! = 1 * 2 * 3 = 2! 3\n",
    "n! = (n-1)! * n\n",
    "```"
   ]
  },
  {
   "cell_type": "code",
   "execution_count": 88,
   "id": "ba8a09d7-f0fc-4da8-bc60-23d76e6e9544",
   "metadata": {},
   "outputs": [],
   "source": [
    "def fact(n):\n",
    "    if n == 1:\n",
    "        return 1\n",
    "    else:\n",
    "        return fact(n-1) * n"
   ]
  },
  {
   "cell_type": "code",
   "execution_count": 89,
   "id": "4223d8e4-ca34-411a-afc5-ae42448901ba",
   "metadata": {},
   "outputs": [
    {
     "data": {
      "text/plain": [
       "3628800"
      ]
     },
     "execution_count": 89,
     "metadata": {},
     "output_type": "execute_result"
    }
   ],
   "source": [
    "fact(10)"
   ]
  },
  {
   "cell_type": "markdown",
   "id": "ba3d2711-1bd7-4fcc-a609-3818eea02f72",
   "metadata": {},
   "source": [
    "#fact(10 fact(9  fact(8)))"
   ]
  },
  {
   "cell_type": "code",
   "execution_count": null,
   "id": "a1b6619d-89ce-4365-a7c9-07042c403662",
   "metadata": {},
   "outputs": [],
   "source": []
  }
 ],
 "metadata": {
  "kernelspec": {
   "display_name": "Python 3 (ipykernel)",
   "language": "python",
   "name": "python3"
  },
  "language_info": {
   "codemirror_mode": {
    "name": "ipython",
    "version": 3
   },
   "file_extension": ".py",
   "mimetype": "text/x-python",
   "name": "python",
   "nbconvert_exporter": "python",
   "pygments_lexer": "ipython3",
   "version": "3.13.2"
  }
 },
 "nbformat": 4,
 "nbformat_minor": 5
}
