{
 "cells": [
  {
   "cell_type": "markdown",
   "id": "6ea5ca45-f07f-4873-b402-9585fb6b1fe4",
   "metadata": {},
   "source": [
    "# 영화진흥위원회 데이터 수집"
   ]
  },
  {
   "cell_type": "markdown",
   "id": "de9c2940-4b3a-451a-aa8f-bf61ddad4be8",
   "metadata": {},
   "source": [
    "## setting"
   ]
  },
  {
   "cell_type": "code",
   "execution_count": 6,
   "id": "7f103712-82c7-48f0-8633-7b160156ef50",
   "metadata": {},
   "outputs": [],
   "source": [
    "import requests\n",
    "\n",
    "class URLMaker:\n",
    "    \"\"\"\n",
    "    영화진흥위원회 API URL 생성 클래스\n",
    "    \"\"\"\n",
    "    \n",
    "    url = 'http://www.kobis.or.kr/kobisopenapi/webservice/rest'\n",
    "\n",
    "    def __init__(self, key):\n",
    "        \"\"\"\n",
    "        API key 초기화\n",
    "        \"\"\"\n",
    "        self.key = key\n",
    "\n",
    "    def daily_boxoffice_url(self, targetDt, itemPerPage=10, multiMovieYn='', repNationCd='', wideAreaCd=''):\n",
    "        \"\"\"\n",
    "        일별 박스오피스 URL 생성\n",
    "        \"\"\"\n",
    "        return f'{self.url}/boxoffice/searchDailyBoxOfficeList.json?key={self.key}&targetDt={targetDt}&itemPerPage={itemPerPage}&multiMovieYn={multiMovieYn}&repNationCd={repNationCd}&wideAreaCd={wideAreaCd}'\n",
    "\n",
    "    def weekly_boxoffice_url(self, targetDt, weekGb='0', itemPerPage=10, multiMovieYn='', repNationCd='', wideAreaCd=''): # targetDt만 넣으면 실행\n",
    "        \n",
    "        \"\"\"\n",
    "        주간/주말 박스오피스 URL 생성\n",
    "        weekGb: 0(주간), 1(주말), 2(주중)\n",
    "        \"\"\"\n",
    "        return f'{self.url}/boxoffice/searchWeeklyBoxOfficeList.json?key={self.key}&targetDt={targetDt}&weekGb={weekGb}&itemPerPage={itemPerPage}&multiMovieYn={multiMovieYn}&repNationCd={repNationCd}&wideAreaCd={wideAreaCd}'\n",
    "\n",
    "    def movie_list_url(self, curPage=1, itemPerPage=10, movieNm='', directorNm='', openStartDt='', openEndDt='', \n",
    "                      prdtStartYear='', prdtEndYear='', repNationCd='', movieTypeCd=''):\n",
    "        \"\"\"\n",
    "        영화목록 URL 생성\n",
    "        \"\"\"\n",
    "        return f'{self.url}/movie/searchMovieList.json?key={self.key}&curPage={curPage}&itemPerPage={itemPerPage}&movieNm={movieNm}&directorNm={directorNm}&openStartDt={openStartDt}&openEndDt={openEndDt}&prdtStartYear={prdtStartYear}&prdtEndYear={prdtEndYear}&repNationCd={repNationCd}&movieTypeCd={movieTypeCd}'\n",
    "\n",
    "    def movie_info_url(self, movieCd):\n",
    "        \"\"\"\n",
    "        영화 상세정보 URL 생성\n",
    "        \"\"\"\n",
    "        return f'{self.url}/movie/searchMovieInfo.json?key={self.key}&movieCd={movieCd}'\n",
    "\n",
    "    def people_list_url(self, curPage=1, itemPerPage=10, peopleNm='', filmoNames=''):\n",
    "        \"\"\"\n",
    "        영화인목록 URL 생성\n",
    "        \"\"\"\n",
    "        return f'{self.url}/people/searchPeopleList.json?key={self.key}&curPage={curPage}&itemPerPage={itemPerPage}&peopleNm={peopleNm}&filmoNames={filmoNames}'\n",
    "\n",
    "    def people_info_url(self, peopleCd):\n",
    "        \"\"\"\n",
    "        영화인 상세정보 URL 생성\n",
    "        \"\"\"\n",
    "        return f'{self.url}/people/searchPeopleInfo.json?key={self.key}&peopleCd={peopleCd}'\n",
    "\n",
    "\n",
    "    "
   ]
  },
  {
   "cell_type": "code",
   "execution_count": 2,
   "id": "e78744cd-54ef-43ab-b409-7edd3b44af58",
   "metadata": {},
   "outputs": [],
   "source": [
    "MY_API_KEY = '1fdbb54789d5b34fbee1152a5cfe467d'\n",
    "url_maker = URLMaker(MY_API_KEY)"
   ]
  },
  {
   "cell_type": "code",
   "execution_count": 4,
   "id": "9c656d45-0037-4072-a0d4-1fe7baad8c81",
   "metadata": {},
   "outputs": [
    {
     "data": {
      "text/plain": [
       "'1fdbb54789d5b34fbee1152a5cfe467d'"
      ]
     },
     "execution_count": 4,
     "metadata": {},
     "output_type": "execute_result"
    }
   ],
   "source": [
    "url_maker.key"
   ]
  },
  {
   "cell_type": "code",
   "execution_count": 9,
   "id": "e7650c6c-7cce-46e0-b203-7709c1272037",
   "metadata": {},
   "outputs": [
    {
     "name": "stdout",
     "output_type": "stream",
     "text": [
      "http://www.kobis.or.kr/kobisopenapi/webservice/rest/boxoffice/searchDailyBoxOfficeList.json?key=1fdbb54789d5b34fbee1152a5cfe467d&targetDt=20250201&itemPerPage=10&multiMovieYn=&repNationCd=&wideAreaCd=\n"
     ]
    }
   ],
   "source": [
    "daily_url = url_maker.daily_boxoffice_url('20250201') # 원하는 날짜로만 수정하기\n",
    "print(daily_url)"
   ]
  },
  {
   "cell_type": "code",
   "execution_count": 13,
   "id": "4783218a-d70e-48eb-a4b3-8915c320636e",
   "metadata": {},
   "outputs": [
    {
     "name": "stdout",
     "output_type": "stream",
     "text": [
      "http://www.kobis.or.kr/kobisopenapi/webservice/rest/boxoffice/searchWeeklyBoxOfficeList.json?key=1fdbb54789d5b34fbee1152a5cfe467d&targetDt=20250201&weekGb=0&itemPerPage=10&multiMovieYn=&repNationCd=&wideAreaCd=\n"
     ]
    }
   ],
   "source": [
    "weekly_url = url_maker.weekly_boxoffice_url('20250201')\n",
    "print(weekly_url)"
   ]
  },
  {
   "cell_type": "code",
   "execution_count": 15,
   "id": "9cce52f1-afc9-46ea-9bf2-a41942861dc6",
   "metadata": {},
   "outputs": [
    {
     "name": "stdout",
     "output_type": "stream",
     "text": [
      "http://www.kobis.or.kr/kobisopenapi/webservice/rest/movie/searchMovieInfo.json?key=1fdbb54789d5b34fbee1152a5cfe467d&movieCd=19950084\n"
     ]
    }
   ],
   "source": [
    "minfo_url = url_maker.movie_info_url('19950084')\n",
    "print(minfo_url)"
   ]
  },
  {
   "cell_type": "markdown",
   "id": "846aac9a-0b63-4973-b1a7-c8ec66f0cbbb",
   "metadata": {},
   "source": [
    "## 영화 상세정보 조회\n",
    "\n",
    "- **영화 상세정보 api**를 사용합니다.\n",
    "- 영화 코드(movieCd)를 입력받아 해당 영화의 상세 정보를 조회합니다.\n",
    "- 다음 정보를 순서대로 출력합니다:\n",
    "    - 영화 제목 (제작연도)\n",
    "    - 감독 (첫 번째 감독)\n",
    "    - 주연 배우 (첫 번째, 두 번째 배우)\n",
    "    - 장르 (첫 번째 장르)"
   ]
  },
  {
   "cell_type": "code",
   "execution_count": 31,
   "id": "60ca0cd0-6626-4af7-bca0-8c6899d942fc",
   "metadata": {},
   "outputs": [
    {
     "name": "stdout",
     "output_type": "stream",
     "text": [
      "{'movieInfoResult': {'movieInfo': {'movieCd': '19950084', 'movieNm': '쇼생크 탈출', 'movieNmEn': 'The Showshank Redemption', 'movieNmOg': '', 'showTm': '142', 'prdtYear': '1994', 'openDt': '19950204', 'prdtStatNm': '개봉', 'typeNm': '장편', 'nations': [{'nationNm': '미국'}], 'genres': [{'genreNm': '드라마'}], 'directors': [{'peopleNm': '프랭크 다라본트', 'peopleNmEn': 'Frank Darabont'}], 'actors': [{'peopleNm': '팀 로빈스', 'peopleNmEn': 'Tim Robbins', 'cast': '', 'castEn': ''}, {'peopleNm': '모건 프리먼', 'peopleNmEn': 'Morgan Freeman', 'cast': '', 'castEn': ''}], 'showTypes': [{'showTypeGroupNm': '필름', 'showTypeNm': '필름'}, {'showTypeGroupNm': '2D', 'showTypeNm': '디지털'}], 'companys': [{'companyCd': '20102502', 'companyNm': '캐슬 락 엔터테인먼트', 'companyNmEn': 'Castle Rock Entertainment', 'companyPartNm': '제작사'}, {'companyCd': '20102771', 'companyNm': '콜럼비아 픽쳐스 코포레이션', 'companyNmEn': 'Columbia Pictures Corporation', 'companyPartNm': '제작사'}, {'companyCd': '20122837', 'companyNm': '(주)팝엔터테인먼트', 'companyNmEn': 'Pop Entertainment', 'companyPartNm': '배급사'}, {'companyCd': '20154408', 'companyNm': 'THE 픽쳐스', 'companyNmEn': 'THE PICTURES', 'companyPartNm': '배급사'}, {'companyCd': '20122837', 'companyNm': '(주)팝엔터테인먼트', 'companyNmEn': 'Pop Entertainment', 'companyPartNm': '수입사'}, {'companyCd': '20100827', 'companyNm': '(주)에스와이코마드', 'companyNmEn': 'SYcomad', 'companyPartNm': '수입사'}, {'companyCd': '20100462', 'companyNm': '(주)영상시대', 'companyNmEn': '', 'companyPartNm': '수입사'}], 'audits': [{'auditNo': '95-23', 'watchGradeNm': '고등학생이상관람가'}, {'auditNo': '2016-MF00152 ', 'watchGradeNm': '15세이상관람가'}], 'staffs': [{'peopleNm': '토마스 뉴먼', 'peopleNmEn': 'Thomas Newman', 'staffRoleNm': '음악'}, {'peopleNm': '로저 디킨스', 'peopleNmEn': 'Roger Deakins', 'staffRoleNm': '촬영'}, {'peopleNm': '프랭크 다라본트', 'peopleNmEn': 'Frank Darabont', 'staffRoleNm': '시나리오(각본)'}]}, 'source': '영화진흥위원회'}}\n",
      "k\n"
     ]
    }
   ],
   "source": [
    "import requests\n",
    "minfo_url = url_maker.movie_info_url('19950084')\n",
    "res = requests.get(minfo_url)\n",
    "print(res.json())\n",
    "minfo_dict = res.json()\n"
   ]
  },
  {
   "cell_type": "code",
   "execution_count": 34,
   "id": "993d2ac3-7db2-40b2-9e99-d2ed55256bfb",
   "metadata": {},
   "outputs": [
    {
     "name": "stdout",
     "output_type": "stream",
     "text": [
      "쇼생크 탈출\n"
     ]
    }
   ],
   "source": [
    "movie_name = minfo_dict['movieInfoResult']['movieInfo']['movieNm']  \n",
    "print(k)"
   ]
  },
  {
   "cell_type": "code",
   "execution_count": 113,
   "id": "d37950ad-45a9-4c24-a4fd-1e5ef7e7563b",
   "metadata": {},
   "outputs": [
    {
     "name": "stdout",
     "output_type": "stream",
     "text": [
      "쇼생크 탈출 (1994) \n",
      " 감독:[{'peopleNm': '프랭크 다라본트', 'peopleNmEn': 'Frank Darabont'}]\n",
      "['쇼생크 탈출', '1994', [{'peopleNm': '프랭크 다라본트', 'peopleNmEn': 'Frank Darabont'}], [{'genreNm': '드라마'}]]\n"
     ]
    }
   ],
   "source": [
    "def get_movie_detail(movie_cd):\n",
    "    movie_detail = {}\n",
    "    minfo_url = url_maker.movie_info_url(movie_cd)\n",
    "    res = requests.get(minfo_url)\n",
    "    minfo_dict = res.json()\n",
    "    \n",
    "    movie_detail['name'] = minfo_dict['movieInfoResult']['movieInfo']['movieNm']\n",
    "    movie_detail['year'] =  minfo_dict['movieInfoResult']['movieInfo']['prdtYear']\n",
    "    movie_detail['director'] =  minfo_dict['movieInfoResult']['movieInfo']['directors']\n",
    "    movie_detail['g'] = minfo_dict['movieInfoResult']['movieInfo']['genres']\n",
    "    \n",
    "    \n",
    "    print(list(movie_detail.values()))\n",
    "\n",
    "print(f'{movie_detail['name']} ({movie_detail['year']}) \\n 감독:{movie_detail['director']}')\n",
    "get_movie_detail('19950084')\n",
    "  \n",
    "      "
   ]
  },
  {
   "cell_type": "code",
   "execution_count": 114,
   "id": "4b257993-df34-4a45-b964-6676b8404b4f",
   "metadata": {},
   "outputs": [
    {
     "name": "stdout",
     "output_type": "stream",
     "text": [
      "['쇼생크 탈출', '1994', [{'peopleNm': '프랭크 다라본트', 'peopleNmEn': 'Frank Darabont'}], [{'genreNm': '드라마'}]]\n"
     ]
    }
   ],
   "source": [
    "get_movie_detail('19950084')"
   ]
  },
  {
   "cell_type": "markdown",
   "id": "ab037f8d-8f27-4668-b3f6-c97bd26302a2",
   "metadata": {},
   "source": [
    "**출력 예시**\n",
    "```\n",
    "쇼생크 탈출 (1994)\n",
    "감독: 프랭크 다라본트\n",
    "주연: 팀 로빈스, 모건 프리먼\n",
    "장르: 드라마\n",
    "```"
   ]
  },
  {
   "cell_type": "markdown",
   "id": "2f3b8d72-c4f8-4f2f-b72b-2fc221bc03dc",
   "metadata": {},
   "source": [
    "## 일별 박스오피스 조회\n",
    "\n",
    "- **일별 박스오피스 api**를 사용합니다.\n",
    "- 입력받은 날짜(YYYYMMDD 형식)의 박스오피스 정보를 조회합니다.\n",
    "- 각 영화의 순위, 영화제목, 해당 일의 관객수를 출력합니다."
   ]
  },
  {
   "cell_type": "code",
   "execution_count": 170,
   "id": "999e35c2-bfb2-4dfd-9016-3c09f1ca62dd",
   "metadata": {},
   "outputs": [
    {
     "name": "stdout",
     "output_type": "stream",
     "text": [
      "{'boxOfficeResult': {'boxofficeType': '일별 박스오피스', 'showRange': '20250201~20250201', 'dailyBoxOfficeList': [{'rnum': '1', 'rank': '1', 'rankInten': '0', 'rankOldAndNew': 'OLD', 'movieCd': '20233006', 'movieNm': '히트맨2', 'openDt': '2025-01-22', 'salesAmt': '1663433100', 'salesShare': '39.5', 'salesInten': '525167660', 'salesChange': '46.1', 'salesAcc': '17240257840', 'audiCnt': '177129', 'audiInten': '40686', 'audiChange': '29.8', 'audiAcc': '1831557', 'scrnCnt': '1495', 'showCnt': '6165'}, {'rnum': '2', 'rank': '2', 'rankInten': '0', 'rankOldAndNew': 'OLD', 'movieCd': '20247450', 'movieNm': '검은 수녀들', 'openDt': '2025-01-24', 'salesAmt': '934872220', 'salesShare': '22.2', 'salesInten': '247202440', 'salesChange': '35.9', 'salesAcc': '13206216740', 'audiCnt': '96043', 'audiInten': '14734', 'audiChange': '18.1', 'audiAcc': '1363840', 'scrnCnt': '1192', 'showCnt': '4387'}, {'rnum': '3', 'rank': '3', 'rankInten': '0', 'rankOldAndNew': 'OLD', 'movieCd': '20223819', 'movieNm': '말할 수 없는 비밀', 'openDt': '2025-01-27', 'salesAmt': '612619860', 'salesShare': '14.6', 'salesInten': '255290400', 'salesChange': '71.4', 'salesAcc': '2831121780', 'audiCnt': '63000', 'audiInten': '19506', 'audiChange': '44.8', 'audiAcc': '298293', 'scrnCnt': '846', 'showCnt': '2521'}, {'rnum': '4', 'rank': '4', 'rankInten': '0', 'rankOldAndNew': 'OLD', 'movieCd': '20228796', 'movieNm': '하얼빈', 'openDt': '2024-12-24', 'salesAmt': '221288880', 'salesShare': '5.3', 'salesInten': '34724080', 'salesChange': '18.6', 'salesAcc': '46361411980', 'audiCnt': '23298', 'audiInten': '1383', 'audiChange': '6.3', 'audiAcc': '4847097', 'scrnCnt': '711', 'showCnt': '1390'}, {'rnum': '5', 'rank': '5', 'rankInten': '0', 'rankOldAndNew': 'OLD', 'movieCd': '20244762', 'movieNm': '서브스턴스', 'openDt': '2024-12-11', 'salesAmt': '148098060', 'salesShare': '3.5', 'salesInten': '54128160', 'salesChange': '57.6', 'salesAcc': '3587624760', 'audiCnt': '15031', 'audiInten': '3589', 'audiChange': '31.4', 'audiAcc': '368343', 'scrnCnt': '283', 'showCnt': '433'}, {'rnum': '6', 'rank': '6', 'rankInten': '0', 'rankOldAndNew': 'OLD', 'movieCd': '20051060', 'movieNm': '극장판 포켓몬스터 AG: 뮤와 파동의 용사 루카리오', 'openDt': '2025-01-22', 'salesAmt': '108039420', 'salesShare': '2.6', 'salesInten': '52414900', 'salesChange': '94.2', 'salesAcc': '1196326460', 'audiCnt': '12342', 'audiInten': '5892', 'audiChange': '91.3', 'audiAcc': '134957', 'scrnCnt': '538', 'showCnt': '837'}, {'rnum': '7', 'rank': '7', 'rankInten': '1', 'rankOldAndNew': 'OLD', 'movieCd': '20246361', 'movieNm': '뽀로로 극장판 바닷속 대모험', 'openDt': '2025-01-01', 'salesAmt': '53373900', 'salesShare': '1.3', 'salesInten': '32139000', 'salesChange': '151.3', 'salesAcc': '3295806970', 'audiCnt': '5903', 'audiInten': '3430', 'audiChange': '138.7', 'audiAcc': '382497', 'scrnCnt': '299', 'showCnt': '343'}, {'rnum': '8', 'rank': '8', 'rankInten': '5', 'rankOldAndNew': 'OLD', 'movieCd': '20240855', 'movieNm': '바다 탐험대 옥토넛 어보브 앤 비욘드 : 극지방 대작전', 'openDt': '2025-01-27', 'salesAmt': '42966600', 'salesShare': '1.0', 'salesInten': '27834900', 'salesChange': '184', 'salesAcc': '248705100', 'audiCnt': '4570', 'audiInten': '2905', 'audiChange': '174.5', 'audiAcc': '26386', 'scrnCnt': '204', 'showCnt': '357'}, {'rnum': '9', 'rank': '9', 'rankInten': '1', 'rankOldAndNew': 'OLD', 'movieCd': '20245977', 'movieNm': '극장판 짱구는 못말려: 우리들의 공룡일기', 'openDt': '2024-12-18', 'salesAmt': '35361920', 'salesShare': '0.8', 'salesInten': '16896620', 'salesChange': '91.5', 'salesAcc': '7364269060', 'audiCnt': '3801', 'audiInten': '1692', 'audiChange': '80.2', 'audiAcc': '782887', 'scrnCnt': '173', 'showCnt': '205'}, {'rnum': '10', 'rank': '10', 'rankInten': '-3', 'rankOldAndNew': 'OLD', 'movieCd': '20241110', 'movieNm': '아이유 콘서트 : 더 위닝', 'openDt': '2025-01-24', 'salesAmt': '85348500', 'salesShare': '2.0', 'salesInten': '14361000', 'salesChange': '20.2', 'salesAcc': '1360798000', 'audiCnt': '3156', 'audiInten': '525', 'audiChange': '20', 'audiAcc': '49561', 'scrnCnt': '113', 'showCnt': '316'}]}}\n"
     ]
    }
   ],
   "source": [
    "res = requests.get(daily_url)\n",
    "print(res.json())\n",
    "daily_dict = res.json()"
   ]
  },
  {
   "cell_type": "code",
   "execution_count": 324,
   "id": "84d88dce-932b-473b-9d85-a1622dca8beb",
   "metadata": {},
   "outputs": [],
   "source": [
    "def get_daily_boxoffice(target_date):\n",
    "    daily_url = url_maker.daily_boxoffice_url(target_date)\n",
    "    res = requests.get(daily_url)\n",
    "    daily_dict = res.json()\n",
    "    rank = []\n",
    "    movies = daily_dict['boxOfficeResult']['dailyBoxOfficeList']\n",
    "    \n",
    "    for movie in movies:\n",
    "        for k,v in movie.items():\n",
    "            if 'rnum' in k :\n",
    "                 rank.append(v)\n",
    "            elif 'movieNm' in k :\n",
    "                 rank.append(v) \n",
    "            elif \"audiCnt\" in k:\n",
    "                 rank.append(v)\n",
    "    daily_chart = \".\\n\".join(rank)\n",
    "    print('20250201 박스오피스 TOP 10')\n",
    "    print(''.join(daily_chart))\n",
    "    \n",
    "   \n",
    "    "
   ]
  },
  {
   "cell_type": "code",
   "execution_count": 325,
   "id": "33bd45c9-222e-4be6-a70c-d2d33f5845a5",
   "metadata": {},
   "outputs": [
    {
     "name": "stdout",
     "output_type": "stream",
     "text": [
      "20250201 박스오피스 TOP 10\n",
      "1.\n",
      "히트맨2.\n",
      "177129.\n",
      "2.\n",
      "검은 수녀들.\n",
      "96043.\n",
      "3.\n",
      "말할 수 없는 비밀.\n",
      "63000.\n",
      "4.\n",
      "하얼빈.\n",
      "23298.\n",
      "5.\n",
      "서브스턴스.\n",
      "15031.\n",
      "6.\n",
      "극장판 포켓몬스터 AG: 뮤와 파동의 용사 루카리오.\n",
      "12342.\n",
      "7.\n",
      "뽀로로 극장판 바닷속 대모험.\n",
      "5903.\n",
      "8.\n",
      "바다 탐험대 옥토넛 어보브 앤 비욘드 : 극지방 대작전.\n",
      "4570.\n",
      "9.\n",
      "극장판 짱구는 못말려: 우리들의 공룡일기.\n",
      "3801.\n",
      "10.\n",
      "아이유 콘서트 : 더 위닝.\n",
      "3156\n"
     ]
    }
   ],
   "source": [
    "get_daily_boxoffice(\"20250201\")  # YYYYMMDD 형식으로 날짜 입력\n"
   ]
  },
  {
   "cell_type": "markdown",
   "id": "1967823a-dcdc-4ea6-8eaf-56a31b97f7b7",
   "metadata": {},
   "source": [
    "**출력예시**\n",
    "```\n",
    "20250201 박스오피스 TOP 10\n",
    "1위: 히트맨2 (177129명)\n",
    "2위: 검은 수녀들 (96043명)\n",
    "3위: 말할 수 없는 비밀 (63000명)\n",
    "4위: 하얼빈 (23298명)\n",
    "5위: 서브스턴스 (15031명)\n",
    "6위: 극장판 포켓몬스터 AG: 뮤와 파동의 용사 루카리오 (12342명)\n",
    "7위: 뽀로로 극장판 바닷속 대모험 (5903명)\n",
    "8위: 바다 탐험대 옥토넛 어보브 앤 비욘드 : 극지방 대작전 (4570명)\n",
    "9위: 극장판 짱구는 못말려: 우리들의 공룡일기 (3801명)\n",
    "10위: 아이유 콘서트 : 더 위닝 (3156명)\n",
    "```"
   ]
  },
  {
   "cell_type": "markdown",
   "id": "d3d889a8-6bcb-44a2-884a-4c7c9953f069",
   "metadata": {},
   "source": [
    "## 한국 영화 일별 박스오피스 조회\n",
    "\n",
    "- **일별 박스오피스 api**를 사용합니다.\n",
    "- 입력받은 날짜(YYYYMMDD 형식)의 한국 영화 박스오피스 정보를 조회합니다.\n",
    "- 한국 영화만 조회하기 위해 repNationCd='K' 파라미터를 사용합니다.\n",
    "- 영화가 개봉한 순서대로 정렬하여 제목, 날짜, 순위를 출력합니다.\n"
   ]
  },
  {
   "cell_type": "code",
   "execution_count": 264,
   "id": "cca92049-3ca8-42a5-a690-aa724637f3d4",
   "metadata": {},
   "outputs": [
    {
     "ename": "SyntaxError",
     "evalue": "invalid syntax (3344560040.py, line 1)",
     "output_type": "error",
     "traceback": [
      "\u001b[1;36m  Cell \u001b[1;32mIn[264], line 1\u001b[1;36m\u001b[0m\n\u001b[1;33m    http://www.kobis.or.kr/kobisopenapi/webservice/rest/boxoffice/searchDailyBoxOfficeList.json\u001b[0m\n\u001b[1;37m         ^\u001b[0m\n\u001b[1;31mSyntaxError\u001b[0m\u001b[1;31m:\u001b[0m invalid syntax\n"
     ]
    }
   ],
   "source": [
    "http://www.kobis.or.kr/kobisopenapi/webservice/rest/boxoffice/searchDailyBoxOfficeList.json\n",
    "? # 지금부터 파라미터 추가함\n",
    "key = '1fdbb54789d5b34fbee1152a5cfe467d'\n",
    "&\n",
    "targetDt=20250201\n",
    "&\n",
    "repNationCd=k"
   ]
  },
  {
   "cell_type": "code",
   "execution_count": 274,
   "id": "45af4c72-dd09-4b2a-953c-689156e5308c",
   "metadata": {},
   "outputs": [
    {
     "name": "stdout",
     "output_type": "stream",
     "text": [
      "http://www.kobis.or.kr/kobisopenapi/webservice/rest/boxoffice/searchDailyBoxOfficeList.json?key=1fdbb54789d5b34fbee1152a5cfe467d&targetDt=20250201&itemPerPage=10&multiMovieYn=&repNationCd=K&wideAreaCd=\n"
     ]
    }
   ],
   "source": [
    "url = url_maker.daily_boxoffice_url('20250201',repNationCd='K')\n",
    "print(url)"
   ]
  },
  {
   "cell_type": "code",
   "execution_count": 434,
   "id": "e9cde271-d38f-4d0d-818d-e33fca0b070a",
   "metadata": {},
   "outputs": [],
   "source": [
    "def get_movie_details(target_date):\n",
    "    url = url_maker.daily_boxoffice_url(target_date, repNationCd='K')\n",
    "    res = requests.get(url)\n",
    "    kmovie_dict = res.json()\n",
    "    kmovies = kmovie_dict['boxOfficeResult']['dailyBoxOfficeList']\n",
    "    \n",
    "    early_name = []\n",
    "    early_date = []\n",
    "    early_rank = []\n",
    "    for kmovie in kmovies:\n",
    "         for k,v in kmovie.items():\n",
    "            \n",
    "            if 'movieNm' in k :\n",
    "                 early_name.append(v) \n",
    "            elif \"openDt\" in k:\n",
    "                 early_date.append(v)\n",
    "                 \n",
    "            elif 'rnum' in k :\n",
    "                 early_rank.append(v)\n",
    "    \n",
    "                \n",
    "    early_chart = list(zip(early_name, early_date, early_rank))\n",
    "    \n",
    "    # early_chart = \".\\n\".join(early_chart) \n",
    "    \n",
    "    \n",
    "    print('20250201 한국 영화 박스오피스 (개봉일 순)')\n",
    "    print(sorted(early_chart,key = lambda x:x[1]))"
   ]
  },
  {
   "cell_type": "code",
   "execution_count": 435,
   "id": "f09e49e9-9e4a-404b-8034-b8cc664cbc8a",
   "metadata": {},
   "outputs": [
    {
     "name": "stdout",
     "output_type": "stream",
     "text": [
      "20250201 한국 영화 박스오피스 (개봉일 순)\n",
      "[('뜻밖의 순간 : 언익스펙티드 저니', ' ', '10'), ('마당을 나온 암탉', '2011-07-28', '9'), ('소방관', '2024-12-04', '8'), ('하얼빈', '2024-12-24', '4'), ('뽀로로 극장판 바닷속 대모험', '2025-01-01', '5'), ('히트맨2', '2025-01-22', '1'), ('검은 수녀들', '2025-01-24', '2'), ('아이유 콘서트 : 더 위닝', '2025-01-24', '6'), ('귀신경찰', '2025-01-24', '7'), ('말할 수 없는 비밀', '2025-01-27', '3')]\n"
     ]
    }
   ],
   "source": [
    "get_movie_details(\"20250201\")  # YYYYMMDD 형식으로 날짜 입력"
   ]
  },
  {
   "cell_type": "markdown",
   "id": "d60c82b0-150b-4877-88df-58a58d1d23e0",
   "metadata": {},
   "source": [
    "**출력예시**\n",
    "```\n",
    "20250201 한국 영화 박스오피스 (개봉일 순)\n",
    "뜻밖의 순간 : 언익스펙티드 저니 ( ) - 10위\n",
    "마당을 나온 암탉 (2011-07-28) - 9위\n",
    "소방관 (2024-12-04) - 8위\n",
    "하얼빈 (2024-12-24) - 4위\n",
    "뽀로로 극장판 바닷속 대모험 (2025-01-01) - 5위\n",
    "히트맨2 (2025-01-22) - 1위\n",
    "검은 수녀들 (2025-01-24) - 2위\n",
    "아이유 콘서트 : 더 위닝 (2025-01-24) - 6위\n",
    "귀신경찰 (2025-01-24) - 7위\n",
    "말할 수 없는 비밀 (2025-01-27) - 3위\n",
    "```"
   ]
  },
  {
   "cell_type": "markdown",
   "id": "5928c65e-9cc2-4766-a26e-a6184c6397d3",
   "metadata": {},
   "source": [
    "## 1월 전체 주간 박스오피스 데이터 수집\n",
    "\n",
    "- **주간/주말 박스오피스 api**를 사용합니다.\n",
    "- 2025년 1월의 모든 주간(1/5, 1/12, 1/19, 1/26) 데이터를 수집합니다.\n",
    "- 각 영화의 정보는 다음을 포함해야 합니다:\n",
    "    - 영화제목, 개봉일, 누적관객수, 누적매출액\n",
    "- 동일한 영화가 여러 주에 걸쳐 나타날 경우, 가장 최근의 정보만 저장합니다.\n"
   ]
  },
  {
   "cell_type": "code",
   "execution_count": 408,
   "id": "acdd8eb8-dfd5-4099-a019-86e326612f10",
   "metadata": {},
   "outputs": [
    {
     "name": "stdout",
     "output_type": "stream",
     "text": [
      "http://www.kobis.or.kr/kobisopenapi/webservice/rest/boxoffice/searchWeeklyBoxOfficeList.json?key=1fdbb54789d5b34fbee1152a5cfe467d&targetDt=20250106&weekGb=0&itemPerPage=10&multiMovieYn=&repNationCd=&wideAreaCd=\n",
      "{'boxOfficeResult': {'boxofficeType': '주간 박스오피스', 'showRange': '20250106~20250112', 'yearWeekTime': '202502', 'weeklyBoxOfficeList': [{'rnum': '1', 'rank': '1', 'rankInten': '0', 'rankOldAndNew': 'OLD', 'movieCd': '20228796', 'movieNm': '하얼빈', 'openDt': '2024-12-24', 'salesAmt': '4878365560', 'salesShare': '36.7', 'salesInten': '-7379208250', 'salesChange': '-60.2', 'salesAcc': '39977137410', 'audiCnt': '507470', 'audiInten': '-780152', 'audiChange': '-60.6', 'audiAcc': '4180392', 'scrnCnt': '1322', 'showCnt': '34334'}, {'rnum': '2', 'rank': '2', 'rankInten': '0', 'rankOldAndNew': 'OLD', 'movieCd': '20200142', 'movieNm': '소방관', 'openDt': '2024-12-04', 'salesAmt': '1435787980', 'salesShare': '10.8', 'salesInten': '-1716192460', 'salesChange': '-54.4', 'salesAcc': '34836537530', 'audiCnt': '151020', 'audiInten': '-184374', 'audiChange': '-55.0', 'audiAcc': '3702971', 'scrnCnt': '780', 'showCnt': '12847'}, {'rnum': '3', 'rank': '3', 'rankInten': '42', 'rankOldAndNew': 'OLD', 'movieCd': '20248082', 'movieNm': '동화지만 청불입니다', 'openDt': '2025-01-08', 'salesAmt': '934137080', 'salesShare': '7.0', 'salesInten': '929750080', 'salesChange': '21193.3', 'salesAcc': '938524080', 'audiCnt': '101307', 'audiInten': '100847', 'audiChange': '21923.3', 'audiAcc': '101767', 'scrnCnt': '668', 'showCnt': '9421'}, {'rnum': '4', 'rank': '4', 'rankInten': '1', 'rankOldAndNew': 'OLD', 'movieCd': '20246361', 'movieNm': '뽀로로 극장판 바닷속 대모험', 'openDt': '2025-01-01', 'salesAmt': '709533760', 'salesShare': '5.3', 'salesInten': '-664646400', 'salesChange': '-48.4', 'salesAcc': '2399703310', 'audiCnt': '83614', 'audiInten': '-76888', 'audiChange': '-47.9', 'audiAcc': '278013', 'scrnCnt': '740', 'showCnt': '6862'}, {'rnum': '5', 'rank': '5', 'rankInten': '-1', 'rankOldAndNew': 'OLD', 'movieCd': '20244167', 'movieNm': '수퍼 소닉3', 'openDt': '2025-01-01', 'salesAmt': '704322840', 'salesShare': '5.3', 'salesInten': '-930380650', 'salesChange': '-56.9', 'salesAcc': '2547519010', 'audiCnt': '77924', 'audiInten': '-99553', 'audiChange': '-56.1', 'audiAcc': '276858', 'scrnCnt': '731', 'showCnt': '7320'}, {'rnum': '6', 'rank': '6', 'rankInten': '-3', 'rankOldAndNew': 'OLD', 'movieCd': '20190300', 'movieNm': '보고타: 마지막 기회의 땅', 'openDt': '2024-12-31', 'salesAmt': '675418980', 'salesShare': '5.1', 'salesInten': '-2291524580', 'salesChange': '-77.2', 'salesAcc': '3669720540', 'audiCnt': '73735', 'audiInten': '-246283', 'audiChange': '-77.0', 'audiAcc': '396287', 'scrnCnt': '713', 'showCnt': '9611'}, {'rnum': '7', 'rank': '7', 'rankInten': '1', 'rankOldAndNew': 'OLD', 'movieCd': '20245977', 'movieNm': '극장판 짱구는 못말려: 우리들의 공룡일기', 'openDt': '2024-12-18', 'salesAmt': '499661200', 'salesShare': '3.8', 'salesInten': '-563655980', 'salesChange': '-53.0', 'salesAcc': '6600488720', 'audiCnt': '53459', 'audiInten': '-60070', 'audiChange': '-52.9', 'audiAcc': '701040', 'scrnCnt': '509', 'showCnt': '4318'}, {'rnum': '8', 'rank': '8', 'rankInten': '-2', 'rankOldAndNew': 'OLD', 'movieCd': '20240193', 'movieNm': '무파사: 라이온 킹', 'openDt': '2024-12-18', 'salesAmt': '457879120', 'salesShare': '3.4', 'salesInten': '-865471080', 'salesChange': '-65.4', 'salesAcc': '7938523610', 'audiCnt': '49854', 'audiInten': '-92410', 'audiChange': '-65.0', 'audiAcc': '806833', 'scrnCnt': '501', 'showCnt': '4160'}, {'rnum': '9', 'rank': '9', 'rankInten': '0', 'rankOldAndNew': 'OLD', 'movieCd': '20247693', 'movieNm': '위키드', 'openDt': '2024-11-20', 'salesAmt': '484888710', 'salesShare': '3.6', 'salesInten': '-395189610', 'salesChange': '-44.9', 'salesAcc': '21365292340', 'audiCnt': '44323', 'audiInten': '-45157', 'audiChange': '-50.5', 'audiAcc': '2163349', 'scrnCnt': '347', 'showCnt': '3235'}, {'rnum': '10', 'rank': '10', 'rankInten': '-3', 'rankOldAndNew': 'OLD', 'movieCd': '20240737', 'movieNm': '모아나 2', 'openDt': '2024-11-27', 'salesAmt': '385738980', 'salesShare': '2.9', 'salesInten': '-704022910', 'salesChange': '-64.6', 'salesAcc': '32279490990', 'audiCnt': '41439', 'audiInten': '-74387', 'audiChange': '-64.2', 'audiAcc': '3495286', 'scrnCnt': '452', 'showCnt': '3399'}]}}\n"
     ]
    }
   ],
   "source": [
    "weekly_url_1 = url_maker.weekly_boxoffice_url('20250106')\n",
    "res1 = requests.get(weekly_url_1)\n",
    "print(weekly_url_1)\n",
    "print(res1.json())\n"
   ]
  },
  {
   "cell_type": "code",
   "execution_count": 456,
   "id": "2502eac6-0e64-4e8c-ac02-3c832287eee0",
   "metadata": {},
   "outputs": [],
   "source": [
    "\n",
    "def get_weekly_boxoffice():\n",
    "    \n",
    "    weekly_url_1 = url_maker.weekly_boxoffice_url('20250106')\n",
    "    res1 = requests.get(weekly_url_1)\n",
    "    weekly1_dict = res1.json()\n",
    "    weekly_best1 = weekly1_dict['boxOfficeResult'][\"weeklyBoxOfficeList\"]\n",
    "    weekly_best = {}\n",
    "    for weekly in weekly_best1:\n",
    "        print(weekly)\n",
    "        print(weekly['movieNm'])\n",
    "        # for k, v in weekly.items():\n",
    "        #     if 'movieNm' in k:\n",
    "        #         weekly_best['영화제목'] = v\n",
    "        #     elif 'openDt' in k:\n",
    "        #         weekly_best['개봉일'] = v\n",
    "        #     elif 'audiCnt' in k:\n",
    "        #         weekly_best['누적관객'] = v\n",
    "        #     elif 'salesAcc' in k:\n",
    "        #         weekly_best['누적매출액'] = v\n",
    "    print(weekly_best)          "
   ]
  },
  {
   "cell_type": "code",
   "execution_count": 457,
   "id": "584d68bf-22bc-4227-b566-542fd1e0f678",
   "metadata": {},
   "outputs": [
    {
     "name": "stdout",
     "output_type": "stream",
     "text": [
      "{'rnum': '1', 'rank': '1', 'rankInten': '0', 'rankOldAndNew': 'OLD', 'movieCd': '20228796', 'movieNm': '하얼빈', 'openDt': '2024-12-24', 'salesAmt': '4878365560', 'salesShare': '36.7', 'salesInten': '-7379208250', 'salesChange': '-60.2', 'salesAcc': '39977137410', 'audiCnt': '507470', 'audiInten': '-780152', 'audiChange': '-60.6', 'audiAcc': '4180392', 'scrnCnt': '1322', 'showCnt': '34334'}\n",
      "하얼빈\n",
      "{'rnum': '2', 'rank': '2', 'rankInten': '0', 'rankOldAndNew': 'OLD', 'movieCd': '20200142', 'movieNm': '소방관', 'openDt': '2024-12-04', 'salesAmt': '1435787980', 'salesShare': '10.8', 'salesInten': '-1716192460', 'salesChange': '-54.4', 'salesAcc': '34836537530', 'audiCnt': '151020', 'audiInten': '-184374', 'audiChange': '-55.0', 'audiAcc': '3702971', 'scrnCnt': '780', 'showCnt': '12847'}\n",
      "소방관\n",
      "{'rnum': '3', 'rank': '3', 'rankInten': '42', 'rankOldAndNew': 'OLD', 'movieCd': '20248082', 'movieNm': '동화지만 청불입니다', 'openDt': '2025-01-08', 'salesAmt': '934137080', 'salesShare': '7.0', 'salesInten': '929750080', 'salesChange': '21193.3', 'salesAcc': '938524080', 'audiCnt': '101307', 'audiInten': '100847', 'audiChange': '21923.3', 'audiAcc': '101767', 'scrnCnt': '668', 'showCnt': '9421'}\n",
      "동화지만 청불입니다\n",
      "{'rnum': '4', 'rank': '4', 'rankInten': '1', 'rankOldAndNew': 'OLD', 'movieCd': '20246361', 'movieNm': '뽀로로 극장판 바닷속 대모험', 'openDt': '2025-01-01', 'salesAmt': '709533760', 'salesShare': '5.3', 'salesInten': '-664646400', 'salesChange': '-48.4', 'salesAcc': '2399703310', 'audiCnt': '83614', 'audiInten': '-76888', 'audiChange': '-47.9', 'audiAcc': '278013', 'scrnCnt': '740', 'showCnt': '6862'}\n",
      "뽀로로 극장판 바닷속 대모험\n",
      "{'rnum': '5', 'rank': '5', 'rankInten': '-1', 'rankOldAndNew': 'OLD', 'movieCd': '20244167', 'movieNm': '수퍼 소닉3', 'openDt': '2025-01-01', 'salesAmt': '704322840', 'salesShare': '5.3', 'salesInten': '-930380650', 'salesChange': '-56.9', 'salesAcc': '2547519010', 'audiCnt': '77924', 'audiInten': '-99553', 'audiChange': '-56.1', 'audiAcc': '276858', 'scrnCnt': '731', 'showCnt': '7320'}\n",
      "수퍼 소닉3\n",
      "{'rnum': '6', 'rank': '6', 'rankInten': '-3', 'rankOldAndNew': 'OLD', 'movieCd': '20190300', 'movieNm': '보고타: 마지막 기회의 땅', 'openDt': '2024-12-31', 'salesAmt': '675418980', 'salesShare': '5.1', 'salesInten': '-2291524580', 'salesChange': '-77.2', 'salesAcc': '3669720540', 'audiCnt': '73735', 'audiInten': '-246283', 'audiChange': '-77.0', 'audiAcc': '396287', 'scrnCnt': '713', 'showCnt': '9611'}\n",
      "보고타: 마지막 기회의 땅\n",
      "{'rnum': '7', 'rank': '7', 'rankInten': '1', 'rankOldAndNew': 'OLD', 'movieCd': '20245977', 'movieNm': '극장판 짱구는 못말려: 우리들의 공룡일기', 'openDt': '2024-12-18', 'salesAmt': '499661200', 'salesShare': '3.8', 'salesInten': '-563655980', 'salesChange': '-53.0', 'salesAcc': '6600488720', 'audiCnt': '53459', 'audiInten': '-60070', 'audiChange': '-52.9', 'audiAcc': '701040', 'scrnCnt': '509', 'showCnt': '4318'}\n",
      "극장판 짱구는 못말려: 우리들의 공룡일기\n",
      "{'rnum': '8', 'rank': '8', 'rankInten': '-2', 'rankOldAndNew': 'OLD', 'movieCd': '20240193', 'movieNm': '무파사: 라이온 킹', 'openDt': '2024-12-18', 'salesAmt': '457879120', 'salesShare': '3.4', 'salesInten': '-865471080', 'salesChange': '-65.4', 'salesAcc': '7938523610', 'audiCnt': '49854', 'audiInten': '-92410', 'audiChange': '-65.0', 'audiAcc': '806833', 'scrnCnt': '501', 'showCnt': '4160'}\n",
      "무파사: 라이온 킹\n",
      "{'rnum': '9', 'rank': '9', 'rankInten': '0', 'rankOldAndNew': 'OLD', 'movieCd': '20247693', 'movieNm': '위키드', 'openDt': '2024-11-20', 'salesAmt': '484888710', 'salesShare': '3.6', 'salesInten': '-395189610', 'salesChange': '-44.9', 'salesAcc': '21365292340', 'audiCnt': '44323', 'audiInten': '-45157', 'audiChange': '-50.5', 'audiAcc': '2163349', 'scrnCnt': '347', 'showCnt': '3235'}\n",
      "위키드\n",
      "{'rnum': '10', 'rank': '10', 'rankInten': '-3', 'rankOldAndNew': 'OLD', 'movieCd': '20240737', 'movieNm': '모아나 2', 'openDt': '2024-11-27', 'salesAmt': '385738980', 'salesShare': '2.9', 'salesInten': '-704022910', 'salesChange': '-64.6', 'salesAcc': '32279490990', 'audiCnt': '41439', 'audiInten': '-74387', 'audiChange': '-64.2', 'audiAcc': '3495286', 'scrnCnt': '452', 'showCnt': '3399'}\n",
      "모아나 2\n",
      "{}\n"
     ]
    }
   ],
   "source": [
    "get_weekly_boxoffice()"
   ]
  },
  {
   "cell_type": "markdown",
   "id": "62dc8573-f951-48be-81f2-c57cc7fa354c",
   "metadata": {},
   "source": [
    "**출력예시**\n",
    "```\n",
    "{'하얼빈': {'영화제목': '하얼빈', '개봉일': '2024-12-24', '누적관객': '4642215', '누적매출': '44407362460'}, '소방관': {'영화제목': '소방관', '개봉일': '2024-12-04', '누적관객': '3840551', '누적매출': '36145572270'}, '보고타: 마지막 기회의 땅': {'영화제목': '보고타: 마지막 기회의 땅', '개봉일': '2024-12-31', '누적관객': '396287', '누적매출': '3669720540'}, '수퍼 소닉3': {'영화제목': '수퍼 소닉3', '개봉일': '2025-01-01', '누적관객': '322100', '누적매출': '2950620910'}, '뽀로로 극장판 바닷속 대모험': {'영화제목': '뽀로로 극장판 바닷속 대모험', '개봉일': '2025-01-01', '누적관객': '349597', '누적매출': '2996015770'}, '무파사: 라이온 킹': {'영화제목': '무파사: 라이온 킹', '개봉일': '2024-12-18', '누적관객': '833832', '누적매출': '8188072950'}, '모아나 2': {'영화제목': '모아나 2', '개봉일': '2024-11-27', '누적관객': '3522517', '누적매출': '32533317750'}, '극장판 짱구는 못말려: 우리들의 공룡일기': {'영화제목': '극장판 짱구는 못말려: 우리들의 공룡일기', '개봉일': '2024-12-18', '누적관객': '762895', '누적매출': '7177275100'}, '위키드': {'영화제목': '위키드', '개봉일': '2024-11-20', '누적관객': '2195165', '누적매출': '21677201940'}, '시빌 워: 분열의 시대': {'영화제목': '시빌 워: 분열의 시대', '개봉일': '2024-12-31', '누적관객': '80373', '누적매출': '836845230'}, '동화지만 청불입니다': {'영화제목': '동화지만 청불입니다', '개봉일': '2025-01-08', '누적관객': '157616', '누적매출': '1465916720'}, '서브스턴스': {'영화제목': '서브스턴스', '개봉일': '2024-12-11', '누적관객': '302870', '누적매출': '2954609400'}, '검은 수녀들': {'영화제목': '검은 수녀들', '개봉일': '2025-01-24', '누적관객': '606145', '누적매출': '5870106460'}, '히트맨2': {'영화제목': '히트맨2', '개봉일': '2025-01-22', '누적관객': '604875', '누적매출': '5686993120'}, '극장판 포켓몬스터 AG: 뮤와 파동의 용사 루카리오': {'영화제목': '극장판 포켓몬스터 AG: 뮤와 파동의 용사 루카리오', '개봉일': '2025-01-22', '누적관객': '64585', '누적매출': '570033160'}, '아이유 콘서트 : 더 위닝': {'영화제목': '아이유 콘서트 : 더 위닝', '개봉일': '2025-01-24', '누적관객': '28061', '누적매출': '778067000'}, '귀신경찰': {'영화제목': '귀신경찰', '개봉일': '2025-01-24', '누적관객': '21949', '누적매출': '191035980'}}\n",
    "```"
   ]
  },
  {
   "cell_type": "markdown",
   "id": "66ab8357-9017-4b6f-942b-9530fad12396",
   "metadata": {},
   "source": [
    "## 일별 박스오피스 영화의 상세정보\n",
    "\n",
    "- **일별 박스오피스 api**와 **영화 상세정보 api**를 사용합니다.\n",
    "- 입력받은 날짜의 일별 박스오피스 TOP 10을 조회합니다.\n",
    "- 각 영화의 상세 정보를 추가로 조회하여 다음 정보를 출력합니다:\n",
    "    - 순위\n",
    "    - 영화제목\n",
    "    - 감독\n",
    "    - 주연배우 (최대 3명)"
   ]
  },
  {
   "cell_type": "code",
   "execution_count": null,
   "id": "eeb6ab3a-3547-42a5-9b33-6ff26a3baada",
   "metadata": {},
   "outputs": [],
   "source": [
    "def get_movie_details(target_date):\n",
    "    pass"
   ]
  },
  {
   "cell_type": "code",
   "execution_count": null,
   "id": "ff9c8d9e-9d6f-466b-aead-01a67bd665a7",
   "metadata": {},
   "outputs": [],
   "source": [
    "get_movie_details(\"20250201\")  # YYYYMMDD 형식으로 날짜 입력"
   ]
  },
  {
   "cell_type": "markdown",
   "id": "b28eb6ba-70b4-47c7-b760-e404770911b7",
   "metadata": {},
   "source": [
    "**출력예시**\n",
    "\n",
    "```\n",
    "1위\n",
    "히트맨2\n",
    "감독: 최원섭\n",
    "주연: 권상우, 정준호, 이이경\n",
    "----------------------------------------\n",
    "\n",
    "2위\n",
    "검은 수녀들\n",
    "감독: 권혁재\n",
    "주연: 송혜교, 전여빈, 이진욱\n",
    "----------------------------------------\n",
    "\n",
    "3위\n",
    "말할 수 없는 비밀\n",
    "감독: 서유민\n",
    "주연: 도경수, 원진아, 신예은\n",
    "----------------------------------------\n",
    "...\n",
    "```"
   ]
  },
  {
   "cell_type": "markdown",
   "id": "ea367bbf-26d0-4bd3-9600-97287eecf26c",
   "metadata": {},
   "source": [
    "## 배우검색\n",
    "\n",
    "- **영화인목록 api**, **영화인 상세정보 api**, **영화 상세정보 api**를 사용합니다.\n",
    "- 배우 이름을 입력받아 해당 배우의 정보를 검색합니다.\n",
    "- 여러 명의 동명 배우가 있는 경우, 필모그래피가 가장 많은 배우를 선택합니다.\n",
    "- 선택된 배우의 출연작 중 '배우'로 참여한 작품 5개의 정보를 출력합니다:\n",
    "    - 영화 제목\n",
    "    - 개봉일\n",
    "    - 상영시간\n",
    "    - 감독"
   ]
  },
  {
   "cell_type": "code",
   "execution_count": null,
   "id": "95921101-c245-409c-9370-c551a8fc752d",
   "metadata": {},
   "outputs": [],
   "source": [
    "def analyze_actor_movies(actor_name):\n",
    "    pass"
   ]
  },
  {
   "cell_type": "code",
   "execution_count": null,
   "id": "e9ee8f1e-1d6c-4dad-8a4a-acd876219c90",
   "metadata": {},
   "outputs": [],
   "source": [
    "analyze_actor_movies(\"박정민\")  # 원하는 배우 이름으로 변경 가능"
   ]
  },
  {
   "cell_type": "markdown",
   "id": "2cf6c442-7bb9-4b9d-a35a-12c94d8b530d",
   "metadata": {},
   "source": [
    "**출력예시**\n",
    "\n",
    "```\n",
    "배우 '박정민'의 최근 출연작 5개\n",
    "\n",
    "제목: 하얼빈\n",
    "개봉일: 20241224\n",
    "상영시간: 113분\n",
    "감독: 우민호\n",
    "\n",
    "제목: 얼굴\n",
    "개봉일: \n",
    "상영시간: 분\n",
    "감독: 연상호\n",
    "\n",
    "제목: 전, 란\n",
    "개봉일: \n",
    "상영시간: 126분\n",
    "감독: 김상만\n",
    "\n",
    "제목: 휴민트\n",
    "개봉일: \n",
    "상영시간: 분\n",
    "감독: 류승완\n",
    "\n",
    "제목: 밀수\n",
    "개봉일: 20230726\n",
    "상영시간: 129분\n",
    "감독: 류승완\n",
    "```"
   ]
  },
  {
   "cell_type": "code",
   "execution_count": null,
   "id": "b96e3899-d8a6-4860-9a6f-ecb13bec9883",
   "metadata": {},
   "outputs": [],
   "source": []
  }
 ],
 "metadata": {
  "kernelspec": {
   "display_name": "Python 3 (ipykernel)",
   "language": "python",
   "name": "python3"
  },
  "language_info": {
   "codemirror_mode": {
    "name": "ipython",
    "version": 3
   },
   "file_extension": ".py",
   "mimetype": "text/x-python",
   "name": "python",
   "nbconvert_exporter": "python",
   "pygments_lexer": "ipython3",
   "version": "3.13.2"
  }
 },
 "nbformat": 4,
 "nbformat_minor": 5
}
