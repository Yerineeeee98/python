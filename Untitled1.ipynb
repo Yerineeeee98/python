{
 "cells": [
  {
   "cell_type": "markdown",
   "id": "5fc20d38-2f00-4a7b-a367-dc892f88d31e",
   "metadata": {},
   "source": [
    "## 로또 구매하고 등수확인하는 프로그램 만들어보기"
   ]
  },
  {
   "cell_type": "code",
   "execution_count": 1,
   "id": "14f6b133-b114-4c58-8009-5c88f2c82187",
   "metadata": {},
   "outputs": [],
   "source": [
    "# 1. 로또 5000원 구매 (5개)"
   ]
  },
  {
   "cell_type": "code",
   "execution_count": 23,
   "id": "25b265bc-220b-4e6f-97b1-6252132c6574",
   "metadata": {},
   "outputs": [
    {
     "name": "stdout",
     "output_type": "stream",
     "text": [
      "{'totSellamnt': 124802304000, 'returnValue': 'success', 'drwNoDate': '2025-02-15', 'firstWinamnt': 1284854250, 'drwtNo6': 39, 'drwtNo4': 28, 'firstPrzwnerCo': 23, 'drwtNo5': 38, 'bnusNo': 7, 'firstAccumamnt': 29551647750, 'drwNo': 1159, 'drwtNo2': 9, 'drwtNo3': 27, 'drwtNo1': 3}\n"
     ]
    }
   ],
   "source": [
    "import requests\n",
    "\n",
    "payload = {\n",
    "    'method': 'getLottoNumber',\n",
    "    'drwNo': 1159 # 최신회차를 불러오는 이유 : 최신회차에 당첨번호와 보너스 숫자등 다 들어있어서\n",
    "}\n",
    "res = requests.get('https://www.dhlottery.co.kr/common.do', params = payload) \n",
    "res = res.json()\n",
    "print(res)"
   ]
  },
  {
   "cell_type": "code",
   "execution_count": 16,
   "id": "21043b39-723e-4b31-883f-af043eb3d604",
   "metadata": {},
   "outputs": [
    {
     "name": "stdout",
     "output_type": "stream",
     "text": [
      "{'1번 복권': [41, 7, 18, 31, 13, 1], '2번 복권': [40, 31, 26, 11, 9, 13], '3번 복권': [16, 10, 19, 33, 5, 13], '4번 복권': [27, 36, 8, 5, 21, 12], '5번 복권': [35, 1, 40, 22, 17, 42]}\n"
     ]
    }
   ],
   "source": [
    "\n",
    "import random\n",
    "my_lotto = {}\n",
    "for i in range(1, 6): # 5번 반복 \n",
    "       lotto_number = random.sample(range(1, 46), 6) # 로또번호 6개 5번 출력\n",
    "       my_lotto[f'{i}번 복권'] = lotto_number # k값에 i저장, v 값에 lotto_number저장\n",
    "print(my_lotto)        "
   ]
  },
  {
   "cell_type": "code",
   "execution_count": 26,
   "id": "1bb7deff-b027-4435-a412-f50f2761b896",
   "metadata": {},
   "outputs": [],
   "source": [
    "bonus_num = res['bnusNo']\n",
    "win_num = []\n",
    "\n",
    "for k, v in res.items(): # res에 k와 v를 다 반복\n",
    "    if 'drwtNo' in k: # 만약 drwtNo가 k값에 있다면\n",
    "        win_num.append(v) # win_num에 v값들을 저장(drwtNo의 v값들)\n",
    "    \n",
    "    "
   ]
  },
  {
   "cell_type": "code",
   "execution_count": null,
   "id": "47e6d670-0242-43d2-b188-0a51828d12af",
   "metadata": {},
   "outputs": [],
   "source": [
    "# 등수확인하기\n",
    "for lotto_number in my_lotto.values():\n",
    "    "
   ]
  }
 ],
 "metadata": {
  "kernelspec": {
   "display_name": "Python 3 (ipykernel)",
   "language": "python",
   "name": "python3"
  },
  "language_info": {
   "codemirror_mode": {
    "name": "ipython",
    "version": 3
   },
   "file_extension": ".py",
   "mimetype": "text/x-python",
   "name": "python",
   "nbconvert_exporter": "python",
   "pygments_lexer": "ipython3",
   "version": "3.13.2"
  }
 },
 "nbformat": 4,
 "nbformat_minor": 5
}
