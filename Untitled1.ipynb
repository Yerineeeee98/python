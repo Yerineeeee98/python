{
 "cells": [
  {
   "cell_type": "markdown",
   "id": "5fc20d38-2f00-4a7b-a367-dc892f88d31e",
   "metadata": {},
   "source": [
    "## 로또 구매하고 등수확인하는 프로그램 만들어보기"
   ]
  },
  {
   "cell_type": "code",
   "execution_count": null,
   "id": "14f6b133-b114-4c58-8009-5c88f2c82187",
   "metadata": {},
   "outputs": [],
   "source": [
    "# 1. 로또 5000원 구매 (5개)"
   ]
  },
  {
   "cell_type": "code",
   "execution_count": 2,
   "id": "21043b39-723e-4b31-883f-af043eb3d604",
   "metadata": {},
   "outputs": [
    {
     "name": "stdout",
     "output_type": "stream",
     "text": [
      "[19, 24, 32, 30, 7, 3]\n"
     ]
    }
   ],
   "source": [
    "import random\n",
    "my_lotto : {}\n",
    "for i in range(1, 6): # 5번 반복 \n",
    "    for i, v in my_lotto.item(): # my_lotto에 k값에는 i값을 저장, v값에는 random.sample값을 저장\n",
    "        v = random.sample(range(1, 46), 6)\n",
    "        my_lotto = {}\n",
    "print(my_lotto)        "
   ]
  }
 ],
 "metadata": {
  "kernelspec": {
   "display_name": "Python 3 (ipykernel)",
   "language": "python",
   "name": "python3"
  },
  "language_info": {
   "codemirror_mode": {
    "name": "ipython",
    "version": 3
   },
   "file_extension": ".py",
   "mimetype": "text/x-python",
   "name": "python",
   "nbconvert_exporter": "python",
   "pygments_lexer": "ipython3",
   "version": "3.13.2"
  }
 },
 "nbformat": 4,
 "nbformat_minor": 5
}
