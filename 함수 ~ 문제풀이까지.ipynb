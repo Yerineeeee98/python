{
 "cells": [
  {
   "cell_type": "markdown",
   "id": "ffcecd75-ac73-43d6-915f-761ba22a0158",
   "metadata": {},
   "source": [
    "# 2025.02.14\n",
    "### 함수 ~ 문제풀이 까지"
   ]
  },
  {
   "cell_type": "markdown",
   "id": "98fc9dd3-e76a-41fc-93ca-7ca1c760f3cc",
   "metadata": {},
   "source": [
    "###### for문 : 내가 원하는 횟수만큼 반복하고 싶을 때 \n",
    "###### while문 : 내가 원하는 조건을 만족할때까지 반복"
   ]
  },
  {
   "cell_type": "markdown",
   "id": "7af96168-7dda-4511-91ec-64c51bfd2641",
   "metadata": {},
   "source": [
    "##### while문의 break, continue\n",
    " - break : 중간에 빠져나오는 명령어\n",
    " - continue : 맨 처음 부분으로 돌아가는 명령어\n"
   ]
  },
  {
   "cell_type": "code",
   "execution_count": 29,
   "id": "36c67ee5-6903-4eeb-a0eb-93b280e5a990",
   "metadata": {},
   "outputs": [
    {
     "name": "stdout",
     "output_type": "stream",
     "text": [
      "숫자를 셉니다! 1\n",
      "숫자를 셉니다! 3\n",
      "숫자를 셉니다! 5\n"
     ]
    }
   ],
   "source": [
    "# 예시\n",
    "num = 0\n",
    "\n",
    "while True:\n",
    "    if num >= 6:\n",
    "        break  # 숫자가 6이상이 되면 while문 종료\n",
    "    num += 1\n",
    "    if num % 2 == 0:\n",
    "        continue  # 숫자가 짝수이면 print를 실행하지 못하고, while 문의 맨 위로 올라가게 됨\n",
    "    print('숫자를 셉니다!', num)"
   ]
  },
  {
   "cell_type": "code",
   "execution_count": 27,
   "id": "2dcf81ff-642b-414c-a2b5-e93081edfb4c",
   "metadata": {},
   "outputs": [
    {
     "name": "stdout",
     "output_type": "stream",
     "text": [
      "데프트가 소속했던 팀 중에 가장 좋아하는 팀이 어딘가요?\n",
      "1. kingzone\n",
      "2. kt\n",
      "3. drx\n",
      "4. hle\n",
      "5. dk\n",
      "숫자로 입력해주세요 4\n"
     ]
    },
    {
     "name": "stdout",
     "output_type": "stream",
     "text": [
      "낭만 넘치다고 생각합니다.\n"
     ]
    },
    {
     "name": "stdout",
     "output_type": "stream",
     "text": [
      "데프트가 소속했던 팀 중에 가장 좋아하는 팀이 어딘가요?\n",
      "1. kingzone\n",
      "2. kt\n",
      "3. drx\n",
      "4. hle\n",
      "5. dk\n",
      "숫자로 입력해주세요 6\n"
     ]
    },
    {
     "name": "stdout",
     "output_type": "stream",
     "text": [
      "군대갔어요\n"
     ]
    }
   ],
   "source": [
    "# 내가 만들어 본 예시\n",
    "# 혁규의 가장 좋아하는 팀 물어보기\n",
    "while True:\n",
    "    team = input('데프트가 소속했던 팀 중에 가장 좋아하는 팀이 어딘가요?\\n'  \n",
    "    '1. kingzone\\n'\n",
    "    '2. kt\\n'\n",
    "    '3. drx\\n'\n",
    "    '4. hle\\n'   # \\n으로 한 줄 띄어쓰기\n",
    "    '5. dk\\n'\n",
    "    '숫자로 입력해주세요')\n",
    "\n",
    "    if team == '1':\n",
    "        print('전성기였다고 생각합니다')\n",
    "    elif team == '2':\n",
    "        print('낭만 넘치다고 생각합니다.')\n",
    "    \n",
    "    elif team == '3':\n",
    "        print('낭만 넘치다고 생각합니다.')    \n",
    "   \n",
    "    elif team == '4':\n",
    "        print('낭만 넘치다고 생각합니다.')   \n",
    "     \n",
    "    elif team == '5':\n",
    "        print('낭만 넘치다고 생각합니다.')   \n",
    "\n",
    "    elif team >= '6': \n",
    "        print('군대갔어요')\n",
    "    \n",
    "        break \n",
    "                \n",
    "\n",
    "    else:\n",
    "          continue #(0이나 음수의 숫자를 입력한다면 다시 물어보기)\n",
    "        "
   ]
  },
  {
   "cell_type": "markdown",
   "id": "2625ff39-d554-4638-a978-34fd90517997",
   "metadata": {},
   "source": [
    "#### for문의 기본형\n",
    "- `for i in range(10):\n",
    "- "
   ]
  },
  {
   "cell_type": "code",
   "execution_count": 31,
   "id": "f6b57600-b5f7-4898-b5ce-e9e2d364b52f",
   "metadata": {},
   "outputs": [
    {
     "name": "stdout",
     "output_type": "stream",
     "text": [
      "3\n",
      "9\n",
      "3\n",
      "3\n"
     ]
    }
   ],
   "source": [
    "# 예시\n",
    "cnt = 0\n",
    "sum = 0\n",
    "\n",
    "list_a = [1, 3, 5]\n",
    "# i가 1, 3, 5로 바뀌면서 실행\n",
    "for i in list_a:\n",
    "    cnt += 1\n",
    "    sum += i\n",
    "\n",
    "print(cnt) # 3 [0]=1 [1]=3\n",
    "print(sum) # 1 + 3 + 5 = 9\n",
    "\n",
    "cnt = 0\n",
    "sum = 0\n",
    "\n",
    "dict_a = {'a': 1, 'b': 2}\n",
    "# dict_a의 value들의 모임인 1, 2에 대해서 수행\n",
    "for val in dict_a.values():\n",
    "    cnt += val\n",
    "    sum += val\n",
    "\n",
    "print(cnt) # 2 + 1\n",
    "print(sum) # 1 + 2 = 3"
   ]
  },
  {
   "cell_type": "code",
   "execution_count": 33,
   "id": "1db16c3a-8c1c-464b-b947-c8f25bd7570f",
   "metadata": {},
   "outputs": [
    {
     "name": "stdout",
     "output_type": "stream",
     "text": [
      "2 x 2 = 4\n",
      "2 x 3 = 6\n",
      "2 x 4 = 8\n",
      "2 x 5 = 10\n",
      "2 x 6 = 12\n",
      "2 x 7 = 14\n",
      "2 x 8 = 16\n",
      "2 x 9 = 18\n",
      "----------\n",
      "3 x 2 = 6\n",
      "3 x 3 = 9\n",
      "3 x 4 = 12\n",
      "3 x 5 = 15\n",
      "3 x 6 = 18\n",
      "3 x 7 = 21\n",
      "3 x 8 = 24\n",
      "3 x 9 = 27\n",
      "----------\n",
      "4 x 2 = 8\n",
      "4 x 3 = 12\n",
      "4 x 4 = 16\n",
      "4 x 5 = 20\n",
      "4 x 6 = 24\n",
      "4 x 7 = 28\n",
      "4 x 8 = 32\n",
      "4 x 9 = 36\n",
      "----------\n",
      "5 x 2 = 10\n",
      "5 x 3 = 15\n",
      "5 x 4 = 20\n",
      "5 x 5 = 25\n",
      "5 x 6 = 30\n",
      "5 x 7 = 35\n",
      "5 x 8 = 40\n",
      "5 x 9 = 45\n",
      "----------\n",
      "6 x 2 = 12\n",
      "6 x 3 = 18\n",
      "6 x 4 = 24\n",
      "6 x 5 = 30\n",
      "6 x 6 = 36\n",
      "6 x 7 = 42\n",
      "6 x 8 = 48\n",
      "6 x 9 = 54\n",
      "----------\n",
      "7 x 2 = 14\n",
      "7 x 3 = 21\n",
      "7 x 4 = 28\n",
      "7 x 5 = 35\n",
      "7 x 6 = 42\n",
      "7 x 7 = 49\n",
      "7 x 8 = 56\n",
      "7 x 9 = 63\n",
      "----------\n",
      "8 x 2 = 16\n",
      "8 x 3 = 24\n",
      "8 x 4 = 32\n",
      "8 x 5 = 40\n",
      "8 x 6 = 48\n",
      "8 x 7 = 56\n",
      "8 x 8 = 64\n",
      "8 x 9 = 72\n",
      "----------\n",
      "9 x 2 = 18\n",
      "9 x 3 = 27\n",
      "9 x 4 = 36\n",
      "9 x 5 = 45\n",
      "9 x 6 = 54\n",
      "9 x 7 = 63\n",
      "9 x 8 = 72\n",
      "9 x 9 = 81\n",
      "----------\n"
     ]
    }
   ],
   "source": [
    "# 구구단 예시\n",
    "for i in range(2, 10): # i = 2, j = 2~9까지 반복 > 종료 > i =3, j = 2~9까지 반복\n",
    "    for j in range(2, 10):\n",
    "        print(i, 'x', j, '=', i * j)\n",
    "    print('-' * 10) # i가 2부터 9까지 반복하여 끝났다면 출력"
   ]
  },
  {
   "cell_type": "code",
   "execution_count": 36,
   "id": "213f25e3-52a9-48e1-bd83-6ee0508b7ffa",
   "metadata": {},
   "outputs": [
    {
     "name": "stdout",
     "output_type": "stream",
     "text": [
      "15\n"
     ]
    }
   ],
   "source": [
    "# 예제 - 리스트의 합 구하기\n",
    "numbers = [1, 2, 3, 4, 5]\n",
    "total = 0\n",
    "\n",
    "for number in numbers: # 1~5까지 반복\n",
    "    total += number\n",
    "\n",
    "print(total)\n",
    "# 출처: https://jworld22.tistory.com/6 [정책 일상 정보 톡톡:티스토리]"
   ]
  },
  {
   "cell_type": "code",
   "execution_count": 38,
   "id": "51fd15ad-d784-42ce-a532-07549007394a",
   "metadata": {},
   "outputs": [
    {
     "name": "stdout",
     "output_type": "stream",
     "text": [
      "banana is at index 1\n",
      "banana is at index 3\n"
     ]
    }
   ],
   "source": [
    "fruits = ['apple', 'banana', 'cherry', 'banana', 'apple']\n",
    "target = 'banana'\n",
    "\n",
    "for i in range(len(fruits)): # len은 길이를 의미 \n",
    "    if fruits[i] == target: # [] 인덱스 번호를 의미\n",
    "        print(f'{target} is at index {i}')\n"
   ]
  },
  {
   "cell_type": "markdown",
   "id": "fbdc388c-457e-4e09-8c73-4ef29d07aad3",
   "metadata": {},
   "source": [
    "#### return의 정의\n",
    "``` python\n",
    " def f2(x):\n",
    "...     a = 3\n",
    "...     b = 5\n",
    "...     y = a * x + b\n",
    "...     print(y)           # y 값을 출력한다\n",
    "...\n",
    ">>> d = f2(10)             # d = ?\n",
    "35\n",
    ">>> print(d)\n",
    "None # d에게 값을 반환하지는 않음. d를 프린트해 보면 아무 값이 없다는 뜻임\n",
    "```\n",
    "        #### return은 함수가 값을 반환한다는 것을 의미.\n",
    "        \n"
   ]
  }
 ],
 "metadata": {
  "kernelspec": {
   "display_name": "Python 3 (ipykernel)",
   "language": "python",
   "name": "python3"
  },
  "language_info": {
   "codemirror_mode": {
    "name": "ipython",
    "version": 3
   },
   "file_extension": ".py",
   "mimetype": "text/x-python",
   "name": "python",
   "nbconvert_exporter": "python",
   "pygments_lexer": "ipython3",
   "version": "3.13.2"
  }
 },
 "nbformat": 4,
 "nbformat_minor": 5
}
