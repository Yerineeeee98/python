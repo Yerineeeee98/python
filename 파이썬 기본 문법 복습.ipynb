{
 "cells": [
  {
   "cell_type": "markdown",
   "id": "4adf3b0d-d652-46ad-8d02-7c571fae3b74",
   "metadata": {},
   "source": [
    "# 2025.02.12 \n"
   ]
  },
  {
   "cell_type": "markdown",
   "id": "87f340f3-cbef-4e10-b32b-679937582fc1",
   "metadata": {},
   "source": [
    "## 파이썬 기본 문법"
   ]
  },
  {
   "cell_type": "markdown",
   "id": "e844b8c7-8350-4db6-8a58-00fe3d5d5e4f",
   "metadata": {},
   "source": [
    "### \n",
    "- int = 정수 자료형, 소수점을 지원 x\n",
    "- boolean(bool) = True와 False 두 값만 사용\n",
    "- float = 실수형 자료형, ex) a = 1.12\n",
    "- string(str) = 문자열 자료형, \"\"와 ''둘 중 편한거 사용"
   ]
  },
  {
   "cell_type": "markdown",
   "id": "7ce87f85-db0b-47c5-b196-49fc0f04dcae",
   "metadata": {},
   "source": [
    "### str\n",
    "- str에서 강조할 때 \"'a'\" or '\"a\"' or '\\'a\\''\n",
    "- 한 줄 띄어쓰기는 \\n or {```~```}\n",
    "- 변수를 입력할 때는 print(f'변수 a는 {}입니다.')"
   ]
  },
  {
   "cell_type": "markdown",
   "id": "5ef51466-6098-4ece-b242-9b372553e97e",
   "metadata": {},
   "source": [
    "#### 산술연산자"
   ]
  },
  {
   "cell_type": "code",
   "execution_count": 4,
   "id": "1b9d9d7a-0161-4f2e-81be-66d86bd40630",
   "metadata": {},
   "outputs": [
    {
     "name": "stdout",
     "output_type": "stream",
     "text": [
      "8\n"
     ]
    }
   ],
   "source": [
    "# a ** b = a^b\n",
    "# ex) a = 2 b =3이라고 가정, 2^3=8\n",
    "a = 2\n",
    "b = 3\n",
    "print(a ** b)"
   ]
  },
  {
   "cell_type": "code",
   "execution_count": 9,
   "id": "e934370c-cde8-4ca2-8dbe-b8a21537273b",
   "metadata": {},
   "outputs": [
    {
     "name": "stdout",
     "output_type": "stream",
     "text": [
      "2\n",
      "2\n"
     ]
    }
   ],
   "source": [
    "# a // b = a/b의 몫만 표시\n",
    "# ex ) a = 12 b = 5라고 가정, 12//5 = 2\n",
    "a = 12\n",
    "b = 5\n",
    "print(a // b)\n",
    "print(a % b)"
   ]
  },
  {
   "cell_type": "code",
   "execution_count": 10,
   "id": "451dc78a-7aac-4d21-945a-be74c18a1ee9",
   "metadata": {},
   "outputs": [
    {
     "name": "stdout",
     "output_type": "stream",
     "text": [
      "18\n",
      "0\n"
     ]
    }
   ],
   "source": [
    "# a % b = a/b의 나머지만 표시\n",
    "# ex ) a = 18 b = 20, 18%20=18\n",
    "a = 18\n",
    "b =20\n",
    "print(a % b)\n",
    "print(a // b)"
   ]
  },
  {
   "cell_type": "code",
   "execution_count": 12,
   "id": "94647ac9-c765-47dd-a0ef-f459aab329b0",
   "metadata": {},
   "outputs": [
    {
     "name": "stdout",
     "output_type": "stream",
     "text": [
      "True\n",
      "True\n"
     ]
    }
   ],
   "source": [
    "\n",
    "print('hi' == 'hi') #같나요\n",
    "print('hi' != 'Hi') # 다르나요"
   ]
  },
  {
   "cell_type": "markdown",
   "id": "0805dc81-5d79-45b4-8501-90957a36e59e",
   "metadata": {},
   "source": [
    "#### 논리연산자\n",
    "- and : 양쪽 모두 T일때 T를 반환 \n",
    "- or : 양쪽 모두 F일때 F를 반환\n",
    "- not : 상태를 부정, T > F, F > T"
   ]
  },
  {
   "cell_type": "markdown",
   "id": "b9966a2a-4876-41fe-b694-c89d5152298b",
   "metadata": {},
   "source": [
    "#### 복합연산자\n"
   ]
  },
  {
   "cell_type": "code",
   "execution_count": 16,
   "id": "cb2966ad-a673-4edc-b65f-f20fbd78cf74",
   "metadata": {},
   "outputs": [
    {
     "name": "stdout",
     "output_type": "stream",
     "text": [
      "0\n"
     ]
    }
   ],
   "source": [
    "a = 5\n",
    "b = 10\n",
    "print(a // b)"
   ]
  },
  {
   "cell_type": "code",
   "execution_count": 18,
   "id": "53c8fe92-c589-4510-9c6d-cf5e2416a694",
   "metadata": {},
   "outputs": [
    {
     "name": "stdout",
     "output_type": "stream",
     "text": [
      "0\n"
     ]
    }
   ],
   "source": [
    "a = a // b \n",
    "print(a)"
   ]
  },
  {
   "cell_type": "code",
   "execution_count": 19,
   "id": "fac5fb56-db21-467e-9b3b-d006af5b48c2",
   "metadata": {},
   "outputs": [
    {
     "name": "stdout",
     "output_type": "stream",
     "text": [
      "0\n"
     ]
    }
   ],
   "source": [
    "a //=b\n",
    "print(a)"
   ]
  },
  {
   "cell_type": "code",
   "execution_count": 25,
   "id": "c9e82751-9225-4b22-9d68-bfd7bdc4f5fa",
   "metadata": {},
   "outputs": [
    {
     "name": "stdout",
     "output_type": "stream",
     "text": [
      "81\n"
     ]
    }
   ],
   "source": [
    "a = 3\n",
    "b = 4\n",
    "a **=b\n",
    "print(a)"
   ]
  },
  {
   "cell_type": "code",
   "execution_count": 28,
   "id": "4b088807-37d5-4e5d-9e06-ac6877167298",
   "metadata": {},
   "outputs": [
    {
     "name": "stdout",
     "output_type": "stream",
     "text": [
      "3\n"
     ]
    }
   ],
   "source": [
    "a = 3\n",
    "b = 4\n",
    "a %=b\n",
    "print(a)"
   ]
  },
  {
   "cell_type": "markdown",
   "id": "55cbb3ec-5a1e-483e-96e3-6f312930dacd",
   "metadata": {},
   "source": [
    "#### 명시적 형변환\n",
    "- 서로 다른 형태를 출력할 때 일시적으로 형태를 변경"
   ]
  },
  {
   "cell_type": "code",
   "execution_count": 42,
   "id": "37772600-8a73-41f3-b845-16382e1eb04a",
   "metadata": {},
   "outputs": [],
   "source": [
    "a = '흠'\n",
    "b = 1\n",
    "c = ' '"
   ]
  },
  {
   "cell_type": "code",
   "execution_count": 43,
   "id": "4d71f960-476a-443d-8824-1ff5648b7c72",
   "metadata": {},
   "outputs": [
    {
     "name": "stdout",
     "output_type": "stream",
     "text": [
      "흠1\n",
      "흠 1\n"
     ]
    }
   ],
   "source": [
    "print(a+str(b)) # b는 int지만 str형태로 변형\n",
    "print(a+c+str(b))"
   ]
  }
 ],
 "metadata": {
  "kernelspec": {
   "display_name": "Python 3 (ipykernel)",
   "language": "python",
   "name": "python3"
  },
  "language_info": {
   "codemirror_mode": {
    "name": "ipython",
    "version": 3
   },
   "file_extension": ".py",
   "mimetype": "text/x-python",
   "name": "python",
   "nbconvert_exporter": "python",
   "pygments_lexer": "ipython3",
   "version": "3.13.2"
  }
 },
 "nbformat": 4,
 "nbformat_minor": 5
}
