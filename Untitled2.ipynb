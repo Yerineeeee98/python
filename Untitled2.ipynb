{
 "cells": [
  {
   "cell_type": "code",
   "execution_count": null,
   "id": "021785d1-970f-41ac-a628-c0cf60c3787f",
   "metadata": {},
   "outputs": [],
   "source": [
    "# class 만들어보기"
   ]
  },
  {
   "cell_type": "code",
   "execution_count": 34,
   "id": "530ed4ef-d80c-42be-a1c7-50a840b28b89",
   "metadata": {},
   "outputs": [],
   "source": [
    "# import requests\n",
    "# baseball_url = requests.get('https://www.koreabaseball.com/record/teamrank/teamrank.aspx/common.do')\n",
    "\n",
    "# import bs4\n",
    "\n",
    "# soup = bs4.BeautifulSoup(baseball_url.text, 'html.parser')\n",
    "# soup.find('div').find('팀 순위')"
   ]
  },
  {
   "cell_type": "code",
   "execution_count": null,
   "id": "ad849494-ebe9-4826-a804-0487e2d139b6",
   "metadata": {},
   "outputs": [],
   "source": [
    "class Baseball:\n",
    "    \n",
    " # 야구의 팀 이름과 선수 이름 그리고 팀의 순위와 선수의 등급을 객체로 만든 다음\n",
    "    # 팀 레벨은 import를 써서 사이트에서 가져오고 싶음 # 나중에\n",
    "    # 선수끼리 자기소개를 하기\n",
    "    # 선수끼리 밥 먹게하기 > 친밀도를 10 높임\n",
    "    # 선수끼리 같이 훈련시키기 > 친밀도를 40 높임\n",
    "    # 선수끼리 같이 술 먹게하기 > 친밀도를 50 높임\n",
    "    # 그렇게 해서 선수끼리 친밀도가 100이 되면 같은 팀 되게 하기\n",
    "    def __init__(self, team_name, player_name, team_rank, player_heart=0):\n",
    "        self.team_name = team_name\n",
    "        self.player_name = player_name\n",
    "        self.team_rank = team_rank # 작년 순위에 맞춰서 하고싶음\n",
    "        self.player_heart = player_heart # 친밀도\n",
    "        \n",
    "\n",
    "    def greeting(self, other):\n",
    "        print(f'안녕하세요 {self.team_name}의 {self.player_name}입니다. 반갑습니다 {other.team_rank}등 {other.team_name}의 {other.player_name}님.')\n",
    "\n",
    "    def eat(self, other):\n",
    "        other.player_heart = 10\n",
    "        print(f'{self.player_name}님이 {other.player_name}에게 식사요청을 했습니다.')\n",
    "        print(f'{other.player_name}님의 친밀도가 {other.player_heart}가 됐습니다. ')\n",
    "\n",
    "    def practice(self, other):\n",
    "        other.player_heart = 40\n",
    "        print(f'{self.player_name}님이 {other.player_name}에게 합동훈련을 요청했습니다.')\n",
    "        print(f'{other.player_name}님의 친밀도가 {other.player_heart}가 됐습니다. ')\n",
    "\n",
    "    def drink(self, other) :\n",
    "        other.player_heart = 50\n",
    "        print(f'{self.player_name}님이 {other.player_name}에게 술 한잔을 권했습니다.')\n",
    "        print(f'{other.player_name}님의 친밀도가 {other.player_heart}가 됐습니다. ')\n",
    "\n",
    "    def final(self, other):\n",
    "        \n",
    "        print(f'{other.player_name}님이 {self.team_name}로 가기로 결정했습니다.')\n",
    "\n",
    "    def friendship(oher):\n",
    "        friendship = other.player_heart\n",
    "        \n",
    "        "
   ]
  },
  {
   "cell_type": "code",
   "execution_count": null,
   "id": "10b3ccf9-650c-460b-84ee-1e028f6202d2",
   "metadata": {},
   "outputs": [],
   "source": [
    "p1 = Baseball('한화', '문동주' ,'8')\n",
    "p2 = Baseball('기아', '김도영', '1')\n",
    "p1.greeting(p2)\n",
    "p1.eat(p2)"
   ]
  },
  {
   "cell_type": "code",
   "execution_count": null,
   "id": "d6a164ed-62f2-45f2-9959-891a7778feaa",
   "metadata": {},
   "outputs": [],
   "source": []
  }
 ],
 "metadata": {
  "kernelspec": {
   "display_name": "Python 3 (ipykernel)",
   "language": "python",
   "name": "python3"
  },
  "language_info": {
   "codemirror_mode": {
    "name": "ipython",
    "version": 3
   },
   "file_extension": ".py",
   "mimetype": "text/x-python",
   "name": "python",
   "nbconvert_exporter": "python",
   "pygments_lexer": "ipython3",
   "version": "3.13.2"
  }
 },
 "nbformat": 4,
 "nbformat_minor": 5
}
