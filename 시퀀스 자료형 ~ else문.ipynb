{
 "cells": [
  {
   "cell_type": "markdown",
   "id": "9c418a1e-e91a-4a07-bee7-8835a86960a8",
   "metadata": {},
   "source": [
    "# 2025.02.13"
   ]
  },
  {
   "cell_type": "markdown",
   "id": "2d652ccd-0f01-4ef2-a920-25bd492bf46b",
   "metadata": {},
   "source": [
    "#### 시퀀스 자료형 ~ else문"
   ]
  },
  {
   "cell_type": "markdown",
   "id": "014622f4-b33d-4a32-b46a-1e5fc9000beb",
   "metadata": {},
   "source": [
    "##### 시퀀스 자료형 (순서가 있음)\n",
    "1. List [] # 변경 가능 var_name[index]\n",
    "2. Tuple () # 변경 불가능 var_name[index]\n",
    "3. Range () # 변경 불가능\n",
    "4. String"
   ]
  },
  {
   "cell_type": "code",
   "execution_count": 13,
   "id": "80610f8e-56ac-4595-a2c4-14cd20101b4f",
   "metadata": {},
   "outputs": [
    {
     "name": "stdout",
     "output_type": "stream",
     "text": [
      "['D.O.', 'Deft', 'Hanhwa']\n",
      "True\n",
      "['D.O.', 'Deft', 'Hanhwa', 'D.O.', 'Deft', 'Hanhwa']\n",
      "['Deft']\n"
     ]
    },
    {
     "data": {
      "text/plain": [
       "3"
      ]
     },
     "execution_count": 13,
     "metadata": {},
     "output_type": "execute_result"
    }
   ],
   "source": [
    "# list만들어보기\n",
    "my_favorits = ['D.O.' , 'Deft', 'Hanhwa']\n",
    "print(my_favorits)\n",
    "print('D.O.' in my_favorits)\n",
    "print(my_favorits * 2) # 두번 반복\n",
    "print(my_favorits[1:2]) # 1이상 2미만\n",
    "len(my_favorits) # 길이\n"
   ]
  },
  {
   "cell_type": "markdown",
   "id": "9ed01225-0a3f-43ed-bd8c-a87160c25635",
   "metadata": {},
   "source": [
    "##### slicing\n",
    "##### var_name[index1:index2] index1번~index2번까지\n",
    "##### step\n",
    "print(my_list[:])\n",
    "print(my_list[::2]) # : =step 2칸씩 띄어서 출력\n"
   ]
  },
  {
   "cell_type": "markdown",
   "id": "1bcf5b5a-9ad3-4fdf-aa5d-24441c28c34a",
   "metadata": {},
   "source": [
    "#### 시퀀스가 아닌 자료구조 (순서가 없음)\n",
    "1. Set (집합과 비슷한 개념으로 중복값이 없음 = 중복되는 값이 있어도 하나만 출력된다) {}\n",
    "  - 합집합은 |, 교집합은 &로 구성\n",
    "2. dictionary(사전과 비슷한 개념) {k1: v1, k2: v2, ...}\n",
    "  - 한칸씩 띄어쓰기 하기\n",
    "  - 접근할때 항상 k값을 중심으로 var_name[k]\n",
    "  - 만약 k1값에 들어있는 v1-2를 보고싶다면 ['k'][1]\n",
    "    \n"
   ]
  },
  {
   "cell_type": "code",
   "execution_count": null,
   "id": "46375287-11d2-423c-a374-f1378bf2eeec",
   "metadata": {},
   "outputs": [],
   "source": []
  }
 ],
 "metadata": {
  "kernelspec": {
   "display_name": "Python 3 (ipykernel)",
   "language": "python",
   "name": "python3"
  },
  "language_info": {
   "codemirror_mode": {
    "name": "ipython",
    "version": 3
   },
   "file_extension": ".py",
   "mimetype": "text/x-python",
   "name": "python",
   "nbconvert_exporter": "python",
   "pygments_lexer": "ipython3",
   "version": "3.13.2"
  }
 },
 "nbformat": 4,
 "nbformat_minor": 5
}
