{
 "cells": [
  {
   "cell_type": "markdown",
   "id": "f9e90813-89d1-4ea8-9f2b-9cec7d27c563",
   "metadata": {},
   "source": [
    "# 제어문"
   ]
  },
  {
   "cell_type": "markdown",
   "id": "a3ee61c7-5add-4cba-8fbc-a72d85fb5098",
   "metadata": {},
   "source": [
    "## 조건문 (if문)\n",
    "\n",
    "1. if문은 반드시 참 혹은 거짓을 판단 할 수 있는 `조건식`과 함께 사용한다\n",
    "   - `if <조건식>:`\n",
    "2. `<조건식>` 참인경우 : `:` 이후의 문장을 실행\n",
    "3. `<조건식>` 거짓인경우 : `else:` 이후의 문장을 실행\n",
    "\n",
    "```\n",
    "if <조건식>:\n",
    "    if의 조건식이 참인 경우 실행하는 코드\n",
    "else <조건식>:\n",
    "    else의 조건식이 거짓인 경우 실행하는 코드   "
   ]
  },
  {
   "cell_type": "code",
   "execution_count": 10,
   "id": "bc2eca8e-a560-4654-b805-8898287f726d",
   "metadata": {},
   "outputs": [
    {
     "name": "stdin",
     "output_type": "stream",
     "text": [
      " 2/13\n"
     ]
    },
    {
     "name": "stdout",
     "output_type": "stream",
     "text": [
      "2/13\n",
      "No\n"
     ]
    }
   ],
   "source": [
    "my_string = input()\n",
    "print(my_string)\n",
    "\n",
    "if my_string == '12/25':\n",
    "    print('merry christmas!')\n",
    "else:\n",
    "    print('No')"
   ]
  },
  {
   "cell_type": "code",
   "execution_count": 14,
   "id": "e7f418d2-4f03-4d93-8499-58c68105c91e",
   "metadata": {},
   "outputs": [
    {
     "name": "stdin",
     "output_type": "stream",
     "text": [
      "숫자를 입력해주세요 123456\n"
     ]
    },
    {
     "name": "stdout",
     "output_type": "stream",
     "text": [
      "even\n"
     ]
    }
   ],
   "source": [
    "num = input('숫자를 입력해주세요')\n",
    "\n",
    "if int(num) % 2 == 1:\n",
    "    print('odd')\n",
    "else:\n",
    "    print('even')\n",
    "    "
   ]
  },
  {
   "cell_type": "code",
   "execution_count": 18,
   "id": "8c0be14c-dc9e-4ccb-b2c0-184669044405",
   "metadata": {},
   "outputs": [
    {
     "name": "stdin",
     "output_type": "stream",
     "text": [
      " 1234\n"
     ]
    },
    {
     "name": "stdout",
     "output_type": "stream",
     "text": [
      "even\n"
     ]
    }
   ],
   "source": [
    "num = int(input())\n",
    "\n",
    "if num % 2 == 1 :\n",
    "    print('odd')\n",
    "else:\n",
    "    print('even')"
   ]
  },
  {
   "cell_type": "code",
   "execution_count": 19,
   "id": "d9dcce20-ed15-4576-9a78-02dc1d9b2de7",
   "metadata": {},
   "outputs": [
    {
     "name": "stdin",
     "output_type": "stream",
     "text": [
      " 456\n"
     ]
    },
    {
     "name": "stdout",
     "output_type": "stream",
     "text": [
      "even\n"
     ]
    }
   ],
   "source": [
    "num = int(input())\n",
    "\n",
    "if num % 2 == 0 :\n",
    "    print('even')\n",
    "else:\n",
    "    print('odd')\n"
   ]
  },
  {
   "cell_type": "code",
   "execution_count": 21,
   "id": "128d22e5-1e74-4b2e-b66f-d97fbef080f1",
   "metadata": {},
   "outputs": [
    {
     "name": "stdin",
     "output_type": "stream",
     "text": [
      " 4\n"
     ]
    },
    {
     "name": "stdout",
     "output_type": "stream",
     "text": [
      "even\n"
     ]
    }
   ],
   "source": [
    "num = int(input())\n",
    "\n",
    "if num % 2:         # T = 1이 나오게 IF문이 참이되게\n",
    "    print('odd')\n",
    "else:\n",
    "    print('even')"
   ]
  },
  {
   "cell_type": "code",
   "execution_count": 24,
   "id": "436544cc-bfff-4100-a032-9f4c8c499769",
   "metadata": {},
   "outputs": [
    {
     "name": "stdin",
     "output_type": "stream",
     "text": [
      "5의 배수를 판단해줌 5\n"
     ]
    },
    {
     "name": "stdout",
     "output_type": "stream",
     "text": [
      "Yes\n"
     ]
    }
   ],
   "source": [
    "num = int(input('5의 배수를 판단해줌'))\n",
    "\n",
    "if num % 5 == 0 :\n",
    "    print('Yes')\n",
    "else:\n",
    "    print('No')"
   ]
  },
  {
   "cell_type": "code",
   "execution_count": 25,
   "id": "0c2334d8-3b58-4ba9-852e-ffc934d263cd",
   "metadata": {},
   "outputs": [
    {
     "name": "stdin",
     "output_type": "stream",
     "text": [
      " 4\n"
     ]
    },
    {
     "name": "stdout",
     "output_type": "stream",
     "text": [
      "No\n"
     ]
    }
   ],
   "source": [
    "num = int(input())\n",
    "\n",
    "if num % 5:\n",
    "    print('No') # 5의 배수가 아니면 나머지가 0이 아닌 숫자들 -> true\n",
    "else:\n",
    "    print('Yes') # 5의 배수이면 나머지가 0 -> false"
   ]
  },
  {
   "cell_type": "code",
   "execution_count": 27,
   "id": "cd634ac7-a7a9-480f-b699-0ef129643bd8",
   "metadata": {},
   "outputs": [
    {
     "name": "stdin",
     "output_type": "stream",
     "text": [
      " 4\n"
     ]
    },
    {
     "name": "stdout",
     "output_type": "stream",
     "text": [
      "No\n"
     ]
    }
   ],
   "source": [
    "num = int(input())\n",
    "\n",
    "if num % 5:\n",
    "    print('No') # 5의 배수가 아니면 나머지가 0이 아닌 숫자들 -> true\n",
    "else:\n",
    "    print('Yes') # 5의 배수이면 나머지가 0 -> false"
   ]
  },
  {
   "cell_type": "markdown",
   "id": "4138799c-a0f2-4b37-8cba-2932e123307f",
   "metadata": {},
   "source": [
    "### elif (else + if)\n",
    "\n",
    "```\n",
    "if <조건식>:\n",
    "    참인경우\n",
    "elif<조건식>:\n",
    "    elif문이 참인경우\n",
    "else:\n",
    "    위의 모든 조건식이 거짓인경우\n",
    "```"
   ]
  },
  {
   "cell_type": "code",
   "execution_count": 35,
   "id": "5283e735-e781-4888-addf-553416520a42",
   "metadata": {},
   "outputs": [
    {
     "name": "stdin",
     "output_type": "stream",
     "text": [
      "점수를 입력해주세요 95\n"
     ]
    },
    {
     "name": "stdout",
     "output_type": "stream",
     "text": [
      "A\n",
      "good!\n"
     ]
    }
   ],
   "source": [
    "score = int(input('점수를 입력해주세요'))\n",
    "\n",
    "if score >= 90 :\n",
    "   print('A')\n",
    "   if score >= 95 :\n",
    "       print('good!')\n",
    "elif score >= 80:\n",
    "    print('B')\n",
    "elif score >= 70:\n",
    "    print('C')\n",
    "else:\n",
    "    print('F')"
   ]
  },
  {
   "cell_type": "markdown",
   "id": "fca8cc90-e39b-4ae6-8d60-143e1eebfbb3",
   "metadata": {},
   "source": [
    "### 조건표현식\n",
    "-'true_value if <조건식> else false_value'\n"
   ]
  },
  {
   "cell_type": "code",
   "execution_count": 55,
   "id": "4814bf3d-362c-4da4-9cd6-2f05df23fe9c",
   "metadata": {},
   "outputs": [
    {
     "name": "stdout",
     "output_type": "stream",
     "text": [
      "100\n"
     ]
    }
   ],
   "source": [
    "a = 0\n",
    "if True:\n",
    "    a = 100\n",
    "else:\n",
    "    a = -100\n",
    "print(a)"
   ]
  },
  {
   "cell_type": "code",
   "execution_count": 46,
   "id": "a48effd8-f689-4d19-bb6e-30e52ee5fff6",
   "metadata": {},
   "outputs": [
    {
     "name": "stdout",
     "output_type": "stream",
     "text": [
      "100\n"
     ]
    }
   ],
   "source": [
    "a = 100 if True else -100\n",
    "print(a)"
   ]
  },
  {
   "cell_type": "code",
   "execution_count": 51,
   "id": "dda32551-c5ae-4376-9f02-339ea62b6d9d",
   "metadata": {},
   "outputs": [
    {
     "name": "stdin",
     "output_type": "stream",
     "text": [
      " 0\n"
     ]
    },
    {
     "name": "stdout",
     "output_type": "stream",
     "text": [
      "0\n"
     ]
    }
   ],
   "source": [
    "num = int(input())\n",
    "\n",
    "\n",
    "\n",
    "if num >= 0:\n",
    "    result = num\n",
    "else:\n",
    "    result = 0\n",
    "print(result)"
   ]
  },
  {
   "cell_type": "code",
   "execution_count": 65,
   "id": "351b85b7-f9b1-4059-a813-d2c7c3e57435",
   "metadata": {},
   "outputs": [
    {
     "name": "stdin",
     "output_type": "stream",
     "text": [
      " 4\n"
     ]
    },
    {
     "name": "stdout",
     "output_type": "stream",
     "text": [
      "4\n"
     ]
    }
   ],
   "source": [
    "num = int(input())\n",
    "\n",
    "result = num if num >= 0  else 0\n",
    "print(result)"
   ]
  },
  {
   "cell_type": "code",
   "execution_count": 60,
   "id": "28a4724a-039a-4710-8428-731b9240db3d",
   "metadata": {},
   "outputs": [
    {
     "name": "stdout",
     "output_type": "stream",
     "text": [
      "짝수\n"
     ]
    }
   ],
   "source": [
    "num = 10\n",
    "result = '홀수' if num % 2 else '짝수'\n",
    "print(result)"
   ]
  },
  {
   "cell_type": "code",
   "execution_count": 67,
   "id": "09c7056d-0bbd-428e-842d-b25629e98bc2",
   "metadata": {},
   "outputs": [
    {
     "name": "stdout",
     "output_type": "stream",
     "text": [
      "짝수\n"
     ]
    }
   ],
   "source": [
    "num = 10\n",
    "\n",
    "if num % 2:          # 0이 아닌 숫자들 (T)\n",
    "     result = '홀수'\n",
    "else:                \n",
    "    result = '짝수'\n",
    "print(result)"
   ]
  },
  {
   "cell_type": "markdown",
   "id": "d8cc4255-23f8-45e9-ba93-e80f3c7acf6a",
   "metadata": {},
   "source": [
    "# 반복문"
   ]
  },
  {
   "cell_type": "markdown",
   "id": "b8150c73-2140-44e6-aa78-a8e91d75e670",
   "metadata": {},
   "source": [
    "### while문\n",
    "```\n",
    "while<조건식>:   # 이 조건식이 참인 경우에 반복이 되고 거짓인 경우엔 종료가 된다\n",
    "    실행할 코드\n",
    "```"
   ]
  },
  {
   "cell_type": "code",
   "execution_count": 135,
   "id": "279ce655-1f8c-4123-a7b5-c189dd454bb6",
   "metadata": {},
   "outputs": [
    {
     "name": "stdout",
     "output_type": "stream",
     "text": [
      "1\n",
      "2\n",
      "3\n",
      "4\n"
     ]
    }
   ],
   "source": [
    "a = 1\n",
    "\n",
    "while a < 5:\n",
    "    print(a)\n",
    "    a += 1 # 만 이,걸 설정하지 않으면 무한루프됨\n",
    "    "
   ]
  },
  {
   "cell_type": "markdown",
   "id": "2c09983d-1c9e-4037-8f9a-9a057e1b5143",
   "metadata": {},
   "source": [
    "### for 문\n",
    "- 정해진 범위 내의 반복\n",
    "```\n",
    "for var_name in sequence:   \n",
    "    code\n",
    "```"
   ]
  },
  {
   "cell_type": "code",
   "execution_count": 73,
   "id": "1fb2d644-a27a-47b6-9d90-23ccb307ad1d",
   "metadata": {},
   "outputs": [
    {
     "name": "stdout",
     "output_type": "stream",
     "text": [
      "1\n",
      "2\n",
      "3\n",
      "4\n",
      "5\n"
     ]
    }
   ],
   "source": [
    "numbers = [1, 2, 3, 4, 5]\n",
    "\n",
    "for number in numbers:   # number는 numbers의 1~5 각각 하나씩\n",
    "    print(number)\n",
    "    "
   ]
  },
  {
   "cell_type": "code",
   "execution_count": 76,
   "id": "0aade276-e77b-4255-aa3d-95a274aa36e4",
   "metadata": {},
   "outputs": [
    {
     "name": "stdout",
     "output_type": "stream",
     "text": [
      "a\n",
      "p\n",
      "p\n",
      "l\n",
      "e\n"
     ]
    }
   ],
   "source": [
    "word = 'apple'\n",
    "\n",
    "for char in word:\n",
    "    print(char)  # str도 반복"
   ]
  },
  {
   "cell_type": "code",
   "execution_count": 79,
   "id": "95578b1f-631e-436e-bcf9-58ac27c704de",
   "metadata": {},
   "outputs": [
    {
     "name": "stdout",
     "output_type": "stream",
     "text": [
      "0\n",
      "1\n",
      "2\n",
      "3\n",
      "4\n"
     ]
    }
   ],
   "source": [
    "for i in range(5):  # 몇 번 반복하고 싶은지  0~4까지 5번 반복\n",
    "    print(i)"
   ]
  },
  {
   "cell_type": "code",
   "execution_count": 83,
   "id": "e9070a78-f1e2-4fea-a48e-1d263018c196",
   "metadata": {},
   "outputs": [
    {
     "name": "stdout",
     "output_type": "stream",
     "text": [
      "5\n",
      "10\n",
      "15\n",
      "20\n",
      "25\n",
      "30\n",
      "35\n",
      "40\n",
      "45\n",
      "50\n"
     ]
    }
   ],
   "source": [
    "numbers = range(1,51)\n",
    "\n",
    "for number in numbers:\n",
    "    if number % 5 == 0:\n",
    "       print(number)"
   ]
  },
  {
   "cell_type": "code",
   "execution_count": 89,
   "id": "db91d7b1-52ab-4089-8adf-9467df4c527e",
   "metadata": {},
   "outputs": [
    {
     "name": "stdout",
     "output_type": "stream",
     "text": [
      "(0, '서울')\n",
      "(1, '대전')\n",
      "(2, '부산')\n"
     ]
    }
   ],
   "source": [
    "locations = ['서울', '대전', '부산']\n",
    "for location in enumerate(locations): # enumerate : 낱낱히 세다\n",
    "    print(location)"
   ]
  },
  {
   "cell_type": "code",
   "execution_count": 90,
   "id": "b92d4f6e-0577-4513-8afc-3fe8d9402beb",
   "metadata": {},
   "outputs": [
    {
     "name": "stdout",
     "output_type": "stream",
     "text": [
      "0\n",
      "서울\n",
      "1\n",
      "대전\n",
      "2\n",
      "부산\n"
     ]
    }
   ],
   "source": [
    "locations = ['서울', '대전', '부산']\n",
    "for (index, location) in enumerate(locations): # enumerate : 낱낱히 세다\n",
    "    print(index)\n",
    "    print(location)"
   ]
  },
  {
   "cell_type": "markdown",
   "id": "7a12b76c-d1aa-4555-9f35-1f4c75f5b2b7",
   "metadata": {},
   "source": [
    "### dictionary 반복\n",
    "1. for key in dict:\n",
    "2. for key in dict.keys(): # 사실상 1번에서 생략된것을 포함한것, key만 필요할 때\n",
    "3. for value in dict.values(): # value만 필요할 때\n",
    "4. for key, value in dict.items():  # key, value가 다 필요할 때"
   ]
  },
  {
   "cell_type": "code",
   "execution_count": 93,
   "id": "50cbbe23-df13-46ee-ba9c-a22fb99bc1b7",
   "metadata": {},
   "outputs": [],
   "source": [
    "info = {\n",
    "    'name' : 'gildong',\n",
    "    'location' : 'seoul',\n",
    "    'phone' : '010-1234-5678',\n",
    "    'age' : 20,\n",
    "}"
   ]
  },
  {
   "cell_type": "code",
   "execution_count": 97,
   "id": "faa0c275-7bfa-49ff-9df5-e74f2d599dcf",
   "metadata": {},
   "outputs": [
    {
     "name": "stdout",
     "output_type": "stream",
     "text": [
      "name\n",
      "location\n",
      "phone\n",
      "age\n"
     ]
    }
   ],
   "source": [
    "for k in info:   # keys()가 생략됐다고 생각\n",
    "    print(k) "
   ]
  },
  {
   "cell_type": "code",
   "execution_count": 98,
   "id": "1b796349-139d-42a5-8eca-35c85f8ccbf9",
   "metadata": {},
   "outputs": [
    {
     "name": "stdout",
     "output_type": "stream",
     "text": [
      "name\n",
      "gildong\n",
      "location\n",
      "seoul\n",
      "phone\n",
      "010-1234-5678\n",
      "age\n",
      "20\n"
     ]
    }
   ],
   "source": [
    "for k in info.keys():\n",
    "    print(k)\n",
    "    print(info[k])"
   ]
  },
  {
   "cell_type": "code",
   "execution_count": 99,
   "id": "048f8eaa-2d2f-40a9-9bc1-fbc968182a4b",
   "metadata": {},
   "outputs": [
    {
     "name": "stdout",
     "output_type": "stream",
     "text": [
      "gildong\n",
      "seoul\n",
      "010-1234-5678\n",
      "20\n"
     ]
    }
   ],
   "source": [
    "for v in info.values():\n",
    "    print(v)"
   ]
  },
  {
   "cell_type": "code",
   "execution_count": 100,
   "id": "ad957517-2a27-4964-9811-c834f3af474a",
   "metadata": {},
   "outputs": [
    {
     "name": "stdout",
     "output_type": "stream",
     "text": [
      "name gildong\n",
      "location seoul\n",
      "phone 010-1234-5678\n",
      "age 20\n"
     ]
    }
   ],
   "source": [
    "for k, v in info.items():\n",
    "    print(k, v)"
   ]
  },
  {
   "cell_type": "code",
   "execution_count": 111,
   "id": "99d1a4f3-c1ba-4a7f-8a2f-0f7a1cd92017",
   "metadata": {},
   "outputs": [],
   "source": [
    "blood_type = {\n",
    "    'A' : 15,\n",
    "    'B' : 8,\n",
    "    'O' : 5,\n",
    "    'AB' : 4, # 마지막에 ,쓰는 이유는 데이터가 확장 될수있으니깐 ,를 미리 적어놓는것\n",
    "}"
   ]
  },
  {
   "cell_type": "code",
   "execution_count": 104,
   "id": "69684f05-7ac3-44c9-8021-14f079a9df4e",
   "metadata": {},
   "outputs": [
    {
     "name": "stdout",
     "output_type": "stream",
     "text": [
      "혈액형 종류는 다음과 같습니다\n",
      "A\n",
      "B\n",
      "O\n",
      "AB\n"
     ]
    }
   ],
   "source": [
    "# 혈액형의 종류만 말하기\n",
    "print('혈액형 종류는 다음과 같습니다')\n",
    "for k in blood_type:\n",
    "    print(k)"
   ]
  },
  {
   "cell_type": "code",
   "execution_count": 109,
   "id": "03e8f8a0-61d4-4fc6-8fcc-0192d1c14a3f",
   "metadata": {},
   "outputs": [
    {
     "name": "stdout",
     "output_type": "stream",
     "text": [
      "학생 수는 다음과 같습니다\n",
      "32\n"
     ]
    }
   ],
   "source": [
    "# 총 학생은 몇명 입니다\n",
    "print('학생 수는 다음과 같습니다')\n",
    "result = 0\n",
    "for number in blood_type.values(): \n",
    "    result += number\n",
    "print(result)"
   ]
  },
  {
   "cell_type": "code",
   "execution_count": 112,
   "id": "0952b986-010f-4b09-b5fd-6724cfafdaf7",
   "metadata": {},
   "outputs": [
    {
     "name": "stdout",
     "output_type": "stream",
     "text": [
      "A형은 15명입니다.\n",
      "B형은 8명입니다.\n",
      "O형은 5명입니다.\n",
      "AB형은 4명입니다.\n"
     ]
    }
   ],
   "source": [
    "# 둘 다 출력하기\n",
    "for k, v in blood_type.items():\n",
    "    print(f'{k}형은 {v}명입니다.')"
   ]
  },
  {
   "cell_type": "markdown",
   "id": "4204ef4e-d2f2-4aa8-85c9-f3fb68d4a159",
   "metadata": {},
   "source": [
    "### break\n",
    "반복문을 종료 시키는 키워드"
   ]
  },
  {
   "cell_type": "code",
   "execution_count": 115,
   "id": "e25be588-9116-43d2-8d05-94eabfade5c9",
   "metadata": {},
   "outputs": [
    {
     "name": "stdout",
     "output_type": "stream",
     "text": [
      "여기는 for문 0\n",
      "여기는 for문 1\n",
      "여기는 for문 2\n",
      "여기는 for문 3\n",
      "여기는 for문 4\n",
      "여기는 for문 5\n",
      "여기는 for문 6\n",
      "여기는 브레이크\n"
     ]
    }
   ],
   "source": [
    "for i in range(100):\n",
    "    print('여기는 for문', i)\n",
    "    if i > 5:\n",
    "        print('여기는 브레이크')\n",
    "        break"
   ]
  },
  {
   "cell_type": "code",
   "execution_count": 136,
   "id": "96a0a144-978d-47f8-bfd6-0b5f81cf7082",
   "metadata": {},
   "outputs": [
    {
     "name": "stdin",
     "output_type": "stream",
     "text": [
      " 보리\n",
      " 사과\n",
      " 딸기\n",
      " 쌀\n"
     ]
    },
    {
     "name": "stdout",
     "output_type": "stream",
     "text": [
      "잡았당\n"
     ]
    }
   ],
   "source": [
    "while True: # 쌀이 나오면 종료 쌀이 나오지 않으면 반복\n",
    "    rice = input()\n",
    "    if rice == '쌀':\n",
    "        print('잡았당')\n",
    "        break"
   ]
  },
  {
   "cell_type": "markdown",
   "id": "1fd37fe5-aa86-48bd-a0fe-1a0fb7b4ee15",
   "metadata": {},
   "source": [
    "### continue\n",
    "\n",
    "continue 이후의 코드를 실행하지 않고 다음 반복을 진행"
   ]
  },
  {
   "cell_type": "code",
   "execution_count": 123,
   "id": "118652a9-ed8a-4306-a854-ae693eadcfa0",
   "metadata": {},
   "outputs": [
    {
     "name": "stdout",
     "output_type": "stream",
     "text": [
      "0\n",
      "2\n",
      "4\n",
      "6\n",
      "8\n",
      "10\n",
      "12\n",
      "14\n",
      "16\n",
      "18\n"
     ]
    }
   ],
   "source": [
    "for i in range(20):\n",
    "    if i % 2 == 1:\n",
    "        continue  ## 만약 홀수라면 홀수 다음의 반복을 진행, 특정상황에서 스킵하고싶은 애들을 넘어갈 때\n",
    "    print(i)"
   ]
  },
  {
   "cell_type": "code",
   "execution_count": 126,
   "id": "11582179-2eb2-4b7b-90ac-f25ef74a69a2",
   "metadata": {},
   "outputs": [
    {
     "name": "stdout",
     "output_type": "stream",
     "text": [
      "20살은 성인입니다.\n",
      "23살은 성인입니다.\n",
      "43살은 성인입니다.\n",
      "20살은 성인입니다.\n"
     ]
    }
   ],
   "source": [
    "ages = [10, 20, 3 ,23, 43, 9, 20]\n",
    "for age in ages:\n",
    "    if age < 20 :\n",
    "        continue\n",
    "    print(f'{age}살은 성인입니다.')"
   ]
  },
  {
   "cell_type": "markdown",
   "id": "313a9b3f-aa5f-4e4a-b995-ac78fff66a39",
   "metadata": {},
   "source": [
    "### else\n",
    "else 문은 끝까지 반복된 경우 실행. (break)를 만나지 않은 경우 실행"
   ]
  },
  {
   "cell_type": "code",
   "execution_count": 131,
   "id": "3ae76fe4-e8e1-427e-af8d-a2ed0d09cd8c",
   "metadata": {},
   "outputs": [
    {
     "name": "stdout",
     "output_type": "stream",
     "text": [
      "0\n",
      "1\n",
      "2\n",
      "3\n",
      "4\n",
      "5\n",
      "6\n",
      "7\n",
      "8\n",
      "9\n",
      "모두완료요\n"
     ]
    }
   ],
   "source": [
    "for i  in range(10):\n",
    "    if i > 100:\n",
    "        break\n",
    "    print(i)\n",
    "else:\n",
    "    print('모두완료요')  ## 만약 i>5이면 break가 실행돼서 모두완료요가 안나온다. 하지만 i>100이면 break를 만날 수가 없어 모두완료요가 나오게 됨"
   ]
  },
  {
   "cell_type": "code",
   "execution_count": null,
   "id": "ea94625e-0281-44f6-a06e-14ba67e11350",
   "metadata": {},
   "outputs": [],
   "source": []
  }
 ],
 "metadata": {
  "kernelspec": {
   "display_name": "Python 3 (ipykernel)",
   "language": "python",
   "name": "python3"
  },
  "language_info": {
   "codemirror_mode": {
    "name": "ipython",
    "version": 3
   },
   "file_extension": ".py",
   "mimetype": "text/x-python",
   "name": "python",
   "nbconvert_exporter": "python",
   "pygments_lexer": "ipython3",
   "version": "3.13.2"
  }
 },
 "nbformat": 4,
 "nbformat_minor": 5
}
