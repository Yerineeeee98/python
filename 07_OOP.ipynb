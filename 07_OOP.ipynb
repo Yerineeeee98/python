{
 "cells": [
  {
   "cell_type": "markdown",
   "id": "a4c12c42-979f-4ad7-ae45-aa91b6c58a02",
   "metadata": {},
   "source": [
    "# 객체지향 프로그래밍(OOP)\n",
    "\n",
    "- 클래스(class) : 같은 종류의 집단에 속하는 '속성'과 '행동'을 '정의'힌 것\n",
    "- 속성(attribute) : 클래스/인스턴스가 가지고 있는 데이터/값\n",
    "- 행동(method) : 클래스/인스턴스가 가지고 있는 함수/기능\n",
    "- 인스턴스(instance) : 클래스를 실제로 메모리상에 할당한 것"
   ]
  },
  {
   "cell_type": "code",
   "execution_count": 12,
   "id": "579609e2-c6e1-4578-bae7-448b87e584a2",
   "metadata": {},
   "outputs": [],
   "source": [
    "number = 1 + 2j # 복소수"
   ]
  },
  {
   "cell_type": "code",
   "execution_count": 13,
   "id": "7933225f-4d04-4117-ba18-3737cbd55104",
   "metadata": {},
   "outputs": [
    {
     "name": "stdout",
     "output_type": "stream",
     "text": [
      "<class 'complex'>\n"
     ]
    }
   ],
   "source": [
    "print(type(number))"
   ]
  },
  {
   "cell_type": "code",
   "execution_count": 16,
   "id": "24a68457-5271-4e4f-b0c6-b21116b8e6f7",
   "metadata": {},
   "outputs": [
    {
     "name": "stdout",
     "output_type": "stream",
     "text": [
      "1.0\n",
      "2.0\n"
     ]
    }
   ],
   "source": [
    "print(number.real) # 실수에 있는 데이터\n",
    "print(number.imag) # 허수에 있는 데이터"
   ]
  },
  {
   "cell_type": "code",
   "execution_count": 1,
   "id": "7ad054b3-3d73-45fc-baf2-de26ac31b901",
   "metadata": {},
   "outputs": [],
   "source": [
    "numbers = [1, 2, 3]"
   ]
  },
  {
   "cell_type": "code",
   "execution_count": 2,
   "id": "88eea6a7-6339-475f-a391-ebc16bb2f6c0",
   "metadata": {},
   "outputs": [
    {
     "name": "stdout",
     "output_type": "stream",
     "text": [
      "<class 'list'>\n"
     ]
    }
   ],
   "source": [
    "print(type(numbers))"
   ]
  },
  {
   "cell_type": "code",
   "execution_count": 3,
   "id": "561a26ff-07b0-476e-9f19-5b295319cbbc",
   "metadata": {},
   "outputs": [
    {
     "name": "stdout",
     "output_type": "stream",
     "text": [
      "[3, 2, 1]\n"
     ]
    }
   ],
   "source": [
    "numbers.reverse() # 위에있는 .real등은 데이터값이라서 () 를 쓰지 않았지만 revers는 ()를 씀\n",
    "print(numbers)"
   ]
  },
  {
   "cell_type": "code",
   "execution_count": 29,
   "id": "1460968d-add1-464d-b21c-8d683b1f8689",
   "metadata": {},
   "outputs": [
    {
     "name": "stdout",
     "output_type": "stream",
     "text": [
      "010-1234-1234가 010-1111-1111에게 전화 거는중\n"
     ]
    }
   ],
   "source": [
    "number = '010-1234-1234'\n",
    "power = True\n",
    "phone_book = {\n",
    "    'kim': '010-1111-1111',\n",
    "    'park': '010-2222-2222', \n",
    "}\n",
    "def call(from_num, to_num):\n",
    "    print(f'{from_num}가 {to_num}에게 전화 거는중')\n",
    "\n",
    "call(number, phone_book['kim'])"
   ]
  },
  {
   "cell_type": "code",
   "execution_count": 32,
   "id": "42b406d2-ebb7-4290-8008-52c98129a9d9",
   "metadata": {},
   "outputs": [
    {
     "name": "stdout",
     "output_type": "stream",
     "text": [
      "010-4564-1234가 010-1111-1111에게 전화 거는중\n"
     ]
    }
   ],
   "source": [
    "# 다른 번호를 쓰려면 모든걸 다른변수로 바꿔야 하는 변거로움이 발생함\n",
    "number_2 = '010-4564-1234'\n",
    "power_2 = True\n",
    "phone_book_2 = {\n",
    "    'kim': '010-1111-1111',\n",
    "    'park': '010-2222-2222', \n",
    "}\n",
    "def call(from_num, to_num):\n",
    "    print(f'{from_num}가 {to_num}에게 전화 거는중')\n",
    "\n",
    "call(number_2, phone_book_2['kim'])"
   ]
  },
  {
   "cell_type": "markdown",
   "id": "ab63711b-e964-47be-88ad-0b16cfa54ef1",
   "metadata": {},
   "source": [
    "## class\n",
    "    \n",
    "-클래스 선언/정의\n",
    "```python\n",
    "class ClassName():\n",
    "    attribute1 = value1\n",
    "    attribute2 = value2\n",
    "    ...\n",
    "\n",
    "    def method_name1(self):\n",
    "        code\n",
    "    def method_name2(self):\n",
    "        code\n",
    "        ...\n",
    "\n",
    "        \n",
    "```\n",
    "- 인스턴스화(클래스 실행)    \n",
    "```python\n",
    "\n",
    "c = ClassName()\n",
    "\n",
    "```\n"
   ]
  },
  {
   "cell_type": "code",
   "execution_count": 34,
   "id": "ba9db52c-4bd2-4753-97ec-fb4b7ca1c227",
   "metadata": {},
   "outputs": [],
   "source": [
    "# 선언\n",
    "class MyClass():\n",
    "    name = 'kim'\n",
    "\n",
    "    def hello(self):\n",
    "        return 'hihihi'\n",
    "        "
   ]
  },
  {
   "cell_type": "code",
   "execution_count": 37,
   "id": "4cf3c8e8-8f97-40a6-aa5f-d5443e38f7ef",
   "metadata": {},
   "outputs": [],
   "source": [
    "# 인스턴스화\n",
    "m = MyClass()"
   ]
  },
  {
   "cell_type": "code",
   "execution_count": 41,
   "id": "8dd80c96-7494-4509-91f0-31b9c5bec3ab",
   "metadata": {},
   "outputs": [
    {
     "name": "stdout",
     "output_type": "stream",
     "text": [
      "<__main__.MyClass object at 0x000001FD057C7C50>\n",
      "<class '__main__.MyClass'>\n"
     ]
    }
   ],
   "source": [
    "print(m)\n",
    "print(type(m))"
   ]
  },
  {
   "cell_type": "code",
   "execution_count": 44,
   "id": "7590d05d-45d4-4ccf-9805-62b2a962c075",
   "metadata": {},
   "outputs": [
    {
     "name": "stdout",
     "output_type": "stream",
     "text": [
      "kim\n",
      "hihihi\n"
     ]
    }
   ],
   "source": [
    "print(m.name)\n",
    "print(m.hello())"
   ]
  },
  {
   "cell_type": "code",
   "execution_count": 47,
   "id": "169a9d3f-7b0e-4d7a-834c-0bbf88953de3",
   "metadata": {},
   "outputs": [
    {
     "name": "stdout",
     "output_type": "stream",
     "text": [
      "kim\n",
      "hihihi\n"
     ]
    }
   ],
   "source": [
    "# m1과 m2는 독립적임\n",
    "m2 = MyClass()\n",
    "print(m2.name)\n",
    "print(m2.hello())"
   ]
  },
  {
   "cell_type": "code",
   "execution_count": 49,
   "id": "02dffbdf-f18e-4c19-aae0-92e6ff6210ae",
   "metadata": {},
   "outputs": [
    {
     "name": "stdout",
     "output_type": "stream",
     "text": [
      "kim\n",
      "park\n"
     ]
    }
   ],
   "source": [
    "m2.name = 'park'\n",
    "\n",
    "print(m.name)\n",
    "print(m2.name)"
   ]
  },
  {
   "cell_type": "code",
   "execution_count": 4,
   "id": "fc5a598e-b0fd-4d79-bb3a-b6c2220f5f87",
   "metadata": {},
   "outputs": [],
   "source": [
    "class Phone():\n",
    "    power = False\n",
    "    number = '010-0000-0000'\n",
    "    book = {}\n",
    "    model = ''\n",
    "\n",
    "    def on(self):\n",
    "        if self.power == False:\n",
    "            self.power = True\n",
    "    def off(self):\n",
    "        if self.power == True:\n",
    "            self.power = False\n",
    "            \n",
    "    def call(self, target): # self는 인스턴스 자기자신을 의미\n",
    "        if self.power == True:\n",
    "            print(f'{self.number}가 {target.number}한테 전화거는중')\n",
    "        else:\n",
    "            print('핸드폰이 꺼져있습니다')\n",
    "        "
   ]
  },
  {
   "cell_type": "code",
   "execution_count": 5,
   "id": "b7009573-e62e-4467-b9ef-69620a57df35",
   "metadata": {},
   "outputs": [],
   "source": [
    "my_phone = Phone()\n",
    "your_phone = Phone()"
   ]
  },
  {
   "cell_type": "code",
   "execution_count": 6,
   "id": "e2807dde-35e0-46df-a7f1-ea9b09b94c3e",
   "metadata": {},
   "outputs": [
    {
     "data": {
      "text/plain": [
       "'010-0000-0000'"
      ]
     },
     "execution_count": 6,
     "metadata": {},
     "output_type": "execute_result"
    }
   ],
   "source": [
    "my_phone.number"
   ]
  },
  {
   "cell_type": "code",
   "execution_count": 7,
   "id": "f6855e86-f230-4ce5-8e03-1cf2c0408ea3",
   "metadata": {},
   "outputs": [
    {
     "data": {
      "text/plain": [
       "'010-0000-0000'"
      ]
     },
     "execution_count": 7,
     "metadata": {},
     "output_type": "execute_result"
    }
   ],
   "source": [
    "your_phone.number # 초기상태로 가져온것"
   ]
  },
  {
   "cell_type": "code",
   "execution_count": 8,
   "id": "0b6df6a8-e12c-499e-8681-fe7a699c588b",
   "metadata": {},
   "outputs": [
    {
     "name": "stdout",
     "output_type": "stream",
     "text": [
      "010-1234-1234\n"
     ]
    }
   ],
   "source": [
    "my_phone.number = '010-1234-1234'\n",
    "print(my_phone.number)"
   ]
  },
  {
   "cell_type": "code",
   "execution_count": 9,
   "id": "7d0a762b-fed8-4829-b49d-0ed5f5cd212f",
   "metadata": {},
   "outputs": [
    {
     "data": {
      "text/plain": [
       "False"
      ]
     },
     "execution_count": 9,
     "metadata": {},
     "output_type": "execute_result"
    }
   ],
   "source": [
    "my_phone.power"
   ]
  },
  {
   "cell_type": "code",
   "execution_count": 10,
   "id": "7c350c7d-bb62-4402-91da-84e46ca5d0c0",
   "metadata": {},
   "outputs": [],
   "source": [
    "my_phone.on() # 인스턴스화"
   ]
  },
  {
   "cell_type": "code",
   "execution_count": 11,
   "id": "9b876392-2ed3-4754-9a0e-ce84f91dfc18",
   "metadata": {},
   "outputs": [
    {
     "data": {
      "text/plain": [
       "True"
      ]
     },
     "execution_count": 11,
     "metadata": {},
     "output_type": "execute_result"
    }
   ],
   "source": [
    "my_phone.power"
   ]
  },
  {
   "cell_type": "code",
   "execution_count": 160,
   "id": "19e6a1d8-4a79-4233-8cef-4f272d27e225",
   "metadata": {},
   "outputs": [
    {
     "data": {
      "text/plain": [
       "False"
      ]
     },
     "execution_count": 160,
     "metadata": {},
     "output_type": "execute_result"
    }
   ],
   "source": [
    "your_phone.power"
   ]
  },
  {
   "cell_type": "code",
   "execution_count": 161,
   "id": "dbcf8a45-6667-47d6-8590-c93e912cbcb3",
   "metadata": {},
   "outputs": [
    {
     "name": "stdout",
     "output_type": "stream",
     "text": [
      "010-1234-1234가 010-0000-0000한테 전화거는중\n"
     ]
    }
   ],
   "source": [
    "my_phone.call(your_phone)"
   ]
  },
  {
   "cell_type": "code",
   "execution_count": 162,
   "id": "3f1c0bc0-72e1-4201-b17f-5cb7232c5573",
   "metadata": {},
   "outputs": [
    {
     "name": "stdout",
     "output_type": "stream",
     "text": [
      "핸드폰이 꺼져있습니다\n"
     ]
    }
   ],
   "source": [
    "your_phone.call(my_phone)"
   ]
  },
  {
   "cell_type": "code",
   "execution_count": 130,
   "id": "57385b71-a1e4-4ac1-a338-54c2ec52383e",
   "metadata": {},
   "outputs": [],
   "source": [
    "class Person():\n",
    "    name = ''\n",
    "    gender = ''\n",
    "    age = 0\n",
    "    height = 0\n",
    "\n",
    "    def greeting(self):\n",
    "        print(f'안녕하세요 나는 {self.name}입니다.')\n",
    "\n",
    "    def grow(self):\n",
    "        self.age += 1\n"
   ]
  },
  {
   "cell_type": "code",
   "execution_count": 163,
   "id": "cd9d54a0-8053-4bdb-91e8-ccfd5380e9d8",
   "metadata": {},
   "outputs": [],
   "source": [
    "p1 =Person()\n",
    "p2 = Person()"
   ]
  },
  {
   "cell_type": "code",
   "execution_count": 146,
   "id": "d6d4c33a-d323-4289-900f-e4da90a9aba6",
   "metadata": {},
   "outputs": [
    {
     "name": "stdout",
     "output_type": "stream",
     "text": [
      " \n"
     ]
    }
   ],
   "source": [
    "print(p1.name, p2.name)"
   ]
  },
  {
   "cell_type": "code",
   "execution_count": 148,
   "id": "9bcb412a-3bea-4438-9a5d-a978a0318d92",
   "metadata": {},
   "outputs": [],
   "source": [
    "p1.name = 'hong'\n",
    "p2.name = 'kim'\n",
    "\n",
    "p1.gender = 'F'\n",
    "p2.gender = 'M'\n",
    "\n",
    "p1.age = 20\n",
    "p2.age = 30\n",
    "\n",
    "p1.height = 170\n",
    "p2.height = 180"
   ]
  },
  {
   "cell_type": "code",
   "execution_count": 150,
   "id": "2825da02-9a36-4a6e-8b74-2bbbedc542c4",
   "metadata": {},
   "outputs": [
    {
     "name": "stdout",
     "output_type": "stream",
     "text": [
      "안녕하세요 나는 hong입니다.\n",
      "안녕하세요 나는 kim입니다.\n"
     ]
    }
   ],
   "source": [
    "p1.greeting()\n",
    "p2.greeting()"
   ]
  },
  {
   "cell_type": "code",
   "execution_count": 151,
   "id": "97b1292b-6bdc-47be-a46a-6dff1d0092c5",
   "metadata": {},
   "outputs": [
    {
     "name": "stdout",
     "output_type": "stream",
     "text": [
      "안녕하세요 나는 hong입니다.\n",
      "안녕하세요 나는 hong입니다.\n"
     ]
    }
   ],
   "source": [
    "Person.greeting(p1) # self = p1 \n",
    "p1.greeting() # 앞에 p1이 있기 때문에 p1이 기본값으로 설정돼있음"
   ]
  },
  {
   "cell_type": "markdown",
   "id": "fc4db8b4-b5f8-420c-b73f-6db5e9f83860",
   "metadata": {},
   "source": [
    "## 생성자, 소멸자\n",
    "\n",
    "```python\n",
    "class Myclass():\n",
    "\n",
    "    def __init__(self):\n",
    "        pass\n",
    "    \n",
    "    def __del___(self):\n",
    "        pass\n",
    "```\n",
    "        "
   ]
  },
  {
   "cell_type": "code",
   "execution_count": 193,
   "id": "1e3ca6df-fde4-47db-85ea-c60f2b8852ef",
   "metadata": {},
   "outputs": [],
   "source": [
    "class Person():\n",
    "    name = ''\n",
    "\n",
    "    def __init__(self, name): # 생성자\n",
    "        self.name = name # 위에 init에 들어있는 name과 name은 같고 self.name이랑은 다름\n",
    "        print('생성됨')\n",
    "\n",
    "    def __del__(self):\n",
    "        print('소멸됨')"
   ]
  },
  {
   "cell_type": "code",
   "execution_count": 223,
   "id": "4348e8d2-b2ce-4ce1-adc1-800560d8809d",
   "metadata": {},
   "outputs": [
    {
     "name": "stdout",
     "output_type": "stream",
     "text": [
      "생성됨\n",
      "생성됨\n"
     ]
    }
   ],
   "source": [
    "p1 = Person('kim')\n",
    "p2 = Person('Park')\n",
    "#  Person.__init__() missing 1 required positional argument: 'name' > Person.__init__(p1, ????) ???라는 공간에 값이 빠져있어서 생긴 오류\n",
    "\n"
   ]
  },
  {
   "cell_type": "code",
   "execution_count": 224,
   "id": "437a5025-7117-4ac5-8b43-5711df69cfd0",
   "metadata": {},
   "outputs": [],
   "source": [
    " # p1 = Person('kim') # Person.__init__(p1, 'kim') # 생성됨 나옴"
   ]
  },
  {
   "cell_type": "code",
   "execution_count": 225,
   "id": "70ac81c9-409e-4f7f-88b1-a8b7c93018ec",
   "metadata": {
    "scrolled": true
   },
   "outputs": [
    {
     "name": "stdout",
     "output_type": "stream",
     "text": [
      "소멸됨\n"
     ]
    }
   ],
   "source": [
    " del p1 # 원래 소멸됨 나옴"
   ]
  },
  {
   "cell_type": "code",
   "execution_count": 226,
   "id": "7cdfa6f2-c9f5-4603-b30f-99fc5770d2de",
   "metadata": {},
   "outputs": [
    {
     "name": "stdout",
     "output_type": "stream",
     "text": [
      "소멸됨\n"
     ]
    }
   ],
   "source": [
    "del p2"
   ]
  },
  {
   "cell_type": "code",
   "execution_count": 12,
   "id": "ad0f4f83-4c7a-430e-a0a2-0659f3b33fa0",
   "metadata": {},
   "outputs": [],
   "source": [
    "class Circle():\n",
    "    pi = 3.14\n",
    "    \n",
    "    def __init__(self, r, x = 0, y = 0):\n",
    "        self.r = r\n",
    "        self.x = x\n",
    "        self.y = y\n",
    "\n",
    "    def info(self):\n",
    "\n",
    "        print(f'반지름:{self.r} ,중심점: {self.x}, {self.y} ') # 자기자신이 갖고있는 데이터는 항상 self.x 이런식으로 작성해야함\n",
    "\n",
    "    def area(self):\n",
    "        return self.r ** 2 * self.pi # instance 내에서 pi를 먼저 찾고 없으면 위로 올라가서 찾음\n",
    "\n",
    "    def round(self):\n",
    "        return self.r * self.pi * 2\n",
    "\n",
    "    def move(self, x, y):\n",
    "        self.x = x\n",
    "        self.y = y\n",
    "        "
   ]
  },
  {
   "cell_type": "code",
   "execution_count": 13,
   "id": "7b11d2b4-c1cf-4f79-8cd6-599c299ab2e1",
   "metadata": {},
   "outputs": [],
   "source": [
    "c1 = Circle(5) # init 함수에 들어갈 변수 세가지 x, y, r을 입력해야함\n",
    "c2 = Circle(3, 1, 1)"
   ]
  },
  {
   "cell_type": "code",
   "execution_count": 14,
   "id": "41b5c1ec-d931-4d19-81fe-d70cdbf3b7eb",
   "metadata": {},
   "outputs": [
    {
     "name": "stdout",
     "output_type": "stream",
     "text": [
      "반지름:5 ,중심점: 0, 0 \n",
      "반지름:3 ,중심점: 1, 1 \n"
     ]
    }
   ],
   "source": [
    "c1.info() # 위에서 x = 0 y = 0으로 사용자가 입력값을 주지않으면 고정값 0, 0가 나오게 설정함\n",
    "c2.info()"
   ]
  },
  {
   "cell_type": "code",
   "execution_count": 265,
   "id": "efbb86de-35ea-4120-b30c-063c78ac7b5d",
   "metadata": {},
   "outputs": [
    {
     "name": "stdout",
     "output_type": "stream",
     "text": [
      "78.5\n",
      "28.26\n"
     ]
    }
   ],
   "source": [
    "print(c1.area())\n",
    "print(c2.area())"
   ]
  },
  {
   "cell_type": "code",
   "execution_count": 266,
   "id": "b96e2db1-29c3-4fbc-b9e9-863bd2e57a52",
   "metadata": {},
   "outputs": [
    {
     "name": "stdout",
     "output_type": "stream",
     "text": [
      "31.400000000000002\n",
      "18.84\n"
     ]
    }
   ],
   "source": [
    "print(c1.round())\n",
    "print(c2.round())"
   ]
  },
  {
   "cell_type": "code",
   "execution_count": 268,
   "id": "069482e7-4a07-46f4-b098-9ffccb01b646",
   "metadata": {},
   "outputs": [
    {
     "name": "stdout",
     "output_type": "stream",
     "text": [
      "반지름:5 ,중심점: 100, 100 \n"
     ]
    }
   ],
   "source": [
    "c1.move(100,100)\n",
    "c1.info()"
   ]
  },
  {
   "cell_type": "code",
   "execution_count": 272,
   "id": "52535ad9-35bd-49ba-b016-f751fa76796c",
   "metadata": {},
   "outputs": [],
   "source": [
    "class Point():\n",
    "    def __init__(self, x, y):\n",
    "        self.x = x\n",
    "        self.y = y\n",
    "    def info(self):\n",
    "        print(f'{self.x}, {self.y}')"
   ]
  },
  {
   "cell_type": "code",
   "execution_count": 275,
   "id": "f08d0542-3c78-4a1c-a308-5b62c1cbe845",
   "metadata": {},
   "outputs": [],
   "source": [
    "p1 = Point(1, 1)\n",
    "p2 = Point(2, 3)"
   ]
  },
  {
   "cell_type": "code",
   "execution_count": 277,
   "id": "54eb1f69-df79-49b0-944b-5cc3e0586381",
   "metadata": {},
   "outputs": [
    {
     "name": "stdout",
     "output_type": "stream",
     "text": [
      "1, 1\n",
      "2, 3\n"
     ]
    }
   ],
   "source": [
    "p1.info()\n",
    "p2.info()"
   ]
  },
  {
   "cell_type": "code",
   "execution_count": 282,
   "id": "0ecd0332-fc93-4e42-a65a-117a51d1af89",
   "metadata": {},
   "outputs": [],
   "source": [
    "class Circle():\n",
    "    def __init__(self, r, point):\n",
    "        self.r = r\n",
    "        self.point = point # 위에있는 point\n",
    "\n",
    "    def info(self):\n",
    "        # point = self.point\n",
    "        # x = point.x\n",
    "        # y = point.y\n",
    "        # 이렇게 정의하면 중심점에 {x}, {y}만 적어도 됨\n",
    "        \n",
    "        print(f'반지름: {self.r} 중심점: {self.point.x}, {self.point.y}') # point에 들어있는 x값, # point에 들어있는 y값"
   ]
  },
  {
   "cell_type": "code",
   "execution_count": 279,
   "id": "676df78a-9f15-4d3c-b09f-21602025a790",
   "metadata": {},
   "outputs": [],
   "source": [
    "c1 = Circle(10, p1)\n",
    "c2 = Circle(5, p2)"
   ]
  },
  {
   "cell_type": "markdown",
   "id": "1f8b4b9f-0c4e-4e0e-9d7c-0a2f127a49dc",
   "metadata": {},
   "source": [
    "### 클래스 변수 /  인스턴스 변수\n",
    "\n",
    "- 클래스 변수 : 클래스 선언 블록 최상단에 위치\n",
    "- 인스턴스 변수 : 인스턴스 내부에서 생성한 변수\n",
    "\n",
    "```python\n",
    "class MyClass():\n",
    "    class_variable = '클래스변수'\n",
    "\n",
    "    def __init__(self):\n",
    "        self.instance_variable = '인스턴스변수'"
   ]
  },
  {
   "cell_type": "code",
   "execution_count": 285,
   "id": "0f4b11c3-b4ed-447b-9f32-b2538ce268ec",
   "metadata": {},
   "outputs": [],
   "source": [
    "class Person():\n",
    "    name = 'hong'\n",
    "    age = 10\n",
    "\n",
    "    def __init__(self, name):\n",
    "        self.name = name"
   ]
  },
  {
   "cell_type": "code",
   "execution_count": 286,
   "id": "5c185f84-5a48-4884-931b-4b47c1c40231",
   "metadata": {},
   "outputs": [
    {
     "name": "stdout",
     "output_type": "stream",
     "text": [
      "oh\n",
      "10\n"
     ]
    }
   ],
   "source": [
    "p1 = Person('oh')\n",
    "print(p1.name)\n",
    "print(p1.age)"
   ]
  },
  {
   "cell_type": "code",
   "execution_count": null,
   "id": "455c6648-056f-4514-9f92-aac3bf2fb995",
   "metadata": {},
   "outputs": [],
   "source": []
  },
  {
   "cell_type": "code",
   "execution_count": null,
   "id": "5dbb9b46-27f4-42e5-97bc-2924658b9690",
   "metadata": {},
   "outputs": [],
   "source": []
  },
  {
   "cell_type": "markdown",
   "id": "d8e642b3-141d-4ee9-9ecc-c7f9881c9c5d",
   "metadata": {},
   "source": [
    "### 클래스 메소드 /  인스턴스 메소드 / 스태틱 메소드\n",
    "\n",
    "```python\n",
    "class MyClass():\n",
    "    def instance_method(self): # 인스턴스화된 \n",
    "        pass\n",
    "\n",
    "    @classmethod\n",
    "    def class_method(cls):\n",
    "        pass\n",
    "\n",
    "   @staticmethod\n",
    "    def static_method():\n",
    "        pass\n",
    "```        "
   ]
  },
  {
   "cell_type": "code",
   "execution_count": 289,
   "id": "5098a656-c8fe-41c8-ad6c-26978fbbcbc5",
   "metadata": {},
   "outputs": [],
   "source": [
    "class MyClass():\n",
    "    def instance_method(self):\n",
    "        print(self)\n",
    "\n",
    "    @classmethod\n",
    "    def class_method(cls):\n",
    "        print(cls)\n",
    "\n",
    "    @staticmethod\n",
    "    def static_method():\n",
    "        print('static')"
   ]
  },
  {
   "cell_type": "code",
   "execution_count": 296,
   "id": "3892ea75-85f9-4d10-b064-34aeb6471808",
   "metadata": {},
   "outputs": [
    {
     "name": "stdout",
     "output_type": "stream",
     "text": [
      "<__main__.MyClass object at 0x000001FD05FF8950>\n",
      "<__main__.MyClass object at 0x000001FD05FF8950>\n"
     ]
    }
   ],
   "source": [
    "mc = MyClass()\n",
    "mc.instance_method() # = > self\n",
    "print(mc)"
   ]
  },
  {
   "cell_type": "code",
   "execution_count": 297,
   "id": "78b3ddcc-d48e-4b79-9c9d-9c722c74345e",
   "metadata": {},
   "outputs": [
    {
     "name": "stdout",
     "output_type": "stream",
     "text": [
      "<class '__main__.MyClass'>\n",
      "<class '__main__.MyClass'>\n"
     ]
    }
   ],
   "source": [
    "mc.class_method() # => cls\n",
    "print(MyClass)"
   ]
  },
  {
   "cell_type": "code",
   "execution_count": 310,
   "id": "79aeab1c-0c9c-40a2-aba4-f5cad6c1fbaa",
   "metadata": {},
   "outputs": [],
   "source": [
    "class Puppy():\n",
    "    num_of_puppy = 0\n",
    "    \n",
    "    def __init__(self, name):\n",
    "        self.name = name\n",
    "        Puppy.num_of_puppy += 1 \n",
    "\n",
    "    @classmethod\n",
    "    def info(cls): # 클래스가 가지고 있는 정보라서\n",
    "        print(f'현재 강아지는 {cls.num_of_puppy}마리 입니다.')\n",
    "   # @instancemethod 가 생략된것\n",
    "    def bark(self):\n",
    "        print(f'멍멍!! {self.name}입니다.')\n",
    "\n",
    "    @staticmethod\n",
    "    def bark2():\n",
    "        print('왈왈!')"
   ]
  },
  {
   "cell_type": "code",
   "execution_count": 312,
   "id": "9652639e-b136-4f9a-a1e8-63d60cfd6981",
   "metadata": {},
   "outputs": [
    {
     "name": "stdout",
     "output_type": "stream",
     "text": [
      "현재 강아지는 6마리 입니다.\n",
      "멍멍!! 초코입니다.\n",
      "왈왈!\n"
     ]
    }
   ],
   "source": [
    "p1 = Puppy('초코')\n",
    "p2 = Puppy('구름')\n",
    "p3 = Puppy('인절미')\n",
    "\n",
    "Puppy.info()\n",
    "Puppy.bark(p1)\n",
    "Puppy.bark2()"
   ]
  },
  {
   "cell_type": "markdown",
   "id": "e9a9118f-87e0-4c1c-90cf-b789ca61c45a",
   "metadata": {},
   "source": [
    "- 클래스\n",
    "    - 데이터/변수/속성 = attribute\n",
    "        - 클래스 변수\n",
    "        - 인스턴스 변수\n",
    "    - 기능/동작/함수 = method\n",
    "        -클래스 변수에 접근하려면 클래스 메소드 사용\n",
    "        - 인스턴스 변수에 접근하려면 인스턴스 메소드 사용\n",
    "        - 둘다 필요없는 경우 스태틱 메소드 사용"
   ]
  },
  {
   "cell_type": "markdown",
   "id": "22c598ac-0bef-4d8e-8eb9-3db765f0025d",
   "metadata": {},
   "source": [
    "## 상속"
   ]
  },
  {
   "cell_type": "code",
   "execution_count": 320,
   "id": "aec643ab-cda4-4fae-a7d0-cca4fda86393",
   "metadata": {},
   "outputs": [],
   "source": [
    "class Person():\n",
    "    ident = ''\n",
    "\n",
    "    def __init__(self, name):\n",
    "        self.name = name\n",
    "\n",
    "    def greeting(self):\n",
    "        print(f'안녕하세요 {self.name}입니다.')"
   ]
  },
  {
   "cell_type": "code",
   "execution_count": 322,
   "id": "0dac3c30-c229-4835-a239-03dc9a09e616",
   "metadata": {},
   "outputs": [],
   "source": [
    "p1 = Person('Hong')\n",
    "p2 = Person('Kim')"
   ]
  },
  {
   "cell_type": "code",
   "execution_count": 331,
   "id": "35d75eb6-333e-42ad-b4f4-41c3550c37ad",
   "metadata": {},
   "outputs": [
    {
     "name": "stdout",
     "output_type": "stream",
     "text": [
      "안녕하세요 Hong입니다.\n",
      "안녕하세요 Kim입니다.\n"
     ]
    }
   ],
   "source": [
    "p1.greeting()\n",
    "p2.greeting()"
   ]
  },
  {
   "cell_type": "code",
   "execution_count": 332,
   "id": "1714be83-0084-4379-a45e-f0282975e819",
   "metadata": {},
   "outputs": [
    {
     "data": {
      "text/plain": [
       "'999999-111111'"
      ]
     },
     "execution_count": 332,
     "metadata": {},
     "output_type": "execute_result"
    }
   ],
   "source": [
    "p1.ident = '999999-111111'\n",
    "p1.ident"
   ]
  },
  {
   "cell_type": "code",
   "execution_count": 344,
   "id": "7544ff06-a395-458a-b7e9-56633e171785",
   "metadata": {},
   "outputs": [],
   "source": [
    "class Soldier(Person): # Person을 상속받음 -  person의 정보를 다 가져옴, Person의 코드를 다 받아옴\n",
    "    def greeting(self):\n",
    "        print(f'충성! {self.name} 입니다.')\n",
    "    "
   ]
  },
  {
   "cell_type": "code",
   "execution_count": 343,
   "id": "3cb5d13b-1209-4ffe-86be-ee778de043a4",
   "metadata": {},
   "outputs": [
    {
     "name": "stdout",
     "output_type": "stream",
     "text": [
      "충성! 굳건이 입니다.\n"
     ]
    }
   ],
   "source": [
    "s1 = Soldier('굳건이')\n",
    "s1.greeting() # 부모보다 자식이 더 우선 (상속받은것보다 우선순위가 높음)\n",
    "# s1.soldier_greeting()\n"
   ]
  },
  {
   "cell_type": "code",
   "execution_count": 336,
   "id": "8fc75b85-3347-4e64-af47-bd71b150e3f3",
   "metadata": {},
   "outputs": [
    {
     "data": {
      "text/plain": [
       "'25-12341234'"
      ]
     },
     "execution_count": 336,
     "metadata": {},
     "output_type": "execute_result"
    }
   ],
   "source": [
    "s1.ident = '25-12341234' # 군번 입력\n",
    "s1.ident"
   ]
  },
  {
   "cell_type": "code",
   "execution_count": 345,
   "id": "fdb81cc5-7a5f-4bff-86d2-e26d28562d71",
   "metadata": {},
   "outputs": [
    {
     "name": "stdout",
     "output_type": "stream",
     "text": [
      "충성! 굳건이 입니다.\n"
     ]
    }
   ],
   "source": [
    "s1.greeting()"
   ]
  },
  {
   "cell_type": "code",
   "execution_count": 15,
   "id": "ef2f3923-77de-4d87-b40e-dd0632b877f5",
   "metadata": {},
   "outputs": [],
   "source": [
    "class Person():\n",
    "    def __init__(self, name, age, email, phone):\n",
    "        self.name = name\n",
    "        self.age = age\n",
    "        self.email = email\n",
    "        self.phone = phone\n",
    "\n",
    "class Student(Person):\n",
    "    def __init__(self, name, age, email, phone, student_id):\n",
    "        super().__init__(self, name, age, email, phone) # 부모가 갖고있는 함수를 갖고옴\n",
    "    # self.name = name\n",
    "    # self.age = age\n",
    "    # self.email = email\n",
    "    # self.phone = phone # person의 데이터가 저장되어 있는것임\n",
    "        self.student_id = student_id"
   ]
  },
  {
   "cell_type": "markdown",
   "id": "e7f15308-2ec5-4bd8-8ded-f614266d1afe",
   "metadata": {},
   "source": [
    "### 다중상속\n",
    "- 여러개의 부모를 가질때"
   ]
  },
  {
   "cell_type": "code",
   "execution_count": 353,
   "id": "12e1e011-c3d9-4463-b372-d2320c932a50",
   "metadata": {},
   "outputs": [],
   "source": [
    "class Person():\n",
    "    def __init__(self, name):\n",
    "        self.name = name\n",
    "    \n",
    "    def breath(self):\n",
    "        print('후하')"
   ]
  },
  {
   "cell_type": "code",
   "execution_count": 361,
   "id": "d74ba034-bece-47dc-8540-ea036266d2af",
   "metadata": {},
   "outputs": [],
   "source": [
    "class Mom(Person):\n",
    "    gene = 'xy'\n",
    "\n",
    "    def swim(self):\n",
    "        print('어푸어푸')"
   ]
  },
  {
   "cell_type": "code",
   "execution_count": 362,
   "id": "e84adb1b-3466-40cd-8bf8-f50dc2187c22",
   "metadata": {},
   "outputs": [],
   "source": [
    "class Dad(Person):\n",
    "    gene = 'xx'\n",
    "\n",
    "    def run(self):\n",
    "        print('다다다')"
   ]
  },
  {
   "cell_type": "code",
   "execution_count": 364,
   "id": "c3dc929e-6dd4-4028-a0f4-3e5507decb6c",
   "metadata": {},
   "outputs": [],
   "source": [
    "class Child(Mom, Dad):\n",
    "    pass"
   ]
  },
  {
   "cell_type": "code",
   "execution_count": 369,
   "id": "7770b55c-2fa3-4767-8187-7aa104c62953",
   "metadata": {},
   "outputs": [
    {
     "name": "stdout",
     "output_type": "stream",
     "text": [
      "후하\n",
      "다다다\n",
      "어푸어푸\n"
     ]
    }
   ],
   "source": [
    "c = Child('금쪽이')\n",
    "# 부모가 할 수 있는 능력을 다 가져옴\n",
    "c.breath()\n",
    "c.run()\n",
    "c.swim()"
   ]
  },
  {
   "cell_type": "code",
   "execution_count": 371,
   "id": "154cf796-e036-4bb5-98f6-52e3f35b422d",
   "metadata": {},
   "outputs": [
    {
     "data": {
      "text/plain": [
       "'xy'"
      ]
     },
     "execution_count": 371,
     "metadata": {},
     "output_type": "execute_result"
    }
   ],
   "source": [
    "c.gene # 우선순위가 상속을 먼저 해준 Mom의 상속을 먼저 따름"
   ]
  }
 ],
 "metadata": {
  "kernelspec": {
   "display_name": "Python 3 (ipykernel)",
   "language": "python",
   "name": "python3"
  },
  "language_info": {
   "codemirror_mode": {
    "name": "ipython",
    "version": 3
   },
   "file_extension": ".py",
   "mimetype": "text/x-python",
   "name": "python",
   "nbconvert_exporter": "python",
   "pygments_lexer": "ipython3",
   "version": "3.13.2"
  }
 },
 "nbformat": 4,
 "nbformat_minor": 5
}
