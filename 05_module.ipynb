{
 "cells": [
  {
   "cell_type": "markdown",
   "id": "a08c22f0-b6cf-420f-900a-71205785faa2",
   "metadata": {},
   "source": [
    "# 모듈"
   ]
  },
  {
   "cell_type": "code",
   "execution_count": 1,
   "id": "e66d0b77-039d-4247-87e1-bf63f2dc3b74",
   "metadata": {},
   "outputs": [],
   "source": [
    "import fact"
   ]
  },
  {
   "cell_type": "code",
   "execution_count": 2,
   "id": "12732c35-2ec9-4f07-8348-e287fe0dbdfc",
   "metadata": {},
   "outputs": [
    {
     "name": "stdout",
     "output_type": "stream",
     "text": [
      "<module 'fact' from 'C:\\\\Users\\\\yerin\\\\Desktop\\\\DAMF\\\\python\\\\fact.py'>\n"
     ]
    }
   ],
   "source": [
    "print(fact)"
   ]
  },
  {
   "cell_type": "code",
   "execution_count": 3,
   "id": "3f4fe6c4-73bf-441e-a377-70f5734f1857",
   "metadata": {},
   "outputs": [
    {
     "data": {
      "text/plain": [
       "120"
      ]
     },
     "execution_count": 3,
     "metadata": {},
     "output_type": "execute_result"
    }
   ],
   "source": [
    "fact.factorial(5)"
   ]
  },
  {
   "cell_type": "code",
   "execution_count": 5,
   "id": "e12f4c27-a6ac-43af-974d-9794dc4b5aed",
   "metadata": {},
   "outputs": [
    {
     "data": {
      "text/plain": [
       "3"
      ]
     },
     "execution_count": 5,
     "metadata": {},
     "output_type": "execute_result"
    }
   ],
   "source": [
    "fact.my_max(2, 3)"
   ]
  },
  {
   "cell_type": "markdown",
   "id": "bf99fb64-18b1-430e-ba5d-72b3b298640d",
   "metadata": {},
   "source": [
    "# 패키지\n",
    "```\n",
    "myPackage/\n",
    "    __init__.py\n",
    "    math/\n",
    "        __init__.py\n",
    "```\n",
    "- 패키지 안에 `__init__.py` 파일이 존재해야 패키지로 인식"
   ]
  },
  {
   "cell_type": "code",
   "execution_count": 9,
   "id": "69dbfcaf-d0de-4445-98b8-d7b2db1a32a2",
   "metadata": {},
   "outputs": [],
   "source": [
    "import myPackage"
   ]
  },
  {
   "cell_type": "code",
   "execution_count": 13,
   "id": "056f7e40-d865-40bb-8ae9-345bea1bf96c",
   "metadata": {},
   "outputs": [
    {
     "name": "stdout",
     "output_type": "stream",
     "text": [
      "<module 'myPackage' from 'C:\\\\Users\\\\yerin\\\\Desktop\\\\DAMF\\\\python\\\\myPackage\\\\__init__.py'>\n"
     ]
    }
   ],
   "source": [
    "print(myPackage)"
   ]
  },
  {
   "cell_type": "code",
   "execution_count": 26,
   "id": "cac5a4d1-ae3a-4af8-987d-3e38131fc046",
   "metadata": {},
   "outputs": [],
   "source": [
    "from myPackage.math.fomula import my_max"
   ]
  },
  {
   "cell_type": "code",
   "execution_count": 27,
   "id": "d2b45133-abe0-4708-9926-663c2cecadb4",
   "metadata": {},
   "outputs": [
    {
     "data": {
      "text/plain": [
       "3"
      ]
     },
     "execution_count": 27,
     "metadata": {},
     "output_type": "execute_result"
    }
   ],
   "source": [
    "my_max(2,3)"
   ]
  },
  {
   "cell_type": "code",
   "execution_count": 30,
   "id": "4547d128-dccd-48ff-9dee-931ca77c8e9b",
   "metadata": {},
   "outputs": [
    {
     "name": "stdout",
     "output_type": "stream",
     "text": [
      "3.14\n"
     ]
    }
   ],
   "source": [
    "from myPackage.math.fomula import *\n",
    "print(pi)"
   ]
  },
  {
   "cell_type": "code",
   "execution_count": 32,
   "id": "c092cbb0-b90c-48c4-8449-2af5ccd54df3",
   "metadata": {},
   "outputs": [
    {
     "name": "stdout",
     "output_type": "stream",
     "text": [
      "1234\n",
      "<module 'myPackage.math.fomula' from 'C:\\\\Users\\\\yerin\\\\Desktop\\\\DAMF\\\\python\\\\myPackage\\\\math\\\\fomula.py'>\n"
     ]
    }
   ],
   "source": [
    "fomula = 1234\n",
    "from myPackage.math import fomula as f\n",
    "print(fomula)\n",
    "print(f)"
   ]
  },
  {
   "cell_type": "markdown",
   "id": "993271c9-67cd-4d37-8cd4-102be1a0dca8",
   "metadata": {},
   "source": [
    "## 파이썬 내장 패키지"
   ]
  },
  {
   "cell_type": "code",
   "execution_count": 35,
   "id": "59ae5b75-c9ad-47e5-a3bd-edd267780d0d",
   "metadata": {},
   "outputs": [],
   "source": [
    "import math"
   ]
  },
  {
   "cell_type": "code",
   "execution_count": 37,
   "id": "e4b183b9-e02b-419a-9d2e-6d146e975af1",
   "metadata": {},
   "outputs": [
    {
     "data": {
      "text/plain": [
       "3.141592653589793"
      ]
     },
     "execution_count": 37,
     "metadata": {},
     "output_type": "execute_result"
    }
   ],
   "source": [
    "math.pi"
   ]
  },
  {
   "cell_type": "code",
   "execution_count": 39,
   "id": "058c7754-95e4-4815-82cd-e1d680b6dbcb",
   "metadata": {},
   "outputs": [
    {
     "data": {
      "text/plain": [
       "2.718281828459045"
      ]
     },
     "execution_count": 39,
     "metadata": {},
     "output_type": "execute_result"
    }
   ],
   "source": [
    "math.e"
   ]
  },
  {
   "cell_type": "code",
   "execution_count": 43,
   "id": "b8b90b6b-fb01-4e42-ad4d-948aca24b8f7",
   "metadata": {},
   "outputs": [
    {
     "data": {
      "text/plain": [
       "3"
      ]
     },
     "execution_count": 43,
     "metadata": {},
     "output_type": "execute_result"
    }
   ],
   "source": [
    "math.ceil(math.e) # 올림"
   ]
  },
  {
   "cell_type": "code",
   "execution_count": 45,
   "id": "21e797e6-b610-428b-b025-e2a4d03e5729",
   "metadata": {},
   "outputs": [
    {
     "data": {
      "text/plain": [
       "2"
      ]
     },
     "execution_count": 45,
     "metadata": {},
     "output_type": "execute_result"
    }
   ],
   "source": [
    "math.floor(math.e) # 내림"
   ]
  },
  {
   "cell_type": "code",
   "execution_count": 49,
   "id": "40d04a92-9d16-43cf-861b-f6dd814025c2",
   "metadata": {},
   "outputs": [
    {
     "data": {
      "text/plain": [
       "3.0"
      ]
     },
     "execution_count": 49,
     "metadata": {},
     "output_type": "execute_result"
    }
   ],
   "source": [
    "math.sqrt(9) # 루트"
   ]
  },
  {
   "cell_type": "code",
   "execution_count": 50,
   "id": "18c66849-6141-49da-900f-7560b4b21004",
   "metadata": {},
   "outputs": [
    {
     "data": {
      "text/plain": [
       "3628800"
      ]
     },
     "execution_count": 50,
     "metadata": {},
     "output_type": "execute_result"
    }
   ],
   "source": [
    "math.factorial(10)"
   ]
  },
  {
   "cell_type": "code",
   "execution_count": 56,
   "id": "c1524297-eeda-41f9-9256-4586d90784a8",
   "metadata": {},
   "outputs": [],
   "source": [
    "from math import sqrt, factorial # math함수를 몇가지 사용"
   ]
  },
  {
   "cell_type": "code",
   "execution_count": 54,
   "id": "2ca399af-4b17-45c7-8f14-34946f44cd35",
   "metadata": {},
   "outputs": [
    {
     "data": {
      "text/plain": [
       "4.0"
      ]
     },
     "execution_count": 54,
     "metadata": {},
     "output_type": "execute_result"
    }
   ],
   "source": [
    "sqrt(16)"
   ]
  },
  {
   "cell_type": "code",
   "execution_count": 55,
   "id": "a5b0dd76-983f-42f8-aa69-305e8ba0afad",
   "metadata": {},
   "outputs": [
    {
     "data": {
      "text/plain": [
       "120"
      ]
     },
     "execution_count": 55,
     "metadata": {},
     "output_type": "execute_result"
    }
   ],
   "source": [
    "factorial(5)"
   ]
  },
  {
   "cell_type": "markdown",
   "id": "b9721692-0006-4aa6-8121-ce317c4b20f1",
   "metadata": {},
   "source": [
    "## random"
   ]
  },
  {
   "cell_type": "code",
   "execution_count": 58,
   "id": "c3aa7b83-d7de-4a5a-a4d1-f8ca4549607c",
   "metadata": {},
   "outputs": [],
   "source": [
    "import random"
   ]
  },
  {
   "cell_type": "code",
   "execution_count": 62,
   "id": "341e285a-a5d3-4e8c-8729-7b2462f10329",
   "metadata": {},
   "outputs": [
    {
     "data": {
      "text/plain": [
       "0.29485399910310706"
      ]
     },
     "execution_count": 62,
     "metadata": {},
     "output_type": "execute_result"
    }
   ],
   "source": [
    "random.random() # 앞에 random은 폴더 느낌 # 0~1 사이의 랜덤 소수를 만들어내는것"
   ]
  },
  {
   "cell_type": "code",
   "execution_count": 77,
   "id": "d84230ef-f6da-4e20-972f-10438624f67c",
   "metadata": {},
   "outputs": [
    {
     "data": {
      "text/plain": [
       "1"
      ]
     },
     "execution_count": 77,
     "metadata": {},
     "output_type": "execute_result"
    }
   ],
   "source": [
    "random.randint(1,10) # 내가 지정한 범위내에서 랜덤한 숫자"
   ]
  },
  {
   "cell_type": "raw",
   "id": "e444c253-3d1a-438b-bed1-6f0d4a5f3eb3",
   "metadata": {},
   "source": []
  },
  {
   "cell_type": "code",
   "execution_count": 72,
   "id": "1c5b70bd-cb70-4dad-a2a1-a527b825d777",
   "metadata": {},
   "outputs": [
    {
     "data": {
      "text/plain": [
       "0.052363598850944326"
      ]
     },
     "execution_count": 72,
     "metadata": {},
     "output_type": "execute_result"
    }
   ],
   "source": [
    "random.seed(123) #  똑같은 값을 나오게 함\n",
    "random.random()"
   ]
  },
  {
   "cell_type": "code",
   "execution_count": 74,
   "id": "a079dccc-0573-4391-8b0f-ea7a7dc2ed0c",
   "metadata": {},
   "outputs": [],
   "source": [
    "numbers = [1, 2, 3, 4, 5]"
   ]
  },
  {
   "cell_type": "code",
   "execution_count": 79,
   "id": "ac726d77-da83-497c-9a52-0dacdb6f337b",
   "metadata": {},
   "outputs": [
    {
     "name": "stdout",
     "output_type": "stream",
     "text": [
      "[1, 5, 2, 4, 3]\n"
     ]
    }
   ],
   "source": [
    "random.shuffle(numbers) # 섞을 때\n",
    "print(numbers)"
   ]
  },
  {
   "cell_type": "code",
   "execution_count": 96,
   "id": "15893433-4634-4708-9d4e-6309ffc93f82",
   "metadata": {},
   "outputs": [
    {
     "name": "stdout",
     "output_type": "stream",
     "text": [
      "3\n",
      "3\n"
     ]
    }
   ],
   "source": [
    "print(random.choice(numbers)) # 무작위로 뽑을 때\n",
    "print(random.choice(numbers)) # 두개를 뽑고싶어도 중복될수있음"
   ]
  },
  {
   "cell_type": "code",
   "execution_count": 97,
   "id": "0029d8d8-18d9-410a-9beb-db72ba269af5",
   "metadata": {},
   "outputs": [
    {
     "data": {
      "text/plain": [
       "[3, 2]"
      ]
     },
     "execution_count": 97,
     "metadata": {},
     "output_type": "execute_result"
    }
   ],
   "source": [
    "random.sample(numbers, 2) # 몇개를 뽑을지 정하기"
   ]
  },
  {
   "cell_type": "markdown",
   "id": "7f77098d-80ac-42ed-90b7-ce5becda4409",
   "metadata": {},
   "source": [
    "### datetime\n",
    "- 날짜와 시간"
   ]
  },
  {
   "cell_type": "code",
   "execution_count": 100,
   "id": "9b4e4499-eff8-449b-9fe8-392adf958d41",
   "metadata": {},
   "outputs": [],
   "source": [
    "from datetime import datetime"
   ]
  },
  {
   "cell_type": "code",
   "execution_count": 102,
   "id": "9c7dc93e-3f8b-4d17-9f13-250c95686a92",
   "metadata": {},
   "outputs": [
    {
     "data": {
      "text/plain": [
       "datetime.datetime(2025, 2, 18, 14, 39, 14, 669133)"
      ]
     },
     "execution_count": 102,
     "metadata": {},
     "output_type": "execute_result"
    }
   ],
   "source": [
    "datetime.now()"
   ]
  },
  {
   "cell_type": "code",
   "execution_count": 104,
   "id": "ae67068b-9ce6-45c8-a081-dfec71a8465b",
   "metadata": {},
   "outputs": [
    {
     "data": {
      "text/plain": [
       "<function datetime.today()>"
      ]
     },
     "execution_count": 104,
     "metadata": {},
     "output_type": "execute_result"
    }
   ],
   "source": [
    "datetime.today"
   ]
  },
  {
   "cell_type": "code",
   "execution_count": 110,
   "id": "9b208f11-cb7a-4f63-be1c-daa92736c179",
   "metadata": {},
   "outputs": [],
   "source": [
    "# # datetime.utcnow() # 곧 없어질 코드\n",
    "# datetime.now(timezone.utc) # 새로 나올 코드 아직 반영안됨"
   ]
  },
  {
   "cell_type": "code",
   "execution_count": 112,
   "id": "8484cddd-29ad-42fe-bc84-956a89f678e6",
   "metadata": {},
   "outputs": [],
   "source": [
    "now = datetime.now()"
   ]
  },
  {
   "cell_type": "code",
   "execution_count": 115,
   "id": "d86fd48b-9cd5-40e8-8de8-48bc6ab54a41",
   "metadata": {},
   "outputs": [
    {
     "data": {
      "text/plain": [
       "datetime.datetime(2025, 2, 18, 14, 44, 14, 600299)"
      ]
     },
     "execution_count": 115,
     "metadata": {},
     "output_type": "execute_result"
    }
   ],
   "source": [
    "now # 위에 코드를 실행한 시간에 데이터가 저장되어 멈춰있음"
   ]
  },
  {
   "cell_type": "code",
   "execution_count": 117,
   "id": "e9236df6-171f-421b-8dc0-67dfc6d2b1c8",
   "metadata": {},
   "outputs": [
    {
     "data": {
      "text/plain": [
       "2025"
      ]
     },
     "execution_count": 117,
     "metadata": {},
     "output_type": "execute_result"
    }
   ],
   "source": [
    "now.year"
   ]
  },
  {
   "cell_type": "code",
   "execution_count": 119,
   "id": "96c9e03d-52cd-4339-9ba2-2554c357ed10",
   "metadata": {},
   "outputs": [
    {
     "data": {
      "text/plain": [
       "2"
      ]
     },
     "execution_count": 119,
     "metadata": {},
     "output_type": "execute_result"
    }
   ],
   "source": [
    "now.month"
   ]
  },
  {
   "cell_type": "code",
   "execution_count": 121,
   "id": "6d77f38c-16cf-43a5-8297-7c6269433769",
   "metadata": {},
   "outputs": [
    {
     "data": {
      "text/plain": [
       "18"
      ]
     },
     "execution_count": 121,
     "metadata": {},
     "output_type": "execute_result"
    }
   ],
   "source": [
    "now.day"
   ]
  },
  {
   "cell_type": "code",
   "execution_count": 122,
   "id": "dd893c70-a023-48b1-853b-c4fa35e40258",
   "metadata": {},
   "outputs": [
    {
     "data": {
      "text/plain": [
       "1"
      ]
     },
     "execution_count": 122,
     "metadata": {},
     "output_type": "execute_result"
    }
   ],
   "source": [
    "now.weekday()"
   ]
  },
  {
   "cell_type": "code",
   "execution_count": 123,
   "id": "102e2633-54f9-4118-981b-dbdbf2c030b0",
   "metadata": {},
   "outputs": [
    {
     "name": "stdout",
     "output_type": "stream",
     "text": [
      "2025-02-18 14:44:14.600299\n"
     ]
    }
   ],
   "source": [
    "print(now)"
   ]
  },
  {
   "cell_type": "code",
   "execution_count": 131,
   "id": "a05433b3-1475-4d49-8926-7a91cc6b54eb",
   "metadata": {},
   "outputs": [
    {
     "data": {
      "text/plain": [
       "'2025년 02월 18일'"
      ]
     },
     "execution_count": 131,
     "metadata": {},
     "output_type": "execute_result"
    }
   ],
   "source": [
    "now.strftime('%Y년 %m월 %d일')\n",
    "# 내가 원하는 방식으로 작성하기"
   ]
  },
  {
   "cell_type": "code",
   "execution_count": 132,
   "id": "f271bb20-c29a-4b08-8733-fac20a6f9cb4",
   "metadata": {},
   "outputs": [
    {
     "data": {
      "text/plain": [
       "'2025년 Feb월 18일'"
      ]
     },
     "execution_count": 132,
     "metadata": {},
     "output_type": "execute_result"
    }
   ],
   "source": [
    "\n",
    "now.strftime('%Y년 %b월 %d일')\n"
   ]
  },
  {
   "cell_type": "code",
   "execution_count": 134,
   "id": "c5a2071e-c9b2-400a-903c-dd79f122689c",
   "metadata": {},
   "outputs": [
    {
     "name": "stdout",
     "output_type": "stream",
     "text": [
      "2025-12-25 00:00:00\n"
     ]
    }
   ],
   "source": [
    "x_mas = datetime(2025, 12, 25)\n",
    "print(x_mas)"
   ]
  },
  {
   "cell_type": "code",
   "execution_count": 137,
   "id": "b3151bad-9c96-4f90-8735-5e6a3c43dcdf",
   "metadata": {},
   "outputs": [],
   "source": [
    "from datetime import timedelta # x-mas 기준으로 며칠 뒤 며칠 전 계산가능"
   ]
  },
  {
   "cell_type": "code",
   "execution_count": 140,
   "id": "3afab6d2-ebd5-4e10-987a-38205a494348",
   "metadata": {},
   "outputs": [
    {
     "name": "stdout",
     "output_type": "stream",
     "text": [
      "2025-12-28 00:00:00\n"
     ]
    }
   ],
   "source": [
    "future = timedelta(days=3)\n",
    "print(x_mas + future)"
   ]
  },
  {
   "cell_type": "code",
   "execution_count": 142,
   "id": "bec29c0e-9782-409a-9d73-9da3cea8a058",
   "metadata": {},
   "outputs": [
    {
     "name": "stdout",
     "output_type": "stream",
     "text": [
      "2025-09-16 00:00:00\n"
     ]
    }
   ],
   "source": [
    "past = timedelta(days= 100)\n",
    "print(x_mas - past)"
   ]
  },
  {
   "cell_type": "code",
   "execution_count": 145,
   "id": "be44a1f7-0de8-48fe-8b1f-0272a01d2a72",
   "metadata": {},
   "outputs": [
    {
     "data": {
      "text/plain": [
       "datetime.timedelta(days=309, seconds=33345, microseconds=399701)"
      ]
     },
     "execution_count": 145,
     "metadata": {},
     "output_type": "execute_result"
    }
   ],
   "source": [
    "x_mas - now # 크리스마스까지 얼마나 남았는지"
   ]
  },
  {
   "cell_type": "code",
   "execution_count": null,
   "id": "d52ea761-e5de-4cd5-bf0f-3247b1ea89d5",
   "metadata": {},
   "outputs": [],
   "source": []
  }
 ],
 "metadata": {
  "kernelspec": {
   "display_name": "Python 3 (ipykernel)",
   "language": "python",
   "name": "python3"
  },
  "language_info": {
   "codemirror_mode": {
    "name": "ipython",
    "version": 3
   },
   "file_extension": ".py",
   "mimetype": "text/x-python",
   "name": "python",
   "nbconvert_exporter": "python",
   "pygments_lexer": "ipython3",
   "version": "3.13.2"
  }
 },
 "nbformat": 4,
 "nbformat_minor": 5
}
